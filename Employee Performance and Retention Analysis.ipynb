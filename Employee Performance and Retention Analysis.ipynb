{
 "cells": [
  {
   "cell_type": "markdown",
   "id": "d5e7bf05",
   "metadata": {},
   "source": [
    "# Employee Performance and Retention Analysis\n",
    "**Author:** Vyomkesh Vyas  \n",
    "**Date Created:** 16th July 2025"
   ]
  },
  {
   "cell_type": "markdown",
   "id": "1097953a",
   "metadata": {},
   "source": [
    "This project aims to develop an Employee Performance and Retention Analysis using a real-world dataset. The goal is to apply concepts from probability, statistics, machine learning, and deep learning to analyze employee data and predict performance and retention trends.  "
   ]
  },
  {
   "cell_type": "code",
   "execution_count": 1,
   "id": "64879660",
   "metadata": {},
   "outputs": [],
   "source": [
    "# Importing necessary libraries\n",
    "import pandas as pd\n",
    "import numpy as np\n",
    "import matplotlib.pyplot as plt\n",
    "import seaborn as sns"
   ]
  },
  {
   "cell_type": "markdown",
   "id": "3721bbaf",
   "metadata": {},
   "source": [
    "### Data Collection and Preprocessing"
   ]
  },
  {
   "cell_type": "code",
   "execution_count": 2,
   "id": "9a1b4b0b",
   "metadata": {},
   "outputs": [
    {
     "data": {
      "text/html": [
       "<div>\n",
       "<style scoped>\n",
       "    .dataframe tbody tr th:only-of-type {\n",
       "        vertical-align: middle;\n",
       "    }\n",
       "\n",
       "    .dataframe tbody tr th {\n",
       "        vertical-align: top;\n",
       "    }\n",
       "\n",
       "    .dataframe thead th {\n",
       "        text-align: right;\n",
       "    }\n",
       "</style>\n",
       "<table border=\"1\" class=\"dataframe\">\n",
       "  <thead>\n",
       "    <tr style=\"text-align: right;\">\n",
       "      <th></th>\n",
       "      <th>EmployeeID</th>\n",
       "      <th>Name</th>\n",
       "      <th>Age</th>\n",
       "      <th>Department</th>\n",
       "      <th>Salary</th>\n",
       "      <th>YearsAtCompany</th>\n",
       "      <th>PerformanceScore</th>\n",
       "      <th>Attrition</th>\n",
       "    </tr>\n",
       "  </thead>\n",
       "  <tbody>\n",
       "    <tr>\n",
       "      <th>0</th>\n",
       "      <td>1</td>\n",
       "      <td>John Doe</td>\n",
       "      <td>29</td>\n",
       "      <td>Sales</td>\n",
       "      <td>55000</td>\n",
       "      <td>3</td>\n",
       "      <td>80</td>\n",
       "      <td>No</td>\n",
       "    </tr>\n",
       "    <tr>\n",
       "      <th>1</th>\n",
       "      <td>2</td>\n",
       "      <td>Jane Smith</td>\n",
       "      <td>35</td>\n",
       "      <td>HR</td>\n",
       "      <td>60000</td>\n",
       "      <td>7</td>\n",
       "      <td>85</td>\n",
       "      <td>No</td>\n",
       "    </tr>\n",
       "    <tr>\n",
       "      <th>2</th>\n",
       "      <td>3</td>\n",
       "      <td>Michael Brown</td>\n",
       "      <td>40</td>\n",
       "      <td>Engineering</td>\n",
       "      <td>80000</td>\n",
       "      <td>10</td>\n",
       "      <td>95</td>\n",
       "      <td>Yes</td>\n",
       "    </tr>\n",
       "    <tr>\n",
       "      <th>3</th>\n",
       "      <td>4</td>\n",
       "      <td>Emily Davis</td>\n",
       "      <td>28</td>\n",
       "      <td>Marketing</td>\n",
       "      <td>65000</td>\n",
       "      <td>5</td>\n",
       "      <td>78</td>\n",
       "      <td>No</td>\n",
       "    </tr>\n",
       "    <tr>\n",
       "      <th>4</th>\n",
       "      <td>5</td>\n",
       "      <td>David Johnson</td>\n",
       "      <td>50</td>\n",
       "      <td>Sales</td>\n",
       "      <td>75000</td>\n",
       "      <td>20</td>\n",
       "      <td>88</td>\n",
       "      <td>Yes</td>\n",
       "    </tr>\n",
       "  </tbody>\n",
       "</table>\n",
       "</div>"
      ],
      "text/plain": [
       "   EmployeeID           Name  Age   Department  Salary  YearsAtCompany  \\\n",
       "0           1       John Doe   29        Sales   55000               3   \n",
       "1           2     Jane Smith   35           HR   60000               7   \n",
       "2           3  Michael Brown   40  Engineering   80000              10   \n",
       "3           4    Emily Davis   28    Marketing   65000               5   \n",
       "4           5  David Johnson   50        Sales   75000              20   \n",
       "\n",
       "   PerformanceScore Attrition  \n",
       "0                80        No  \n",
       "1                85        No  \n",
       "2                95       Yes  \n",
       "3                78        No  \n",
       "4                88       Yes  "
      ]
     },
     "execution_count": 2,
     "metadata": {},
     "output_type": "execute_result"
    }
   ],
   "source": [
    "# Loading dataset\n",
    "employee_df = pd.read_csv('data/Employee_data.csv')\n",
    "employee_df.head()"
   ]
  },
  {
   "cell_type": "code",
   "execution_count": 3,
   "id": "545e0055",
   "metadata": {},
   "outputs": [
    {
     "name": "stdout",
     "output_type": "stream",
     "text": [
      "<class 'pandas.core.frame.DataFrame'>\n",
      "RangeIndex: 100 entries, 0 to 99\n",
      "Data columns (total 8 columns):\n",
      " #   Column            Non-Null Count  Dtype \n",
      "---  ------            --------------  ----- \n",
      " 0   EmployeeID        100 non-null    int64 \n",
      " 1   Name              100 non-null    object\n",
      " 2   Age               100 non-null    int64 \n",
      " 3   Department        100 non-null    object\n",
      " 4   Salary            100 non-null    int64 \n",
      " 5   YearsAtCompany    100 non-null    int64 \n",
      " 6   PerformanceScore  100 non-null    int64 \n",
      " 7   Attrition         100 non-null    object\n",
      "dtypes: int64(5), object(3)\n",
      "memory usage: 6.4+ KB\n"
     ]
    }
   ],
   "source": [
    "# Displaying basic information about the dataset\n",
    "employee_df.info()"
   ]
  },
  {
   "cell_type": "markdown",
   "id": "5f991a7c",
   "metadata": {},
   "source": [
    "### Exploratory Data Analysis (EDA)"
   ]
  },
  {
   "cell_type": "code",
   "execution_count": 4,
   "id": "a3664d5c",
   "metadata": {},
   "outputs": [
    {
     "data": {
      "image/png": "[encoded data removed]",
      "text/plain": [
       "<Figure size 1000x800 with 6 Axes>"
      ]
     },
     "metadata": {},
     "output_type": "display_data"
    }
   ],
   "source": [
    "# Plotting distribution of data\n",
    "plt.figure(figsize=(10,8))\n",
    "plt.subplot(3,2,1)\n",
    "sns.histplot(data=employee_df, x=\"Age\", bins=6)\n",
    "plt.title(\"Distribution of Age\")\n",
    "plt.xlabel(\"Age\")\n",
    "\n",
    "plt.subplot(3,2,2)\n",
    "sns.countplot(data=employee_df, x=\"Department\")\n",
    "plt.title(\"Distribution of Department\")\n",
    "plt.xlabel(\"Department\")\n",
    "\n",
    "plt.subplot(3,2,3)\n",
    "sns.histplot(data=employee_df, x=\"Salary\", bins=6)\n",
    "plt.title(\"Distribution of Salary\")\n",
    "plt.xlabel(\"Salary\")\n",
    "\n",
    "plt.subplot(3,2,4)\n",
    "sns.histplot(data=employee_df, x=\"YearsAtCompany\", bins=6)\n",
    "plt.title(\"Distribution of Years\")\n",
    "plt.xlabel(\"YearsAtCompany\")\n",
    "\n",
    "plt.subplot(3,2,5)\n",
    "sns.histplot(data=employee_df, x=\"PerformanceScore\", bins=6)\n",
    "plt.title(\"Distribution of Performance Score\")\n",
    "plt.xlabel(\"Performance Score\")\n",
    "\n",
    "plt.subplot(3,2,6)\n",
    "sns.countplot(data=employee_df, x=\"Attrition\")\n",
    "plt.title(\"Distribution of Attrition\")\n",
    "plt.xlabel(\"Attrition\")\n",
    "\n",
    "plt.tight_layout()\n",
    "plt.show()    "
   ]
  },
  {
   "cell_type": "code",
   "execution_count": 29,
   "id": "ade16696",
   "metadata": {},
   "outputs": [
    {
     "name": "stdout",
     "output_type": "stream",
     "text": [
      "Descriptive Statistics:\n",
      "\n"
     ]
    },
    {
     "data": {
      "text/html": [
       "<div>\n",
       "<style scoped>\n",
       "    .dataframe tbody tr th:only-of-type {\n",
       "        vertical-align: middle;\n",
       "    }\n",
       "\n",
       "    .dataframe tbody tr th {\n",
       "        vertical-align: top;\n",
       "    }\n",
       "\n",
       "    .dataframe thead th {\n",
       "        text-align: right;\n",
       "    }\n",
       "</style>\n",
       "<table border=\"1\" class=\"dataframe\">\n",
       "  <thead>\n",
       "    <tr style=\"text-align: right;\">\n",
       "      <th></th>\n",
       "      <th>Mean</th>\n",
       "      <th>Mode</th>\n",
       "      <th>Median</th>\n",
       "      <th>Variance</th>\n",
       "      <th>Standard Deviation</th>\n",
       "    </tr>\n",
       "  </thead>\n",
       "  <tbody>\n",
       "    <tr>\n",
       "      <th>Age</th>\n",
       "      <td>36.57</td>\n",
       "      <td>29</td>\n",
       "      <td>35.0</td>\n",
       "      <td>69.2</td>\n",
       "      <td>8.32</td>\n",
       "    </tr>\n",
       "    <tr>\n",
       "      <th>Salary</th>\n",
       "      <td>72820.0</td>\n",
       "      <td>68000</td>\n",
       "      <td>72000.0</td>\n",
       "      <td>159866262.63</td>\n",
       "      <td>12643.82</td>\n",
       "    </tr>\n",
       "    <tr>\n",
       "      <th>YearsAtCompany</th>\n",
       "      <td>10.8</td>\n",
       "      <td>2</td>\n",
       "      <td>10.0</td>\n",
       "      <td>40.46</td>\n",
       "      <td>6.36</td>\n",
       "    </tr>\n",
       "    <tr>\n",
       "      <th>PerformanceScore</th>\n",
       "      <td>84.94</td>\n",
       "      <td>80</td>\n",
       "      <td>85.5</td>\n",
       "      <td>40.32</td>\n",
       "      <td>6.35</td>\n",
       "    </tr>\n",
       "    <tr>\n",
       "      <th>Attrition</th>\n",
       "      <td>0.39</td>\n",
       "      <td>0</td>\n",
       "      <td>0.0</td>\n",
       "      <td>0.24</td>\n",
       "      <td>0.49</td>\n",
       "    </tr>\n",
       "  </tbody>\n",
       "</table>\n",
       "</div>"
      ],
      "text/plain": [
       "                     Mean   Mode   Median      Variance Standard Deviation\n",
       "Age                 36.57     29     35.0          69.2               8.32\n",
       "Salary            72820.0  68000  72000.0  159866262.63           12643.82\n",
       "YearsAtCompany       10.8      2     10.0         40.46               6.36\n",
       "PerformanceScore    84.94     80     85.5         40.32               6.35\n",
       "Attrition            0.39      0      0.0          0.24               0.49"
      ]
     },
     "execution_count": 29,
     "metadata": {},
     "output_type": "execute_result"
    }
   ],
   "source": [
    "# Displaying descriptive stats of numeric columns\n",
    "num_cols = employee_df.iloc[:,1:].select_dtypes(include=\"number\").columns.to_list()\n",
    "desc_stats = pd.DataFrame(index=num_cols,columns=[\"Mean\", \"Mode\", \"Median\", \"Variance\", \"Standard Deviation\"])\n",
    "\n",
    "for i in num_cols:\n",
    "    desc_stats.loc[i,\"Mean\"] = employee_df[i].mean().round(2)\n",
    "    desc_stats.loc[i,\"Mode\"] = employee_df[i].mode()[0]\n",
    "    desc_stats.loc[i,\"Median\"] = employee_df[i].median().round(2)\n",
    "    desc_stats.loc[i,\"Variance\"] = employee_df[i].var().round(2)\n",
    "    desc_stats.loc[i,\"Standard Deviation\"] = employee_df[i].std().round(2)\n",
    "\n",
    "print(\"Descriptive Statistics:\\n\")\n",
    "desc_stats"
   ]
  },
  {
   "cell_type": "code",
   "execution_count": 6,
   "id": "adf4feae",
   "metadata": {},
   "outputs": [
    {
     "data": {
      "text/plain": [
       "<seaborn.axisgrid.PairGrid at 0x1e51d8cb1d0>"
      ]
     },
     "execution_count": 6,
     "metadata": {},
     "output_type": "execute_result"
    },
    {
     "data": {
      "image/png": "[encoded data removed]",
      "text/plain": [
       "<Figure size 1000x1000 with 20 Axes>"
      ]
     },
     "metadata": {},
     "output_type": "display_data"
    }
   ],
   "source": [
    "# Pairwise distribution of data\n",
    "sns.pairplot(data=employee_df[num_cols])"
   ]
  },
  {
   "cell_type": "code",
   "execution_count": 7,
   "id": "7c973d5c",
   "metadata": {},
   "outputs": [
    {
     "data": {
      "text/plain": [
       "<Axes: >"
      ]
     },
     "execution_count": 7,
     "metadata": {},
     "output_type": "execute_result"
    },
    {
     "data": {
      "image/png": "[encoded data removed]",
      "text/plain": [
       "<Figure size 640x480 with 2 Axes>"
      ]
     },
     "metadata": {},
     "output_type": "display_data"
    }
   ],
   "source": [
    "# Displaying correlation matrix\n",
    "sns.heatmap(employee_df[num_cols].corr(),cmap=\"coolwarm\")"
   ]
  },
  {
   "cell_type": "code",
   "execution_count": 8,
   "id": "ed06b7be",
   "metadata": {},
   "outputs": [
    {
     "data": {
      "image/png": "[encoded data removed]",
      "text/plain": [
       "<Figure size 640x480 with 4 Axes>"
      ]
     },
     "metadata": {},
     "output_type": "display_data"
    }
   ],
   "source": [
    "# Checking for outliers\n",
    "for i in range(len(num_cols)):\n",
    "    plt.subplot(2,2,i+1)\n",
    "    sns.boxplot(data=employee_df, y=num_cols[i])\n",
    "plt.tight_layout()\n",
    "plt.show()\n"
   ]
  },
  {
   "cell_type": "markdown",
   "id": "6467fdfa",
   "metadata": {},
   "source": [
    "### Probability and Statistical Analysis"
   ]
  },
  {
   "cell_type": "code",
   "execution_count": 9,
   "id": "ae0d8ac6",
   "metadata": {},
   "outputs": [
    {
     "name": "stdout",
     "output_type": "stream",
     "text": [
      "Probability of Attriton by Performance Score: \n",
      "\n",
      "Performance_Interval\n",
      "70-75    0.02\n",
      "76-80    0.06\n",
      "81-85    0.08\n",
      "86-90    0.11\n",
      "91-95    0.12\n",
      "Name: Attrition, dtype: float64\n",
      "\n",
      "Probability of Attrition by Department: \n",
      "\n",
      "Department\n",
      "Engineering    0.12\n",
      "HR             0.09\n",
      "Marketing      0.04\n",
      "Sales          0.14\n",
      "Name: Attrition, dtype: float64\n"
     ]
    },
    {
     "name": "stderr",
     "output_type": "stream",
     "text": [
      "C:\\Users\\asus\\AppData\\Local\\Temp\\ipykernel_26324\\1259489431.py:11: FutureWarning: The default of observed=False is deprecated and will be changed to True in a future version of pandas. Pass observed=False to retain current behavior or observed=True to adopt the future default and silence this warning.\n",
      "  print(employee_df.groupby(\"Performance_Interval\")[\"Attrition\"].sum()/len(employee_df))\n"
     ]
    }
   ],
   "source": [
    "# Converting attrition column to numeric\n",
    "employee_df[\"Attrition\"] = employee_df[\"Attrition\"].map({\"Yes\":1,\"No\":0})\n",
    "\n",
    "# Converting performance score into intervals\n",
    "bins = [69, 75, 80, 85, 90, 95]\n",
    "labels = [\"70-75\", \"76-80\", \"81-85\", \"86-90\", \"91-95\"]\n",
    "employee_df[\"Performance_Interval\"] = pd.cut(employee_df[\"PerformanceScore\"], bins= bins, labels=labels)\n",
    "\n",
    "# Probability of Attrition by Performance Score\n",
    "print(\"Probability of Attriton by Performance Score: \\n\")\n",
    "print(employee_df.groupby(\"Performance_Interval\")[\"Attrition\"].sum()/len(employee_df))\n",
    "\n",
    "# Probability of Attrition by Department\n",
    "print(\"\\nProbability of Attrition by Department: \\n\")\n",
    "print(employee_df.groupby([\"Department\"])[\"Attrition\"].sum()/len(employee_df))"
   ]
  },
  {
   "cell_type": "code",
   "execution_count": 10,
   "id": "7fd55187",
   "metadata": {},
   "outputs": [
    {
     "name": "stderr",
     "output_type": "stream",
     "text": [
      "C:\\Users\\asus\\AppData\\Local\\Temp\\ipykernel_26324\\2007190141.py:15: FutureWarning: Setting an item of incompatible dtype is deprecated and will raise an error in a future version of pandas. Value '0.23' has dtype incompatible with int64, please explicitly cast to a compatible dtype first.\n",
      "  bayes_df.loc[i,\"P(Score)\"] = p_score\n",
      "C:\\Users\\asus\\AppData\\Local\\Temp\\ipykernel_26324\\2007190141.py:19: FutureWarning: Setting an item of incompatible dtype is deprecated and will raise an error in a future version of pandas. Value '0.15384615384615385' has dtype incompatible with int64, please explicitly cast to a compatible dtype first.\n",
      "  bayes_df.loc[i, \"P(Score|Attrition)\"] = p_score_given_attrition\n",
      "C:\\Users\\asus\\AppData\\Local\\Temp\\ipykernel_26324\\2007190141.py:23: FutureWarning: Setting an item of incompatible dtype is deprecated and will raise an error in a future version of pandas. Value '0.2608695652173913' has dtype incompatible with int64, please explicitly cast to a compatible dtype first.\n",
      "  bayes_df.loc[i, \"P(Attrition|Score)\"] = p_attrition_given_score\n"
     ]
    },
    {
     "data": {
      "text/html": [
       "<div>\n",
       "<style scoped>\n",
       "    .dataframe tbody tr th:only-of-type {\n",
       "        vertical-align: middle;\n",
       "    }\n",
       "\n",
       "    .dataframe tbody tr th {\n",
       "        vertical-align: top;\n",
       "    }\n",
       "\n",
       "    .dataframe thead th {\n",
       "        text-align: right;\n",
       "    }\n",
       "</style>\n",
       "<table border=\"1\" class=\"dataframe\">\n",
       "  <thead>\n",
       "    <tr style=\"text-align: right;\">\n",
       "      <th></th>\n",
       "      <th>P(Attrition)</th>\n",
       "      <th>P(Score)</th>\n",
       "      <th>P(Score|Attrition)</th>\n",
       "      <th>P(Attrition|Score)</th>\n",
       "    </tr>\n",
       "    <tr>\n",
       "      <th>Scores</th>\n",
       "      <th></th>\n",
       "      <th></th>\n",
       "      <th></th>\n",
       "      <th></th>\n",
       "    </tr>\n",
       "  </thead>\n",
       "  <tbody>\n",
       "    <tr>\n",
       "      <th>76-80</th>\n",
       "      <td>0.39</td>\n",
       "      <td>0.23</td>\n",
       "      <td>0.153846</td>\n",
       "      <td>0.260870</td>\n",
       "    </tr>\n",
       "    <tr>\n",
       "      <th>81-85</th>\n",
       "      <td>0.39</td>\n",
       "      <td>0.20</td>\n",
       "      <td>0.205128</td>\n",
       "      <td>0.400000</td>\n",
       "    </tr>\n",
       "    <tr>\n",
       "      <th>91-95</th>\n",
       "      <td>0.39</td>\n",
       "      <td>0.24</td>\n",
       "      <td>0.307692</td>\n",
       "      <td>0.500000</td>\n",
       "    </tr>\n",
       "    <tr>\n",
       "      <th>86-90</th>\n",
       "      <td>0.39</td>\n",
       "      <td>0.26</td>\n",
       "      <td>0.282051</td>\n",
       "      <td>0.423077</td>\n",
       "    </tr>\n",
       "    <tr>\n",
       "      <th>70-75</th>\n",
       "      <td>0.39</td>\n",
       "      <td>0.07</td>\n",
       "      <td>0.051282</td>\n",
       "      <td>0.285714</td>\n",
       "    </tr>\n",
       "  </tbody>\n",
       "</table>\n",
       "</div>"
      ],
      "text/plain": [
       "        P(Attrition)  P(Score)  P(Score|Attrition)  P(Attrition|Score)\n",
       "Scores                                                                \n",
       "76-80           0.39      0.23            0.153846            0.260870\n",
       "81-85           0.39      0.20            0.205128            0.400000\n",
       "91-95           0.39      0.24            0.307692            0.500000\n",
       "86-90           0.39      0.26            0.282051            0.423077\n",
       "70-75           0.39      0.07            0.051282            0.285714"
      ]
     },
     "execution_count": 10,
     "metadata": {},
     "output_type": "execute_result"
    }
   ],
   "source": [
    "# Applying Bayes theorem to find the probability of employee attrition given performance score\n",
    "scores = employee_df[\"Performance_Interval\"].unique()\n",
    "bayes_df = pd.DataFrame({\"P(Attrition)\":[0]*len(scores), \"P(Score)\":[0]*len(scores), \n",
    "                         \"P(Score|Attrition)\":[0]*len(scores), \"P(Attrition|Score)\":[0]*len(scores),\n",
    "                         \"Scores\":scores})\n",
    "bayes_df.set_index(\"Scores\",inplace=True)\n",
    "\n",
    "# P(Attrition)\n",
    "p_attrition = (employee_df['Attrition'] == 1).mean()\n",
    "bayes_df[\"P(Attrition)\"] = p_attrition\n",
    "\n",
    "for i in scores:\n",
    "    # P(Score)\n",
    "    p_score = (employee_df[\"Performance_Interval\"] == i).mean()\n",
    "    bayes_df.loc[i,\"P(Score)\"] = p_score\n",
    "\n",
    "    # P(Score | Attrition)\n",
    "    p_score_given_attrition = employee_df[employee_df['Attrition'] == 1][\"Performance_Interval\"].value_counts(normalize=True).get(i, 0)\n",
    "    bayes_df.loc[i, \"P(Score|Attrition)\"] = p_score_given_attrition\n",
    "\n",
    "    # Bayes’ Theorem\n",
    "    p_attrition_given_score = (p_score_given_attrition * p_attrition) / p_score\n",
    "    bayes_df.loc[i, \"P(Attrition|Score)\"] = p_attrition_given_score\n",
    "\n",
    "bayes_df\n"
   ]
  },
  {
   "cell_type": "code",
   "execution_count": 11,
   "id": "ce871ff7",
   "metadata": {},
   "outputs": [
    {
     "name": "stdout",
     "output_type": "stream",
     "text": [
      "F-statistic: 25.7811\n",
      "P-value: 0.0000\n",
      "Reject the null hypothesis: Mean performance scores differ across departments.\n"
     ]
    }
   ],
   "source": [
    "# Test whether mean performance score differs across departments\n",
    "from scipy.stats import f_oneway\n",
    "\n",
    "# Group the performance scores across department\n",
    "groups = employee_df.groupby(\"Department\")[\"PerformanceScore\"].apply(list)\n",
    "\n",
    "# Perform one way anova\n",
    "f_stat, p_value = f_oneway(*groups)\n",
    "\n",
    "print(f\"F-statistic: {f_stat:.4f}\")\n",
    "print(f\"P-value: {p_value:.4f}\")\n",
    "\n",
    "# Interpretation\n",
    "if p_value < 0.05:\n",
    "    print(\"Reject the null hypothesis: Mean performance scores differ across departments.\")\n",
    "else:\n",
    "    print(\"Fail to reject the null hypothesis: No significant difference in mean performance scores.\")"
   ]
  },
  {
   "cell_type": "markdown",
   "id": "b9f7743b",
   "metadata": {},
   "source": [
    "| Step        | Description                          |\n",
    "| ----------- | ------------------------------------ |\n",
    "| Test Used   | One-Way ANOVA (`f_oneway`)           |\n",
    "| Null Hyp.   | All departments have same mean score |\n",
    "| Alt. Hyp.   | At least one department differs      |\n",
    "| P-value     | < 0.05 means reject H₀               |\n",
    "| Assumptions | Normality, Homogeneity of variances  |"
   ]
  },
  {
   "cell_type": "code",
   "execution_count": 419,
   "id": "264ce41f",
   "metadata": {},
   "outputs": [
    {
     "data": {
      "image/png": "[encoded data removed]",
      "text/plain": [
       "<Figure size 640x480 with 1 Axes>"
      ]
     },
     "metadata": {},
     "output_type": "display_data"
    }
   ],
   "source": [
    "# Visualize with boxplot\n",
    "sns.boxplot(data=employee_df, x=\"Department\", y=\"PerformanceScore\")\n",
    "plt.title(\"Performance Scores across Departments\")\n",
    "plt.xlabel(\"Department\")\n",
    "plt.ylabel(\"PerformanceScore\")\n",
    "plt.show()"
   ]
  },
  {
   "cell_type": "markdown",
   "id": "6ed2b046",
   "metadata": {},
   "source": [
    "### Feature Engineering and Encoding"
   ]
  },
  {
   "cell_type": "code",
   "execution_count": 420,
   "id": "38303251",
   "metadata": {},
   "outputs": [
    {
     "data": {
      "text/html": [
       "<div>\n",
       "<style scoped>\n",
       "    .dataframe tbody tr th:only-of-type {\n",
       "        vertical-align: middle;\n",
       "    }\n",
       "\n",
       "    .dataframe tbody tr th {\n",
       "        vertical-align: top;\n",
       "    }\n",
       "\n",
       "    .dataframe thead th {\n",
       "        text-align: right;\n",
       "    }\n",
       "</style>\n",
       "<table border=\"1\" class=\"dataframe\">\n",
       "  <thead>\n",
       "    <tr style=\"text-align: right;\">\n",
       "      <th></th>\n",
       "      <th>EmployeeID</th>\n",
       "      <th>Name</th>\n",
       "      <th>Age</th>\n",
       "      <th>Department</th>\n",
       "      <th>Salary</th>\n",
       "      <th>YearsAtCompany</th>\n",
       "      <th>PerformanceScore</th>\n",
       "      <th>Attrition</th>\n",
       "      <th>Performance_Interval</th>\n",
       "    </tr>\n",
       "  </thead>\n",
       "  <tbody>\n",
       "    <tr>\n",
       "      <th>0</th>\n",
       "      <td>1</td>\n",
       "      <td>John Doe</td>\n",
       "      <td>-0.914607</td>\n",
       "      <td>Sales</td>\n",
       "      <td>-1.416484</td>\n",
       "      <td>-1.232364</td>\n",
       "      <td>-0.781900</td>\n",
       "      <td>0</td>\n",
       "      <td>76-80</td>\n",
       "    </tr>\n",
       "    <tr>\n",
       "      <th>1</th>\n",
       "      <td>2</td>\n",
       "      <td>Jane Smith</td>\n",
       "      <td>-0.189687</td>\n",
       "      <td>HR</td>\n",
       "      <td>-1.019042</td>\n",
       "      <td>-0.600383</td>\n",
       "      <td>0.009497</td>\n",
       "      <td>0</td>\n",
       "      <td>81-85</td>\n",
       "    </tr>\n",
       "    <tr>\n",
       "      <th>2</th>\n",
       "      <td>3</td>\n",
       "      <td>Michael Brown</td>\n",
       "      <td>0.414412</td>\n",
       "      <td>Engineering</td>\n",
       "      <td>0.570727</td>\n",
       "      <td>-0.126396</td>\n",
       "      <td>1.592290</td>\n",
       "      <td>1</td>\n",
       "      <td>91-95</td>\n",
       "    </tr>\n",
       "    <tr>\n",
       "      <th>3</th>\n",
       "      <td>4</td>\n",
       "      <td>Emily Davis</td>\n",
       "      <td>-1.035427</td>\n",
       "      <td>Marketing</td>\n",
       "      <td>-0.621600</td>\n",
       "      <td>-0.916373</td>\n",
       "      <td>-1.098459</td>\n",
       "      <td>0</td>\n",
       "      <td>76-80</td>\n",
       "    </tr>\n",
       "    <tr>\n",
       "      <th>4</th>\n",
       "      <td>5</td>\n",
       "      <td>David Johnson</td>\n",
       "      <td>1.622612</td>\n",
       "      <td>Sales</td>\n",
       "      <td>0.173285</td>\n",
       "      <td>1.453558</td>\n",
       "      <td>0.484335</td>\n",
       "      <td>1</td>\n",
       "      <td>86-90</td>\n",
       "    </tr>\n",
       "  </tbody>\n",
       "</table>\n",
       "</div>"
      ],
      "text/plain": [
       "   EmployeeID           Name       Age   Department    Salary  YearsAtCompany  \\\n",
       "0           1       John Doe -0.914607        Sales -1.416484       -1.232364   \n",
       "1           2     Jane Smith -0.189687           HR -1.019042       -0.600383   \n",
       "2           3  Michael Brown  0.414412  Engineering  0.570727       -0.126396   \n",
       "3           4    Emily Davis -1.035427    Marketing -0.621600       -0.916373   \n",
       "4           5  David Johnson  1.622612        Sales  0.173285        1.453558   \n",
       "\n",
       "   PerformanceScore  Attrition Performance_Interval  \n",
       "0         -0.781900          0                76-80  \n",
       "1          0.009497          0                81-85  \n",
       "2          1.592290          1                91-95  \n",
       "3         -1.098459          0                76-80  \n",
       "4          0.484335          1                86-90  "
      ]
     },
     "execution_count": 420,
     "metadata": {},
     "output_type": "execute_result"
    }
   ],
   "source": [
    "# Performing feature engineering and encoding\n",
    "from sklearn.preprocessing import StandardScaler\n",
    "from sklearn.preprocessing import LabelEncoder\n",
    "\n",
    "# Scaling numerical columns\n",
    "ss = StandardScaler()\n",
    "employee_df_t = employee_df.copy()\n",
    "employee_df_t[num_cols] = ss.fit_transform(employee_df_t[num_cols])\n",
    "employee_df_t.head()"
   ]
  },
  {
   "cell_type": "code",
   "execution_count": 421,
   "id": "4a21eedb",
   "metadata": {},
   "outputs": [
    {
     "data": {
      "text/html": [
       "<div>\n",
       "<style scoped>\n",
       "    .dataframe tbody tr th:only-of-type {\n",
       "        vertical-align: middle;\n",
       "    }\n",
       "\n",
       "    .dataframe tbody tr th {\n",
       "        vertical-align: top;\n",
       "    }\n",
       "\n",
       "    .dataframe thead th {\n",
       "        text-align: right;\n",
       "    }\n",
       "</style>\n",
       "<table border=\"1\" class=\"dataframe\">\n",
       "  <thead>\n",
       "    <tr style=\"text-align: right;\">\n",
       "      <th></th>\n",
       "      <th>EmployeeID</th>\n",
       "      <th>Name</th>\n",
       "      <th>Age</th>\n",
       "      <th>Department</th>\n",
       "      <th>Salary</th>\n",
       "      <th>YearsAtCompany</th>\n",
       "      <th>PerformanceScore</th>\n",
       "      <th>Attrition</th>\n",
       "      <th>Performance_Interval</th>\n",
       "    </tr>\n",
       "  </thead>\n",
       "  <tbody>\n",
       "    <tr>\n",
       "      <th>0</th>\n",
       "      <td>1</td>\n",
       "      <td>John Doe</td>\n",
       "      <td>-0.914607</td>\n",
       "      <td>3</td>\n",
       "      <td>-1.416484</td>\n",
       "      <td>-1.232364</td>\n",
       "      <td>-0.781900</td>\n",
       "      <td>0</td>\n",
       "      <td>76-80</td>\n",
       "    </tr>\n",
       "    <tr>\n",
       "      <th>1</th>\n",
       "      <td>2</td>\n",
       "      <td>Jane Smith</td>\n",
       "      <td>-0.189687</td>\n",
       "      <td>1</td>\n",
       "      <td>-1.019042</td>\n",
       "      <td>-0.600383</td>\n",
       "      <td>0.009497</td>\n",
       "      <td>0</td>\n",
       "      <td>81-85</td>\n",
       "    </tr>\n",
       "    <tr>\n",
       "      <th>2</th>\n",
       "      <td>3</td>\n",
       "      <td>Michael Brown</td>\n",
       "      <td>0.414412</td>\n",
       "      <td>0</td>\n",
       "      <td>0.570727</td>\n",
       "      <td>-0.126396</td>\n",
       "      <td>1.592290</td>\n",
       "      <td>1</td>\n",
       "      <td>91-95</td>\n",
       "    </tr>\n",
       "    <tr>\n",
       "      <th>3</th>\n",
       "      <td>4</td>\n",
       "      <td>Emily Davis</td>\n",
       "      <td>-1.035427</td>\n",
       "      <td>2</td>\n",
       "      <td>-0.621600</td>\n",
       "      <td>-0.916373</td>\n",
       "      <td>-1.098459</td>\n",
       "      <td>0</td>\n",
       "      <td>76-80</td>\n",
       "    </tr>\n",
       "    <tr>\n",
       "      <th>4</th>\n",
       "      <td>5</td>\n",
       "      <td>David Johnson</td>\n",
       "      <td>1.622612</td>\n",
       "      <td>3</td>\n",
       "      <td>0.173285</td>\n",
       "      <td>1.453558</td>\n",
       "      <td>0.484335</td>\n",
       "      <td>1</td>\n",
       "      <td>86-90</td>\n",
       "    </tr>\n",
       "  </tbody>\n",
       "</table>\n",
       "</div>"
      ],
      "text/plain": [
       "   EmployeeID           Name       Age  Department    Salary  YearsAtCompany  \\\n",
       "0           1       John Doe -0.914607           3 -1.416484       -1.232364   \n",
       "1           2     Jane Smith -0.189687           1 -1.019042       -0.600383   \n",
       "2           3  Michael Brown  0.414412           0  0.570727       -0.126396   \n",
       "3           4    Emily Davis -1.035427           2 -0.621600       -0.916373   \n",
       "4           5  David Johnson  1.622612           3  0.173285        1.453558   \n",
       "\n",
       "   PerformanceScore  Attrition Performance_Interval  \n",
       "0         -0.781900          0                76-80  \n",
       "1          0.009497          0                81-85  \n",
       "2          1.592290          1                91-95  \n",
       "3         -1.098459          0                76-80  \n",
       "4          0.484335          1                86-90  "
      ]
     },
     "execution_count": 421,
     "metadata": {},
     "output_type": "execute_result"
    }
   ],
   "source": [
    "# Encoding categorical column\n",
    "le = LabelEncoder()\n",
    "employee_df_t[\"Department\"] = le.fit_transform(employee_df_t[\"Department\"])\n",
    "employee_df_t.head()"
   ]
  },
  {
   "cell_type": "markdown",
   "id": "880ac14c",
   "metadata": {},
   "source": [
    "### Employee Attrition Prediction Model"
   ]
  },
  {
   "cell_type": "code",
   "execution_count": 422,
   "id": "b09b83c0",
   "metadata": {},
   "outputs": [
    {
     "name": "stdout",
     "output_type": "stream",
     "text": [
      "Shape of X: (70, 5) (30, 5)\n",
      "Shape of y: (70,) (30,)\n"
     ]
    }
   ],
   "source": [
    "# Splitting data into train and test set\n",
    "from sklearn.model_selection import train_test_split\n",
    "\n",
    "X = employee_df_t[[\"Age\", \"Department\", \"Salary\", \"YearsAtCompany\", \"PerformanceScore\"]]\n",
    "y = employee_df_t[\"Attrition\"]\n",
    "\n",
    "X_train, X_test, y_train, y_test = train_test_split(X, y, test_size=0.3, random_state=0)\n",
    "\n",
    "print(\"Shape of X:\", X_train.shape, X_test.shape)\n",
    "print(\"Shape of y:\", y_train.shape, y_test.shape)"
   ]
  },
  {
   "cell_type": "code",
   "execution_count": 423,
   "id": "721ecd19",
   "metadata": {},
   "outputs": [
    {
     "name": "stdout",
     "output_type": "stream",
     "text": [
      "Classification Report:\n",
      "               precision    recall  f1-score   support\n",
      "\n",
      "           0       0.68      0.88      0.77        17\n",
      "           1       0.75      0.46      0.57        13\n",
      "\n",
      "    accuracy                           0.70        30\n",
      "   macro avg       0.72      0.67      0.67        30\n",
      "weighted avg       0.71      0.70      0.68        30\n",
      "\n",
      "Confusion Matrix:\n",
      "\n"
     ]
    },
    {
     "data": {
      "image/png": "[encoded data removed]",
      "text/plain": [
       "<Figure size 640x480 with 2 Axes>"
      ]
     },
     "metadata": {},
     "output_type": "display_data"
    }
   ],
   "source": [
    "# Training and evaluating employee attrition model\n",
    "from sklearn.ensemble import RandomForestClassifier\n",
    "from sklearn.metrics import classification_report, confusion_matrix, ConfusionMatrixDisplay\n",
    "\n",
    "rfc = RandomForestClassifier(random_state=42)\n",
    "rfc.fit(X_train, y_train)\n",
    "y_pred = rfc.predict(X_test)\n",
    "\n",
    "# Printing classification report\n",
    "print(\"Classification Report:\\n\",classification_report(y_test, y_pred) )\n",
    "\n",
    "# Visualising confusion matrix\n",
    "print(\"Confusion Matrix:\\n\")\n",
    "cm = confusion_matrix(y_test, y_pred)\n",
    "cm_display = ConfusionMatrixDisplay(cm)\n",
    "cm_display.plot()\n",
    "plt.show()"
   ]
  },
  {
   "cell_type": "markdown",
   "id": "1efda41e",
   "metadata": {},
   "source": [
    "### Employee Performance Prediction Model"
   ]
  },
  {
   "cell_type": "code",
   "execution_count": 424,
   "id": "14b2e305",
   "metadata": {},
   "outputs": [
    {
     "name": "stdout",
     "output_type": "stream",
     "text": [
      "Shape of X: (70, 4) (30, 4)\n",
      "Shape of y: (70,) (30,)\n"
     ]
    }
   ],
   "source": [
    "# Splitting data into train and test set\n",
    "X = employee_df_t[[\"Age\", \"Department\", \"Salary\", \"YearsAtCompany\"]]\n",
    "y = employee_df[\"PerformanceScore\"]\n",
    "\n",
    "X_train, X_test, y_train, y_test = train_test_split(X, y, test_size=0.3, random_state=0)\n",
    "\n",
    "print(\"Shape of X:\", X_train.shape, X_test.shape)\n",
    "print(\"Shape of y:\", y_train.shape, y_test.shape)"
   ]
  },
  {
   "cell_type": "code",
   "execution_count": 425,
   "id": "b0251785",
   "metadata": {},
   "outputs": [
    {
     "name": "stdout",
     "output_type": "stream",
     "text": [
      "Mean Squared Error: 7.563885542652557\n",
      "R2 Score: 0.7887510631997734\n"
     ]
    }
   ],
   "source": [
    "# Training and evaluating employee performance model\n",
    "from sklearn.linear_model import LinearRegression\n",
    "from sklearn.metrics import mean_squared_error, r2_score\n",
    "\n",
    "lr = LinearRegression()\n",
    "lr.fit(X_train, y_train)\n",
    "y_pred = lr.predict(X_test)\n",
    "\n",
    "print(\"Mean Squared Error:\", mean_squared_error(y_test, y_pred))\n",
    "print(\"R2 Score:\", r2_score(y_test, y_pred))"
   ]
  },
  {
   "cell_type": "code",
   "execution_count": 426,
   "id": "7a9a65a9",
   "metadata": {},
   "outputs": [
    {
     "data": {
      "image/png": "[encoded data removed]",
      "text/plain": [
       "<Figure size 640x480 with 1 Axes>"
      ]
     },
     "metadata": {},
     "output_type": "display_data"
    }
   ],
   "source": [
    "# Visualising actual vs predicted performance score\n",
    "plt.scatter(x=y_test, y=y_pred)\n",
    "plt.title(\"Actual vs Predicted Performance Score\")\n",
    "plt.xlabel(\"Actual Performance Score\")\n",
    "plt.ylabel(\"Predicted Performance Score\")\n",
    "plt.show()"
   ]
  },
  {
   "cell_type": "markdown",
   "id": "f363f69b",
   "metadata": {},
   "source": [
    "### Deep Learning for Employee Performance Prediction"
   ]
  },
  {
   "cell_type": "code",
   "execution_count": 427,
   "id": "1935d001",
   "metadata": {},
   "outputs": [
    {
     "name": "stdout",
     "output_type": "stream",
     "text": [
      "Model: \"sequential_12\"\n",
      "_________________________________________________________________\n",
      " Layer (type)                Output Shape              Param #   \n",
      "=================================================================\n",
      " dense_36 (Dense)            (None, 64)                320       \n",
      "                                                                 \n",
      " dense_37 (Dense)            (None, 32)                2080      \n",
      "                                                                 \n",
      " dense_38 (Dense)            (None, 1)                 33        \n",
      "                                                                 \n",
      "=================================================================\n",
      "Total params: 2433 (9.50 KB)\n",
      "Trainable params: 2433 (9.50 KB)\n",
      "Non-trainable params: 0 (0.00 Byte)\n",
      "_________________________________________________________________\n"
     ]
    }
   ],
   "source": [
    "# \n",
    "import tensorflow as tf\n",
    "from tensorflow.keras.models import Sequential\n",
    "from tensorflow.keras.layers import Dense\n",
    "\n",
    "# Splitting data into train and test set\n",
    "X = employee_df_t[[\"Age\", \"Department\", \"Salary\", \"YearsAtCompany\"]]\n",
    "y = employee_df[\"PerformanceScore\"]\n",
    "\n",
    "X_train, X_test, y_train, y_test = train_test_split(X, y, test_size=0.3, random_state=0)\n",
    "\n",
    "# Setting random seed\n",
    "tf.random.set_seed(42)\n",
    "\n",
    "# Building model\n",
    "model = Sequential([\n",
    "    Dense(64, activation=\"relu\", input_shape=(X_train.shape[1],)),\n",
    "    Dense(32, activation=\"relu\"),\n",
    "    Dense(1) # Output layer (regression)\n",
    "])\n",
    "\n",
    "# Compiling model\n",
    "model.compile(optimizer=\"adam\", loss=\"mean_squared_error\", metrics=[\"mae\"])\n",
    "\n",
    "# Showing model summary\n",
    "model.summary()"
   ]
  },
  {
   "cell_type": "code",
   "execution_count": 428,
   "id": "a12d14ca",
   "metadata": {},
   "outputs": [
    {
     "name": "stdout",
     "output_type": "stream",
     "text": [
      "Epoch 1/500\n",
      "4/4 [==============================] - 0s 35ms/step - loss: 7081.9399 - mae: 83.9051 - val_loss: 7733.8975 - val_mae: 87.7908\n",
      "Epoch 2/500\n",
      "4/4 [==============================] - 0s 9ms/step - loss: 7043.6792 - mae: 83.6729 - val_loss: 7704.3843 - val_mae: 87.6195\n",
      "Epoch 3/500\n",
      "4/4 [==============================] - 0s 7ms/step - loss: 7007.2275 - mae: 83.4497 - val_loss: 7676.5537 - val_mae: 87.4572\n",
      "Epoch 4/500\n",
      "4/4 [==============================] - 0s 7ms/step - loss: 6971.7456 - mae: 83.2318 - val_loss: 7649.8057 - val_mae: 87.3010\n",
      "Epoch 5/500\n",
      "4/4 [==============================] - 0s 10ms/step - loss: 6936.4229 - mae: 83.0140 - val_loss: 7623.1274 - val_mae: 87.1448\n",
      "Epoch 6/500\n",
      "4/4 [==============================] - 0s 8ms/step - loss: 6900.2627 - mae: 82.7903 - val_loss: 7596.5127 - val_mae: 86.9885\n",
      "Epoch 7/500\n",
      "4/4 [==============================] - 0s 5ms/step - loss: 6865.8687 - mae: 82.5781 - val_loss: 7569.8550 - val_mae: 86.8316\n",
      "Epoch 8/500\n",
      "4/4 [==============================] - 0s 9ms/step - loss: 6831.2256 - mae: 82.3615 - val_loss: 7542.5088 - val_mae: 86.6703\n",
      "Epoch 9/500\n",
      "4/4 [==============================] - 0s 5ms/step - loss: 6793.9302 - mae: 82.1295 - val_loss: 7513.5044 - val_mae: 86.4989\n",
      "Epoch 10/500\n",
      "4/4 [==============================] - 0s 9ms/step - loss: 6755.6782 - mae: 81.8904 - val_loss: 7482.4155 - val_mae: 86.3150\n",
      "Epoch 11/500\n",
      "4/4 [==============================] - 0s 5ms/step - loss: 6712.3398 - mae: 81.6181 - val_loss: 7448.2900 - val_mae: 86.1126\n",
      "Epoch 12/500\n",
      "4/4 [==============================] - 0s 9ms/step - loss: 6665.0649 - mae: 81.3183 - val_loss: 7409.0811 - val_mae: 85.8793\n",
      "Epoch 13/500\n",
      "4/4 [==============================] - 0s 5ms/step - loss: 6610.7515 - mae: 80.9761 - val_loss: 7363.9932 - val_mae: 85.6102\n",
      "Epoch 14/500\n",
      "4/4 [==============================] - 0s 11ms/step - loss: 6551.1479 - mae: 80.5993 - val_loss: 7312.9287 - val_mae: 85.3041\n",
      "Epoch 15/500\n",
      "4/4 [==============================] - 0s 9ms/step - loss: 6482.6362 - mae: 80.1598 - val_loss: 7255.5269 - val_mae: 84.9585\n",
      "Epoch 16/500\n",
      "4/4 [==============================] - 0s 8ms/step - loss: 6407.4463 - mae: 79.6760 - val_loss: 7191.2920 - val_mae: 84.5697\n",
      "Epoch 17/500\n",
      "4/4 [==============================] - 0s 6ms/step - loss: 6324.6299 - mae: 79.1349 - val_loss: 7120.6240 - val_mae: 84.1392\n",
      "Epoch 18/500\n",
      "4/4 [==============================] - 0s 10ms/step - loss: 6230.4321 - mae: 78.5190 - val_loss: 7042.4360 - val_mae: 83.6601\n",
      "Epoch 19/500\n",
      "4/4 [==============================] - 0s 7ms/step - loss: 6128.0264 - mae: 77.8437 - val_loss: 6955.5273 - val_mae: 83.1234\n",
      "Epoch 20/500\n",
      "4/4 [==============================] - 0s 9ms/step - loss: 6016.2861 - mae: 77.0983 - val_loss: 6859.9731 - val_mae: 82.5287\n",
      "Epoch 21/500\n",
      "4/4 [==============================] - 0s 7ms/step - loss: 5894.5415 - mae: 76.2750 - val_loss: 6755.9912 - val_mae: 81.8762\n",
      "Epoch 22/500\n",
      "4/4 [==============================] - 0s 8ms/step - loss: 5758.4478 - mae: 75.3452 - val_loss: 6642.9937 - val_mae: 81.1598\n",
      "Epoch 23/500\n",
      "4/4 [==============================] - 0s 8ms/step - loss: 5617.1128 - mae: 74.3576 - val_loss: 6522.0225 - val_mae: 80.3837\n",
      "Epoch 24/500\n",
      "4/4 [==============================] - 0s 5ms/step - loss: 5461.7188 - mae: 73.2604 - val_loss: 6391.3413 - val_mae: 79.5353\n",
      "Epoch 25/500\n",
      "4/4 [==============================] - 0s 9ms/step - loss: 5295.8682 - mae: 72.0560 - val_loss: 6251.7554 - val_mae: 78.6161\n",
      "Epoch 26/500\n",
      "4/4 [==============================] - 0s 7ms/step - loss: 5121.1885 - mae: 70.7755 - val_loss: 6101.9019 - val_mae: 77.6123\n",
      "Epoch 27/500\n",
      "4/4 [==============================] - 0s 9ms/step - loss: 4932.9365 - mae: 69.3597 - val_loss: 5942.5522 - val_mae: 76.5263\n",
      "Epoch 28/500\n",
      "4/4 [==============================] - 0s 7ms/step - loss: 4737.8623 - mae: 67.8561 - val_loss: 5773.5439 - val_mae: 75.3531\n",
      "Epoch 29/500\n",
      "4/4 [==============================] - 0s 7ms/step - loss: 4529.3623 - mae: 66.1793 - val_loss: 5596.0312 - val_mae: 74.0957\n",
      "Epoch 30/500\n",
      "4/4 [==============================] - 0s 5ms/step - loss: 4316.3374 - mae: 64.4263 - val_loss: 5412.3853 - val_mae: 72.7608\n",
      "Epoch 31/500\n",
      "4/4 [==============================] - 0s 7ms/step - loss: 4096.9878 - mae: 62.5558 - val_loss: 5221.0649 - val_mae: 71.3374\n",
      "Epoch 32/500\n",
      "4/4 [==============================] - 0s 8ms/step - loss: 3870.7891 - mae: 60.5683 - val_loss: 5023.1211 - val_mae: 69.8260\n",
      "Epoch 33/500\n",
      "4/4 [==============================] - 0s 4ms/step - loss: 3642.0632 - mae: 58.4445 - val_loss: 4817.1733 - val_mae: 68.2087\n",
      "Epoch 34/500\n",
      "4/4 [==============================] - 0s 9ms/step - loss: 3410.7134 - mae: 56.2315 - val_loss: 4608.1919 - val_mae: 66.5152\n",
      "Epoch 35/500\n",
      "4/4 [==============================] - 0s 5ms/step - loss: 3187.1096 - mae: 53.9142 - val_loss: 4399.9712 - val_mae: 64.7712\n",
      "Epoch 36/500\n",
      "4/4 [==============================] - 0s 5ms/step - loss: 2961.8716 - mae: 51.5659 - val_loss: 4189.4321 - val_mae: 62.9481\n",
      "Epoch 37/500\n",
      "4/4 [==============================] - 0s 5ms/step - loss: 2741.9087 - mae: 49.0620 - val_loss: 3977.3748 - val_mae: 61.0542\n",
      "Epoch 38/500\n",
      "4/4 [==============================] - 0s 4ms/step - loss: 2530.4160 - mae: 46.4975 - val_loss: 3764.5339 - val_mae: 59.0853\n",
      "Epoch 39/500\n",
      "4/4 [==============================] - 0s 5ms/step - loss: 2330.6702 - mae: 43.8815 - val_loss: 3552.8169 - val_mae: 57.0485\n",
      "Epoch 40/500\n",
      "4/4 [==============================] - 0s 7ms/step - loss: 2141.5103 - mae: 41.2428 - val_loss: 3347.5369 - val_mae: 54.9836\n",
      "Epoch 41/500\n",
      "4/4 [==============================] - 0s 10ms/step - loss: 1962.2645 - mae: 38.6297 - val_loss: 3150.8789 - val_mae: 52.9085\n",
      "Epoch 42/500\n",
      "4/4 [==============================] - 0s 6ms/step - loss: 1801.9240 - mae: 36.1300 - val_loss: 2961.6841 - val_mae: 50.8226\n",
      "Epoch 43/500\n",
      "4/4 [==============================] - 0s 9ms/step - loss: 1655.2487 - mae: 33.8515 - val_loss: 2782.1011 - val_mae: 48.7625\n",
      "Epoch 44/500\n",
      "4/4 [==============================] - 0s 7ms/step - loss: 1521.8820 - mae: 32.0588 - val_loss: 2615.8677 - val_mae: 46.7711\n",
      "Epoch 45/500\n",
      "4/4 [==============================] - 0s 7ms/step - loss: 1406.1599 - mae: 30.6824 - val_loss: 2457.4961 - val_mae: 44.7980\n",
      "Epoch 46/500\n",
      "4/4 [==============================] - 0s 8ms/step - loss: 1309.4115 - mae: 29.7352 - val_loss: 2305.1323 - val_mae: 42.8590\n",
      "Epoch 47/500\n",
      "4/4 [==============================] - 0s 8ms/step - loss: 1222.5392 - mae: 28.8444 - val_loss: 2164.8950 - val_mae: 41.0174\n",
      "Epoch 48/500\n",
      "4/4 [==============================] - 0s 9ms/step - loss: 1152.8909 - mae: 28.1120 - val_loss: 2032.3556 - val_mae: 39.5856\n",
      "Epoch 49/500\n",
      "4/4 [==============================] - 0s 9ms/step - loss: 1084.4271 - mae: 27.3365 - val_loss: 1912.6791 - val_mae: 38.2503\n",
      "Epoch 50/500\n",
      "4/4 [==============================] - 0s 7ms/step - loss: 1030.1904 - mae: 26.7765 - val_loss: 1801.5439 - val_mae: 36.9797\n",
      "Epoch 51/500\n",
      "4/4 [==============================] - 0s 7ms/step - loss: 984.3405 - mae: 26.2765 - val_loss: 1697.8444 - val_mae: 35.9992\n",
      "Epoch 52/500\n",
      "4/4 [==============================] - 0s 8ms/step - loss: 940.8979 - mae: 25.7122 - val_loss: 1602.3953 - val_mae: 35.1338\n",
      "Epoch 53/500\n",
      "4/4 [==============================] - 0s 8ms/step - loss: 910.1678 - mae: 25.3352 - val_loss: 1512.2245 - val_mae: 34.2893\n",
      "Epoch 54/500\n",
      "4/4 [==============================] - 0s 8ms/step - loss: 875.0137 - mae: 24.8326 - val_loss: 1429.8362 - val_mae: 33.4854\n",
      "Epoch 55/500\n",
      "4/4 [==============================] - 0s 7ms/step - loss: 841.3166 - mae: 24.3312 - val_loss: 1355.7595 - val_mae: 32.7372\n",
      "Epoch 56/500\n",
      "4/4 [==============================] - 0s 7ms/step - loss: 809.7695 - mae: 23.8360 - val_loss: 1286.3662 - val_mae: 31.9947\n",
      "Epoch 57/500\n",
      "4/4 [==============================] - 0s 8ms/step - loss: 780.5891 - mae: 23.3915 - val_loss: 1221.7249 - val_mae: 31.2657\n",
      "Epoch 58/500\n",
      "4/4 [==============================] - 0s 7ms/step - loss: 753.7006 - mae: 22.9773 - val_loss: 1160.7433 - val_mae: 30.5841\n",
      "Epoch 59/500\n",
      "4/4 [==============================] - 0s 7ms/step - loss: 725.2712 - mae: 22.5236 - val_loss: 1099.9174 - val_mae: 29.8696\n",
      "Epoch 60/500\n",
      "4/4 [==============================] - 0s 9ms/step - loss: 698.2136 - mae: 22.0865 - val_loss: 1040.1881 - val_mae: 29.1306\n",
      "Epoch 61/500\n",
      "4/4 [==============================] - 0s 8ms/step - loss: 674.6635 - mae: 21.6987 - val_loss: 977.8060 - val_mae: 28.3288\n",
      "Epoch 62/500\n",
      "4/4 [==============================] - 0s 9ms/step - loss: 647.1497 - mae: 21.2446 - val_loss: 920.2943 - val_mae: 27.5546\n",
      "Epoch 63/500\n",
      "4/4 [==============================] - 0s 7ms/step - loss: 620.9196 - mae: 20.8057 - val_loss: 866.2039 - val_mae: 26.7830\n",
      "Epoch 64/500\n",
      "4/4 [==============================] - 0s 7ms/step - loss: 599.2664 - mae: 20.4153 - val_loss: 815.2269 - val_mae: 26.0329\n",
      "Epoch 65/500\n",
      "4/4 [==============================] - 0s 8ms/step - loss: 574.3823 - mae: 20.0071 - val_loss: 770.6898 - val_mae: 25.3578\n",
      "Epoch 66/500\n",
      "4/4 [==============================] - 0s 8ms/step - loss: 555.6594 - mae: 19.6866 - val_loss: 724.5462 - val_mae: 24.6706\n",
      "Epoch 67/500\n",
      "4/4 [==============================] - 0s 7ms/step - loss: 533.2072 - mae: 19.2987 - val_loss: 678.9066 - val_mae: 23.9859\n",
      "Epoch 68/500\n",
      "4/4 [==============================] - 0s 7ms/step - loss: 513.8885 - mae: 18.9099 - val_loss: 635.3594 - val_mae: 23.2896\n",
      "Epoch 69/500\n",
      "4/4 [==============================] - 0s 7ms/step - loss: 494.6797 - mae: 18.5594 - val_loss: 594.0099 - val_mae: 22.5911\n",
      "Epoch 70/500\n",
      "4/4 [==============================] - 0s 8ms/step - loss: 474.8247 - mae: 18.1539 - val_loss: 558.7986 - val_mae: 21.9545\n",
      "Epoch 71/500\n",
      "4/4 [==============================] - 0s 8ms/step - loss: 458.1603 - mae: 17.8281 - val_loss: 522.6481 - val_mae: 21.2834\n",
      "Epoch 72/500\n",
      "4/4 [==============================] - 0s 8ms/step - loss: 442.3557 - mae: 17.4977 - val_loss: 490.3372 - val_mae: 20.6431\n",
      "Epoch 73/500\n",
      "4/4 [==============================] - 0s 9ms/step - loss: 427.6100 - mae: 17.1748 - val_loss: 458.8813 - val_mae: 20.0007\n",
      "Epoch 74/500\n",
      "4/4 [==============================] - 0s 8ms/step - loss: 411.5601 - mae: 16.8079 - val_loss: 432.2683 - val_mae: 19.4271\n",
      "Epoch 75/500\n",
      "4/4 [==============================] - 0s 7ms/step - loss: 398.7986 - mae: 16.5014 - val_loss: 407.4555 - val_mae: 18.8647\n",
      "Epoch 76/500\n",
      "4/4 [==============================] - 0s 7ms/step - loss: 387.3503 - mae: 16.2212 - val_loss: 385.0348 - val_mae: 18.3175\n",
      "Epoch 77/500\n",
      "4/4 [==============================] - 0s 9ms/step - loss: 375.1442 - mae: 15.9004 - val_loss: 363.1623 - val_mae: 17.7714\n",
      "Epoch 78/500\n",
      "4/4 [==============================] - 0s 8ms/step - loss: 364.8831 - mae: 15.6051 - val_loss: 342.5499 - val_mae: 17.2385\n",
      "Epoch 79/500\n",
      "4/4 [==============================] - 0s 8ms/step - loss: 355.0364 - mae: 15.3329 - val_loss: 325.3542 - val_mae: 16.7545\n",
      "Epoch 80/500\n",
      "4/4 [==============================] - 0s 8ms/step - loss: 344.6218 - mae: 15.0233 - val_loss: 308.7962 - val_mae: 16.2720\n",
      "Epoch 81/500\n",
      "4/4 [==============================] - 0s 9ms/step - loss: 335.0915 - mae: 14.7221 - val_loss: 292.5545 - val_mae: 15.7858\n",
      "Epoch 82/500\n",
      "4/4 [==============================] - 0s 9ms/step - loss: 326.7298 - mae: 14.4786 - val_loss: 276.7631 - val_mae: 15.2896\n",
      "Epoch 83/500\n",
      "4/4 [==============================] - 0s 8ms/step - loss: 319.3384 - mae: 14.2569 - val_loss: 262.9890 - val_mae: 14.8258\n",
      "Epoch 84/500\n",
      "4/4 [==============================] - 0s 9ms/step - loss: 311.8423 - mae: 14.0615 - val_loss: 250.5361 - val_mae: 14.3677\n",
      "Epoch 85/500\n",
      "4/4 [==============================] - 0s 7ms/step - loss: 304.8095 - mae: 13.8636 - val_loss: 237.9721 - val_mae: 13.8899\n",
      "Epoch 86/500\n",
      "4/4 [==============================] - 0s 7ms/step - loss: 298.2840 - mae: 13.6416 - val_loss: 226.7791 - val_mae: 13.4312\n",
      "Epoch 87/500\n",
      "4/4 [==============================] - 0s 8ms/step - loss: 292.3109 - mae: 13.4407 - val_loss: 218.0634 - val_mae: 13.0238\n",
      "Epoch 88/500\n",
      "4/4 [==============================] - 0s 7ms/step - loss: 286.2500 - mae: 13.2518 - val_loss: 208.5317 - val_mae: 12.5999\n",
      "Epoch 89/500\n",
      "4/4 [==============================] - 0s 5ms/step - loss: 281.3430 - mae: 13.0935 - val_loss: 199.8606 - val_mae: 12.1988\n",
      "Epoch 90/500\n",
      "4/4 [==============================] - 0s 10ms/step - loss: 276.7680 - mae: 12.9512 - val_loss: 192.5457 - val_mae: 11.8368\n",
      "Epoch 91/500\n",
      "4/4 [==============================] - 0s 6ms/step - loss: 271.7820 - mae: 12.7941 - val_loss: 187.2154 - val_mae: 11.5368\n",
      "Epoch 92/500\n",
      "4/4 [==============================] - 0s 5ms/step - loss: 267.8914 - mae: 12.6866 - val_loss: 182.1656 - val_mae: 11.2214\n",
      "Epoch 93/500\n",
      "4/4 [==============================] - 0s 10ms/step - loss: 263.8866 - mae: 12.5895 - val_loss: 178.2754 - val_mae: 10.9468\n",
      "Epoch 94/500\n",
      "4/4 [==============================] - 0s 11ms/step - loss: 259.7671 - mae: 12.4803 - val_loss: 174.3285 - val_mae: 10.7258\n",
      "Epoch 95/500\n",
      "4/4 [==============================] - 0s 7ms/step - loss: 255.9390 - mae: 12.3763 - val_loss: 170.0856 - val_mae: 10.5265\n",
      "Epoch 96/500\n",
      "4/4 [==============================] - 0s 9ms/step - loss: 252.7783 - mae: 12.3039 - val_loss: 165.5658 - val_mae: 10.3158\n",
      "Epoch 97/500\n",
      "4/4 [==============================] - 0s 10ms/step - loss: 248.8083 - mae: 12.2051 - val_loss: 161.4618 - val_mae: 10.1208\n",
      "Epoch 98/500\n",
      "4/4 [==============================] - 0s 11ms/step - loss: 244.8350 - mae: 12.1010 - val_loss: 158.4736 - val_mae: 9.9705\n",
      "Epoch 99/500\n",
      "4/4 [==============================] - 0s 10ms/step - loss: 242.2315 - mae: 12.0390 - val_loss: 154.6862 - val_mae: 9.8426\n",
      "Epoch 100/500\n",
      "4/4 [==============================] - 0s 6ms/step - loss: 239.1830 - mae: 11.9755 - val_loss: 151.6894 - val_mae: 9.7299\n",
      "Epoch 101/500\n",
      "4/4 [==============================] - 0s 7ms/step - loss: 236.5625 - mae: 11.9172 - val_loss: 149.4891 - val_mae: 9.6363\n",
      "Epoch 102/500\n",
      "4/4 [==============================] - 0s 7ms/step - loss: 233.5298 - mae: 11.8106 - val_loss: 148.9487 - val_mae: 9.5780\n",
      "Epoch 103/500\n",
      "4/4 [==============================] - 0s 9ms/step - loss: 230.8193 - mae: 11.7142 - val_loss: 147.9215 - val_mae: 9.5136\n",
      "Epoch 104/500\n",
      "4/4 [==============================] - 0s 8ms/step - loss: 227.9692 - mae: 11.6232 - val_loss: 147.6204 - val_mae: 9.4644\n",
      "Epoch 105/500\n",
      "4/4 [==============================] - 0s 7ms/step - loss: 225.4069 - mae: 11.5379 - val_loss: 146.3236 - val_mae: 9.3856\n",
      "Epoch 106/500\n",
      "4/4 [==============================] - 0s 7ms/step - loss: 222.6202 - mae: 11.4637 - val_loss: 144.9199 - val_mae: 9.3190\n",
      "Epoch 107/500\n",
      "4/4 [==============================] - 0s 9ms/step - loss: 220.0101 - mae: 11.4094 - val_loss: 143.9160 - val_mae: 9.2732\n",
      "Epoch 108/500\n",
      "4/4 [==============================] - 0s 9ms/step - loss: 217.6802 - mae: 11.3400 - val_loss: 142.9762 - val_mae: 9.2422\n",
      "Epoch 109/500\n",
      "4/4 [==============================] - 0s 9ms/step - loss: 215.1311 - mae: 11.2729 - val_loss: 141.1520 - val_mae: 9.1988\n",
      "Epoch 110/500\n",
      "4/4 [==============================] - 0s 7ms/step - loss: 212.3902 - mae: 11.2238 - val_loss: 138.3438 - val_mae: 9.1334\n",
      "Epoch 111/500\n",
      "4/4 [==============================] - 0s 8ms/step - loss: 210.1746 - mae: 11.1872 - val_loss: 136.2402 - val_mae: 9.0852\n",
      "Epoch 112/500\n",
      "4/4 [==============================] - 0s 8ms/step - loss: 207.6122 - mae: 11.1191 - val_loss: 134.1719 - val_mae: 9.0246\n",
      "Epoch 113/500\n",
      "4/4 [==============================] - 0s 7ms/step - loss: 205.9897 - mae: 11.0932 - val_loss: 131.8744 - val_mae: 8.9725\n",
      "Epoch 114/500\n",
      "4/4 [==============================] - 0s 8ms/step - loss: 203.2535 - mae: 11.0322 - val_loss: 130.2110 - val_mae: 8.9147\n",
      "Epoch 115/500\n",
      "4/4 [==============================] - 0s 7ms/step - loss: 200.8009 - mae: 10.9554 - val_loss: 129.3663 - val_mae: 8.8691\n",
      "Epoch 116/500\n",
      "4/4 [==============================] - 0s 8ms/step - loss: 198.4337 - mae: 10.8830 - val_loss: 128.2831 - val_mae: 8.8233\n",
      "Epoch 117/500\n",
      "4/4 [==============================] - 0s 8ms/step - loss: 196.1267 - mae: 10.8008 - val_loss: 127.8687 - val_mae: 8.7883\n",
      "Epoch 118/500\n",
      "4/4 [==============================] - 0s 7ms/step - loss: 193.8355 - mae: 10.7218 - val_loss: 127.3338 - val_mae: 8.7578\n",
      "Epoch 119/500\n",
      "4/4 [==============================] - 0s 7ms/step - loss: 191.5759 - mae: 10.6485 - val_loss: 126.5656 - val_mae: 8.7169\n",
      "Epoch 120/500\n",
      "4/4 [==============================] - 0s 8ms/step - loss: 189.5563 - mae: 10.5803 - val_loss: 125.1624 - val_mae: 8.6569\n",
      "Epoch 121/500\n",
      "4/4 [==============================] - 0s 8ms/step - loss: 187.4725 - mae: 10.5112 - val_loss: 124.1674 - val_mae: 8.6076\n",
      "Epoch 122/500\n",
      "4/4 [==============================] - 0s 7ms/step - loss: 185.4594 - mae: 10.4475 - val_loss: 122.3125 - val_mae: 8.5483\n",
      "Epoch 123/500\n",
      "4/4 [==============================] - 0s 9ms/step - loss: 183.1839 - mae: 10.3912 - val_loss: 121.8395 - val_mae: 8.5287\n",
      "Epoch 124/500\n",
      "4/4 [==============================] - 0s 9ms/step - loss: 180.7923 - mae: 10.3186 - val_loss: 120.0615 - val_mae: 8.4763\n",
      "Epoch 125/500\n",
      "4/4 [==============================] - 0s 7ms/step - loss: 178.4668 - mae: 10.2625 - val_loss: 118.5497 - val_mae: 8.4260\n",
      "Epoch 126/500\n",
      "4/4 [==============================] - 0s 7ms/step - loss: 176.5039 - mae: 10.2140 - val_loss: 116.1577 - val_mae: 8.3681\n",
      "Epoch 127/500\n",
      "4/4 [==============================] - 0s 9ms/step - loss: 174.1787 - mae: 10.1769 - val_loss: 114.2925 - val_mae: 8.3182\n",
      "Epoch 128/500\n",
      "4/4 [==============================] - 0s 6ms/step - loss: 171.9226 - mae: 10.1258 - val_loss: 112.6832 - val_mae: 8.2667\n",
      "Epoch 129/500\n",
      "4/4 [==============================] - 0s 8ms/step - loss: 169.5712 - mae: 10.0720 - val_loss: 110.7234 - val_mae: 8.2118\n",
      "Epoch 130/500\n",
      "4/4 [==============================] - 0s 9ms/step - loss: 167.8433 - mae: 10.0383 - val_loss: 109.0792 - val_mae: 8.1658\n",
      "Epoch 131/500\n",
      "4/4 [==============================] - 0s 9ms/step - loss: 166.1151 - mae: 9.9918 - val_loss: 108.3244 - val_mae: 8.1418\n",
      "Epoch 132/500\n",
      "4/4 [==============================] - 0s 8ms/step - loss: 163.8794 - mae: 9.9154 - val_loss: 106.7475 - val_mae: 8.0886\n",
      "Epoch 133/500\n",
      "4/4 [==============================] - 0s 8ms/step - loss: 161.5054 - mae: 9.8269 - val_loss: 106.0910 - val_mae: 8.0557\n",
      "Epoch 134/500\n",
      "4/4 [==============================] - 0s 9ms/step - loss: 159.5443 - mae: 9.7326 - val_loss: 106.4139 - val_mae: 8.0407\n",
      "Epoch 135/500\n",
      "4/4 [==============================] - 0s 9ms/step - loss: 157.7489 - mae: 9.6433 - val_loss: 106.5258 - val_mae: 8.0193\n",
      "Epoch 136/500\n",
      "4/4 [==============================] - 0s 9ms/step - loss: 156.0181 - mae: 9.5520 - val_loss: 105.2350 - val_mae: 7.9645\n",
      "Epoch 137/500\n",
      "4/4 [==============================] - 0s 8ms/step - loss: 153.9417 - mae: 9.4918 - val_loss: 103.9919 - val_mae: 7.9227\n",
      "Epoch 138/500\n",
      "4/4 [==============================] - 0s 7ms/step - loss: 151.8272 - mae: 9.4228 - val_loss: 102.9134 - val_mae: 7.8919\n",
      "Epoch 139/500\n",
      "4/4 [==============================] - 0s 8ms/step - loss: 149.8977 - mae: 9.3612 - val_loss: 101.9258 - val_mae: 7.8657\n",
      "Epoch 140/500\n",
      "4/4 [==============================] - 0s 8ms/step - loss: 147.9113 - mae: 9.3064 - val_loss: 100.7940 - val_mae: 7.8261\n",
      "Epoch 141/500\n",
      "4/4 [==============================] - 0s 7ms/step - loss: 146.0546 - mae: 9.2481 - val_loss: 99.3080 - val_mae: 7.7775\n",
      "Epoch 142/500\n",
      "4/4 [==============================] - 0s 6ms/step - loss: 144.5190 - mae: 9.2069 - val_loss: 97.8410 - val_mae: 7.7090\n",
      "Epoch 143/500\n",
      "4/4 [==============================] - 0s 4ms/step - loss: 142.2598 - mae: 9.1390 - val_loss: 95.6738 - val_mae: 7.6369\n",
      "Epoch 144/500\n",
      "4/4 [==============================] - 0s 7ms/step - loss: 140.4228 - mae: 9.1033 - val_loss: 94.4304 - val_mae: 7.5879\n",
      "Epoch 145/500\n",
      "4/4 [==============================] - 0s 10ms/step - loss: 138.7416 - mae: 9.0511 - val_loss: 93.3173 - val_mae: 7.5535\n",
      "Epoch 146/500\n",
      "4/4 [==============================] - 0s 9ms/step - loss: 136.6923 - mae: 8.9753 - val_loss: 92.1061 - val_mae: 7.4938\n",
      "Epoch 147/500\n",
      "4/4 [==============================] - 0s 7ms/step - loss: 134.7983 - mae: 8.9008 - val_loss: 91.0413 - val_mae: 7.4484\n",
      "Epoch 148/500\n",
      "4/4 [==============================] - 0s 8ms/step - loss: 133.0913 - mae: 8.8291 - val_loss: 90.2028 - val_mae: 7.4065\n",
      "Epoch 149/500\n",
      "4/4 [==============================] - 0s 11ms/step - loss: 131.2398 - mae: 8.7599 - val_loss: 89.0157 - val_mae: 7.3602\n",
      "Epoch 150/500\n",
      "4/4 [==============================] - 0s 7ms/step - loss: 129.5026 - mae: 8.6991 - val_loss: 87.7745 - val_mae: 7.3139\n",
      "Epoch 151/500\n",
      "4/4 [==============================] - 0s 5ms/step - loss: 127.8808 - mae: 8.6483 - val_loss: 85.7441 - val_mae: 7.2542\n",
      "Epoch 152/500\n",
      "4/4 [==============================] - 0s 9ms/step - loss: 126.4809 - mae: 8.6454 - val_loss: 83.9287 - val_mae: 7.1859\n",
      "Epoch 153/500\n",
      "4/4 [==============================] - 0s 9ms/step - loss: 124.4864 - mae: 8.5815 - val_loss: 83.1230 - val_mae: 7.1538\n",
      "Epoch 154/500\n",
      "4/4 [==============================] - 0s 8ms/step - loss: 122.9734 - mae: 8.5282 - val_loss: 81.9899 - val_mae: 7.1138\n",
      "Epoch 155/500\n",
      "4/4 [==============================] - 0s 6ms/step - loss: 121.3904 - mae: 8.4858 - val_loss: 80.7941 - val_mae: 7.0740\n",
      "Epoch 156/500\n",
      "4/4 [==============================] - 0s 10ms/step - loss: 119.6740 - mae: 8.4403 - val_loss: 79.7115 - val_mae: 7.0372\n",
      "Epoch 157/500\n",
      "4/4 [==============================] - 0s 7ms/step - loss: 118.0993 - mae: 8.4019 - val_loss: 78.7865 - val_mae: 7.0132\n",
      "Epoch 158/500\n",
      "4/4 [==============================] - 0s 9ms/step - loss: 116.2827 - mae: 8.3485 - val_loss: 76.9149 - val_mae: 6.9522\n",
      "Epoch 159/500\n",
      "4/4 [==============================] - 0s 5ms/step - loss: 115.2664 - mae: 8.3512 - val_loss: 75.2249 - val_mae: 6.8939\n",
      "Epoch 160/500\n",
      "4/4 [==============================] - 0s 6ms/step - loss: 113.3725 - mae: 8.2884 - val_loss: 74.8779 - val_mae: 6.8657\n",
      "Epoch 161/500\n",
      "4/4 [==============================] - 0s 7ms/step - loss: 111.9135 - mae: 8.2108 - val_loss: 74.2094 - val_mae: 6.8270\n",
      "Epoch 162/500\n",
      "4/4 [==============================] - 0s 7ms/step - loss: 110.1773 - mae: 8.1265 - val_loss: 74.0179 - val_mae: 6.7994\n",
      "Epoch 163/500\n",
      "4/4 [==============================] - 0s 7ms/step - loss: 108.6382 - mae: 8.0390 - val_loss: 73.7597 - val_mae: 6.7799\n",
      "Epoch 164/500\n",
      "4/4 [==============================] - 0s 9ms/step - loss: 107.3862 - mae: 7.9654 - val_loss: 73.2458 - val_mae: 6.7453\n",
      "Epoch 165/500\n",
      "4/4 [==============================] - 0s 7ms/step - loss: 105.6720 - mae: 7.8966 - val_loss: 72.0277 - val_mae: 6.7007\n",
      "Epoch 166/500\n",
      "4/4 [==============================] - 0s 7ms/step - loss: 104.2907 - mae: 7.8471 - val_loss: 70.9716 - val_mae: 6.6538\n",
      "Epoch 167/500\n",
      "4/4 [==============================] - 0s 7ms/step - loss: 102.7168 - mae: 7.7794 - val_loss: 70.1392 - val_mae: 6.6186\n",
      "Epoch 168/500\n",
      "4/4 [==============================] - 0s 7ms/step - loss: 101.2425 - mae: 7.7207 - val_loss: 69.2474 - val_mae: 6.5840\n",
      "Epoch 169/500\n",
      "4/4 [==============================] - 0s 9ms/step - loss: 100.1369 - mae: 7.6842 - val_loss: 67.9447 - val_mae: 6.5446\n",
      "Epoch 170/500\n",
      "4/4 [==============================] - 0s 7ms/step - loss: 98.7049 - mae: 7.6373 - val_loss: 67.1632 - val_mae: 6.5149\n",
      "Epoch 171/500\n",
      "4/4 [==============================] - 0s 7ms/step - loss: 97.4489 - mae: 7.5926 - val_loss: 66.0172 - val_mae: 6.4706\n",
      "Epoch 172/500\n",
      "4/4 [==============================] - 0s 9ms/step - loss: 96.0063 - mae: 7.5387 - val_loss: 64.6918 - val_mae: 6.4180\n",
      "Epoch 173/500\n",
      "4/4 [==============================] - 0s 9ms/step - loss: 94.8328 - mae: 7.5134 - val_loss: 63.6525 - val_mae: 6.3794\n",
      "Epoch 174/500\n",
      "4/4 [==============================] - 0s 9ms/step - loss: 93.4347 - mae: 7.4512 - val_loss: 62.6941 - val_mae: 6.3153\n",
      "Epoch 175/500\n",
      "4/4 [==============================] - 0s 8ms/step - loss: 92.1304 - mae: 7.3887 - val_loss: 61.7710 - val_mae: 6.2662\n",
      "Epoch 176/500\n",
      "4/4 [==============================] - 0s 8ms/step - loss: 90.7199 - mae: 7.3299 - val_loss: 60.8659 - val_mae: 6.2074\n",
      "Epoch 177/500\n",
      "4/4 [==============================] - 0s 8ms/step - loss: 89.7382 - mae: 7.2943 - val_loss: 58.9243 - val_mae: 6.1385\n",
      "Epoch 178/500\n",
      "4/4 [==============================] - 0s 10ms/step - loss: 88.2398 - mae: 7.2659 - val_loss: 58.2375 - val_mae: 6.1023\n",
      "Epoch 179/500\n",
      "4/4 [==============================] - 0s 8ms/step - loss: 87.0207 - mae: 7.2218 - val_loss: 57.3581 - val_mae: 6.0665\n",
      "Epoch 180/500\n",
      "4/4 [==============================] - 0s 9ms/step - loss: 85.9102 - mae: 7.1796 - val_loss: 56.6584 - val_mae: 6.0296\n",
      "Epoch 181/500\n",
      "4/4 [==============================] - 0s 9ms/step - loss: 85.0709 - mae: 7.1411 - val_loss: 55.8517 - val_mae: 5.9928\n",
      "Epoch 182/500\n",
      "4/4 [==============================] - 0s 11ms/step - loss: 83.7421 - mae: 7.0831 - val_loss: 55.1492 - val_mae: 5.9477\n",
      "Epoch 183/500\n",
      "4/4 [==============================] - 0s 8ms/step - loss: 82.6827 - mae: 7.0357 - val_loss: 54.3882 - val_mae: 5.8984\n",
      "Epoch 184/500\n",
      "4/4 [==============================] - 0s 6ms/step - loss: 81.6782 - mae: 6.9863 - val_loss: 53.7426 - val_mae: 5.8637\n",
      "Epoch 185/500\n",
      "4/4 [==============================] - 0s 7ms/step - loss: 80.6323 - mae: 6.9421 - val_loss: 53.2989 - val_mae: 5.8399\n",
      "Epoch 186/500\n",
      "4/4 [==============================] - 0s 7ms/step - loss: 79.6425 - mae: 6.8871 - val_loss: 52.9988 - val_mae: 5.8062\n",
      "Epoch 187/500\n",
      "4/4 [==============================] - 0s 7ms/step - loss: 78.5640 - mae: 6.8307 - val_loss: 52.5808 - val_mae: 5.7765\n",
      "Epoch 188/500\n",
      "4/4 [==============================] - 0s 7ms/step - loss: 77.5686 - mae: 6.7895 - val_loss: 51.9201 - val_mae: 5.7435\n",
      "Epoch 189/500\n",
      "4/4 [==============================] - 0s 9ms/step - loss: 77.1464 - mae: 6.7682 - val_loss: 51.1340 - val_mae: 5.7191\n",
      "Epoch 190/500\n",
      "4/4 [==============================] - 0s 7ms/step - loss: 75.7725 - mae: 6.7268 - val_loss: 50.5864 - val_mae: 5.6843\n",
      "Epoch 191/500\n",
      "4/4 [==============================] - 0s 7ms/step - loss: 74.6457 - mae: 6.6855 - val_loss: 49.4313 - val_mae: 5.6208\n",
      "Epoch 192/500\n",
      "4/4 [==============================] - 0s 9ms/step - loss: 73.8283 - mae: 6.6482 - val_loss: 48.5366 - val_mae: 5.5589\n",
      "Epoch 193/500\n",
      "4/4 [==============================] - 0s 5ms/step - loss: 72.9353 - mae: 6.6068 - val_loss: 47.8900 - val_mae: 5.5115\n",
      "Epoch 194/500\n",
      "4/4 [==============================] - 0s 10ms/step - loss: 72.1513 - mae: 6.5588 - val_loss: 47.4488 - val_mae: 5.4632\n",
      "Epoch 195/500\n",
      "4/4 [==============================] - 0s 6ms/step - loss: 71.1631 - mae: 6.4974 - val_loss: 47.2235 - val_mae: 5.4391\n",
      "Epoch 196/500\n",
      "4/4 [==============================] - 0s 5ms/step - loss: 70.4926 - mae: 6.4657 - val_loss: 46.4578 - val_mae: 5.4015\n",
      "Epoch 197/500\n",
      "4/4 [==============================] - 0s 11ms/step - loss: 69.4473 - mae: 6.4238 - val_loss: 46.1323 - val_mae: 5.3776\n",
      "Epoch 198/500\n",
      "4/4 [==============================] - 0s 11ms/step - loss: 68.7894 - mae: 6.3900 - val_loss: 45.8451 - val_mae: 5.3496\n",
      "Epoch 199/500\n",
      "4/4 [==============================] - 0s 9ms/step - loss: 68.0728 - mae: 6.3506 - val_loss: 45.2742 - val_mae: 5.3187\n",
      "Epoch 200/500\n",
      "4/4 [==============================] - 0s 5ms/step - loss: 66.9821 - mae: 6.3079 - val_loss: 45.1213 - val_mae: 5.3142\n",
      "Epoch 201/500\n",
      "4/4 [==============================] - 0s 8ms/step - loss: 66.2507 - mae: 6.2853 - val_loss: 44.8210 - val_mae: 5.3081\n",
      "Epoch 202/500\n",
      "4/4 [==============================] - 0s 7ms/step - loss: 65.6911 - mae: 6.2716 - val_loss: 44.0462 - val_mae: 5.2812\n",
      "Epoch 203/500\n",
      "4/4 [==============================] - 0s 10ms/step - loss: 65.0348 - mae: 6.2641 - val_loss: 43.6931 - val_mae: 5.2646\n",
      "Epoch 204/500\n",
      "4/4 [==============================] - 0s 8ms/step - loss: 64.4394 - mae: 6.2447 - val_loss: 43.0280 - val_mae: 5.2246\n",
      "Epoch 205/500\n",
      "4/4 [==============================] - 0s 9ms/step - loss: 63.7433 - mae: 6.2171 - val_loss: 42.5272 - val_mae: 5.1764\n",
      "Epoch 206/500\n",
      "4/4 [==============================] - 0s 9ms/step - loss: 62.7503 - mae: 6.1500 - val_loss: 42.2856 - val_mae: 5.1415\n",
      "Epoch 207/500\n",
      "4/4 [==============================] - 0s 8ms/step - loss: 62.0190 - mae: 6.0968 - val_loss: 41.8079 - val_mae: 5.0982\n",
      "Epoch 208/500\n",
      "4/4 [==============================] - 0s 7ms/step - loss: 61.2689 - mae: 6.0510 - val_loss: 41.4489 - val_mae: 5.0607\n",
      "Epoch 209/500\n",
      "4/4 [==============================] - 0s 7ms/step - loss: 60.6863 - mae: 6.0088 - val_loss: 40.6344 - val_mae: 5.0094\n",
      "Epoch 210/500\n",
      "4/4 [==============================] - 0s 8ms/step - loss: 59.8995 - mae: 5.9694 - val_loss: 40.3122 - val_mae: 4.9730\n",
      "Epoch 211/500\n",
      "4/4 [==============================] - 0s 7ms/step - loss: 59.4030 - mae: 5.9398 - val_loss: 40.0757 - val_mae: 4.9516\n",
      "Epoch 212/500\n",
      "4/4 [==============================] - 0s 7ms/step - loss: 58.6874 - mae: 5.8957 - val_loss: 39.5293 - val_mae: 4.8986\n",
      "Epoch 213/500\n",
      "4/4 [==============================] - 0s 9ms/step - loss: 58.0827 - mae: 5.8449 - val_loss: 39.1755 - val_mae: 4.8571\n",
      "Epoch 214/500\n",
      "4/4 [==============================] - 0s 9ms/step - loss: 57.4384 - mae: 5.8080 - val_loss: 38.8094 - val_mae: 4.8311\n",
      "Epoch 215/500\n",
      "4/4 [==============================] - 0s 7ms/step - loss: 56.8396 - mae: 5.7852 - val_loss: 38.1737 - val_mae: 4.8132\n",
      "Epoch 216/500\n",
      "4/4 [==============================] - 0s 7ms/step - loss: 56.0759 - mae: 5.7760 - val_loss: 37.8813 - val_mae: 4.8024\n",
      "Epoch 217/500\n",
      "4/4 [==============================] - 0s 9ms/step - loss: 55.7340 - mae: 5.7719 - val_loss: 36.9820 - val_mae: 4.7550\n",
      "Epoch 218/500\n",
      "4/4 [==============================] - 0s 7ms/step - loss: 54.8480 - mae: 5.7365 - val_loss: 36.7316 - val_mae: 4.7297\n",
      "Epoch 219/500\n",
      "4/4 [==============================] - 0s 7ms/step - loss: 54.3166 - mae: 5.7105 - val_loss: 36.2398 - val_mae: 4.7011\n",
      "Epoch 220/500\n",
      "4/4 [==============================] - 0s 9ms/step - loss: 53.7732 - mae: 5.6886 - val_loss: 35.8412 - val_mae: 4.6718\n",
      "Epoch 221/500\n",
      "4/4 [==============================] - 0s 7ms/step - loss: 53.1883 - mae: 5.6627 - val_loss: 35.6331 - val_mae: 4.6560\n",
      "Epoch 222/500\n",
      "4/4 [==============================] - 0s 7ms/step - loss: 52.6548 - mae: 5.6315 - val_loss: 35.4044 - val_mae: 4.6261\n",
      "Epoch 223/500\n",
      "4/4 [==============================] - 0s 9ms/step - loss: 52.1386 - mae: 5.5795 - val_loss: 35.5181 - val_mae: 4.5984\n",
      "Epoch 224/500\n",
      "4/4 [==============================] - 0s 7ms/step - loss: 51.5433 - mae: 5.5299 - val_loss: 35.4348 - val_mae: 4.5776\n",
      "Epoch 225/500\n",
      "4/4 [==============================] - 0s 7ms/step - loss: 51.1096 - mae: 5.5082 - val_loss: 35.1260 - val_mae: 4.5702\n",
      "Epoch 226/500\n",
      "4/4 [==============================] - 0s 7ms/step - loss: 50.5931 - mae: 5.4957 - val_loss: 34.7894 - val_mae: 4.5445\n",
      "Epoch 227/500\n",
      "4/4 [==============================] - 0s 9ms/step - loss: 50.0711 - mae: 5.4543 - val_loss: 34.5597 - val_mae: 4.5122\n",
      "Epoch 228/500\n",
      "4/4 [==============================] - 0s 7ms/step - loss: 49.5801 - mae: 5.4348 - val_loss: 33.9134 - val_mae: 4.4782\n",
      "Epoch 229/500\n",
      "4/4 [==============================] - 0s 7ms/step - loss: 49.0978 - mae: 5.4067 - val_loss: 33.7054 - val_mae: 4.4451\n",
      "Epoch 230/500\n",
      "4/4 [==============================] - 0s 9ms/step - loss: 48.7526 - mae: 5.3905 - val_loss: 33.4470 - val_mae: 4.4024\n",
      "Epoch 231/500\n",
      "4/4 [==============================] - 0s 8ms/step - loss: 48.1856 - mae: 5.3375 - val_loss: 32.9534 - val_mae: 4.3768\n",
      "Epoch 232/500\n",
      "4/4 [==============================] - 0s 8ms/step - loss: 47.6561 - mae: 5.3133 - val_loss: 32.6211 - val_mae: 4.3379\n",
      "Epoch 233/500\n",
      "4/4 [==============================] - 0s 7ms/step - loss: 47.1309 - mae: 5.2763 - val_loss: 32.6383 - val_mae: 4.3303\n",
      "Epoch 234/500\n",
      "4/4 [==============================] - 0s 9ms/step - loss: 46.6135 - mae: 5.2465 - val_loss: 32.4283 - val_mae: 4.3161\n",
      "Epoch 235/500\n",
      "4/4 [==============================] - 0s 8ms/step - loss: 46.1826 - mae: 5.2504 - val_loss: 32.0831 - val_mae: 4.3173\n",
      "Epoch 236/500\n",
      "4/4 [==============================] - 0s 7ms/step - loss: 45.6016 - mae: 5.2235 - val_loss: 31.9383 - val_mae: 4.3078\n",
      "Epoch 237/500\n",
      "4/4 [==============================] - 0s 7ms/step - loss: 45.1468 - mae: 5.1978 - val_loss: 31.8677 - val_mae: 4.2943\n",
      "Epoch 238/500\n",
      "4/4 [==============================] - 0s 9ms/step - loss: 44.7302 - mae: 5.1707 - val_loss: 32.0774 - val_mae: 4.2897\n",
      "Epoch 239/500\n",
      "4/4 [==============================] - 0s 8ms/step - loss: 44.4011 - mae: 5.1440 - val_loss: 32.1185 - val_mae: 4.2863\n",
      "Epoch 240/500\n",
      "4/4 [==============================] - 0s 8ms/step - loss: 43.9337 - mae: 5.1109 - val_loss: 31.9961 - val_mae: 4.2609\n",
      "Epoch 241/500\n",
      "4/4 [==============================] - 0s 8ms/step - loss: 43.5762 - mae: 5.0755 - val_loss: 32.2073 - val_mae: 4.2500\n",
      "Epoch 242/500\n",
      "4/4 [==============================] - 0s 7ms/step - loss: 43.3026 - mae: 5.0446 - val_loss: 32.1781 - val_mae: 4.2462\n",
      "Epoch 243/500\n",
      "4/4 [==============================] - 0s 7ms/step - loss: 42.9129 - mae: 5.0046 - val_loss: 31.9524 - val_mae: 4.2256\n",
      "Epoch 244/500\n",
      "4/4 [==============================] - 0s 8ms/step - loss: 42.3594 - mae: 4.9780 - val_loss: 31.2383 - val_mae: 4.1716\n",
      "Epoch 245/500\n",
      "4/4 [==============================] - 0s 8ms/step - loss: 41.9304 - mae: 4.9689 - val_loss: 30.1343 - val_mae: 4.1369\n",
      "Epoch 246/500\n",
      "4/4 [==============================] - 0s 7ms/step - loss: 41.6312 - mae: 4.9870 - val_loss: 29.4493 - val_mae: 4.1166\n",
      "Epoch 247/500\n",
      "4/4 [==============================] - 0s 7ms/step - loss: 41.3445 - mae: 4.9889 - val_loss: 28.8272 - val_mae: 4.0811\n",
      "Epoch 248/500\n",
      "4/4 [==============================] - 0s 9ms/step - loss: 41.0301 - mae: 4.9772 - val_loss: 28.6467 - val_mae: 4.0600\n",
      "Epoch 249/500\n",
      "4/4 [==============================] - 0s 7ms/step - loss: 40.6149 - mae: 4.9499 - val_loss: 28.2313 - val_mae: 4.0210\n",
      "Epoch 250/500\n",
      "4/4 [==============================] - 0s 9ms/step - loss: 40.1763 - mae: 4.9048 - val_loss: 28.4349 - val_mae: 4.0113\n",
      "Epoch 251/500\n",
      "4/4 [==============================] - 0s 9ms/step - loss: 39.8710 - mae: 4.8577 - val_loss: 28.6151 - val_mae: 4.0088\n",
      "Epoch 252/500\n",
      "4/4 [==============================] - 0s 8ms/step - loss: 39.5447 - mae: 4.8304 - val_loss: 28.8969 - val_mae: 4.0250\n",
      "Epoch 253/500\n",
      "4/4 [==============================] - 0s 8ms/step - loss: 39.2206 - mae: 4.7977 - val_loss: 28.6968 - val_mae: 4.0115\n",
      "Epoch 254/500\n",
      "4/4 [==============================] - 0s 8ms/step - loss: 38.8972 - mae: 4.7651 - val_loss: 28.8457 - val_mae: 4.0149\n",
      "Epoch 255/500\n",
      "4/4 [==============================] - 0s 8ms/step - loss: 38.5107 - mae: 4.7428 - val_loss: 28.5423 - val_mae: 3.9869\n",
      "Epoch 256/500\n",
      "4/4 [==============================] - 0s 8ms/step - loss: 38.1428 - mae: 4.7325 - val_loss: 27.8971 - val_mae: 3.9324\n",
      "Epoch 257/500\n",
      "4/4 [==============================] - 0s 9ms/step - loss: 37.7312 - mae: 4.7282 - val_loss: 27.6535 - val_mae: 3.9206\n",
      "Epoch 258/500\n",
      "4/4 [==============================] - 0s 10ms/step - loss: 37.4156 - mae: 4.7195 - val_loss: 27.4129 - val_mae: 3.9047\n",
      "Epoch 259/500\n",
      "4/4 [==============================] - 0s 11ms/step - loss: 37.0703 - mae: 4.6969 - val_loss: 27.2822 - val_mae: 3.8853\n",
      "Epoch 260/500\n",
      "4/4 [==============================] - 0s 7ms/step - loss: 36.9200 - mae: 4.6887 - val_loss: 26.9938 - val_mae: 3.8581\n",
      "Epoch 261/500\n",
      "4/4 [==============================] - 0s 7ms/step - loss: 36.6415 - mae: 4.6592 - val_loss: 27.0746 - val_mae: 3.8507\n",
      "Epoch 262/500\n",
      "4/4 [==============================] - 0s 7ms/step - loss: 36.0891 - mae: 4.6001 - val_loss: 27.1887 - val_mae: 3.8505\n",
      "Epoch 263/500\n",
      "4/4 [==============================] - 0s 7ms/step - loss: 35.9676 - mae: 4.5851 - val_loss: 27.1560 - val_mae: 3.8316\n",
      "Epoch 264/500\n",
      "4/4 [==============================] - 0s 8ms/step - loss: 35.5960 - mae: 4.5554 - val_loss: 26.9784 - val_mae: 3.8245\n",
      "Epoch 265/500\n",
      "4/4 [==============================] - 0s 8ms/step - loss: 35.2973 - mae: 4.5331 - val_loss: 26.5126 - val_mae: 3.7984\n",
      "Epoch 266/500\n",
      "4/4 [==============================] - 0s 8ms/step - loss: 35.0355 - mae: 4.5197 - val_loss: 26.0550 - val_mae: 3.7710\n",
      "Epoch 267/500\n",
      "4/4 [==============================] - 0s 8ms/step - loss: 34.7193 - mae: 4.5000 - val_loss: 25.8020 - val_mae: 3.7536\n",
      "Epoch 268/500\n",
      "4/4 [==============================] - 0s 9ms/step - loss: 34.5587 - mae: 4.4799 - val_loss: 25.7989 - val_mae: 3.7406\n",
      "Epoch 269/500\n",
      "4/4 [==============================] - 0s 7ms/step - loss: 34.2535 - mae: 4.4573 - val_loss: 25.5885 - val_mae: 3.7346\n",
      "Epoch 270/500\n",
      "4/4 [==============================] - 0s 4ms/step - loss: 33.9310 - mae: 4.4418 - val_loss: 25.5778 - val_mae: 3.7234\n",
      "Epoch 271/500\n",
      "4/4 [==============================] - 0s 9ms/step - loss: 33.8002 - mae: 4.4237 - val_loss: 25.8554 - val_mae: 3.7229\n",
      "Epoch 272/500\n",
      "4/4 [==============================] - 0s 9ms/step - loss: 33.4657 - mae: 4.4047 - val_loss: 25.7076 - val_mae: 3.7154\n",
      "Epoch 273/500\n",
      "4/4 [==============================] - 0s 5ms/step - loss: 33.2026 - mae: 4.3923 - val_loss: 25.3117 - val_mae: 3.6868\n",
      "Epoch 274/500\n",
      "4/4 [==============================] - 0s 11ms/step - loss: 33.0421 - mae: 4.3911 - val_loss: 24.6979 - val_mae: 3.6440\n",
      "Epoch 275/500\n",
      "4/4 [==============================] - 0s 11ms/step - loss: 32.6987 - mae: 4.3730 - val_loss: 24.4404 - val_mae: 3.6246\n",
      "Epoch 276/500\n",
      "4/4 [==============================] - 0s 8ms/step - loss: 32.5291 - mae: 4.3530 - val_loss: 24.2237 - val_mae: 3.6022\n",
      "Epoch 277/500\n",
      "4/4 [==============================] - 0s 5ms/step - loss: 32.1964 - mae: 4.3256 - val_loss: 24.3967 - val_mae: 3.6046\n",
      "Epoch 278/500\n",
      "4/4 [==============================] - 0s 7ms/step - loss: 32.0265 - mae: 4.3058 - val_loss: 24.2717 - val_mae: 3.5986\n",
      "Epoch 279/500\n",
      "4/4 [==============================] - 0s 5ms/step - loss: 31.6446 - mae: 4.2738 - val_loss: 24.2109 - val_mae: 3.5974\n",
      "Epoch 280/500\n",
      "4/4 [==============================] - 0s 9ms/step - loss: 31.4624 - mae: 4.2563 - val_loss: 24.3158 - val_mae: 3.6089\n",
      "Epoch 281/500\n",
      "4/4 [==============================] - 0s 5ms/step - loss: 31.2908 - mae: 4.2299 - val_loss: 24.1116 - val_mae: 3.5933\n",
      "Epoch 282/500\n",
      "4/4 [==============================] - 0s 5ms/step - loss: 31.0321 - mae: 4.2050 - val_loss: 24.1681 - val_mae: 3.6102\n",
      "Epoch 283/500\n",
      "4/4 [==============================] - 0s 8ms/step - loss: 30.8569 - mae: 4.1872 - val_loss: 24.0306 - val_mae: 3.5835\n",
      "Epoch 284/500\n",
      "4/4 [==============================] - 0s 5ms/step - loss: 30.6579 - mae: 4.1697 - val_loss: 23.7003 - val_mae: 3.5654\n",
      "Epoch 285/500\n",
      "4/4 [==============================] - 0s 5ms/step - loss: 30.3749 - mae: 4.1665 - val_loss: 23.2919 - val_mae: 3.5352\n",
      "Epoch 286/500\n",
      "4/4 [==============================] - 0s 9ms/step - loss: 30.1792 - mae: 4.1543 - val_loss: 22.8282 - val_mae: 3.5087\n",
      "Epoch 287/500\n",
      "4/4 [==============================] - 0s 8ms/step - loss: 29.9391 - mae: 4.1511 - val_loss: 22.8928 - val_mae: 3.4953\n",
      "Epoch 288/500\n",
      "4/4 [==============================] - 0s 6ms/step - loss: 29.6446 - mae: 4.1340 - val_loss: 22.8091 - val_mae: 3.4875\n",
      "Epoch 289/500\n",
      "4/4 [==============================] - 0s 9ms/step - loss: 29.4682 - mae: 4.1279 - val_loss: 22.7877 - val_mae: 3.4745\n",
      "Epoch 290/500\n",
      "4/4 [==============================] - 0s 7ms/step - loss: 29.2472 - mae: 4.1183 - val_loss: 22.6638 - val_mae: 3.4633\n",
      "Epoch 291/500\n",
      "4/4 [==============================] - 0s 5ms/step - loss: 29.0789 - mae: 4.1036 - val_loss: 22.7563 - val_mae: 3.4685\n",
      "Epoch 292/500\n",
      "4/4 [==============================] - 0s 5ms/step - loss: 28.8462 - mae: 4.0849 - val_loss: 22.6426 - val_mae: 3.4636\n",
      "Epoch 293/500\n",
      "4/4 [==============================] - 0s 7ms/step - loss: 28.6461 - mae: 4.0697 - val_loss: 22.7037 - val_mae: 3.4676\n",
      "Epoch 294/500\n",
      "4/4 [==============================] - 0s 9ms/step - loss: 28.4970 - mae: 4.0509 - val_loss: 22.8951 - val_mae: 3.4661\n",
      "Epoch 295/500\n",
      "4/4 [==============================] - 0s 9ms/step - loss: 28.3294 - mae: 4.0282 - val_loss: 22.7109 - val_mae: 3.4450\n",
      "Epoch 296/500\n",
      "4/4 [==============================] - 0s 5ms/step - loss: 27.9706 - mae: 4.0074 - val_loss: 22.5215 - val_mae: 3.4352\n",
      "Epoch 297/500\n",
      "4/4 [==============================] - 0s 11ms/step - loss: 27.8376 - mae: 4.0049 - val_loss: 22.2899 - val_mae: 3.4176\n",
      "Epoch 298/500\n",
      "4/4 [==============================] - 0s 5ms/step - loss: 27.6365 - mae: 3.9917 - val_loss: 21.8887 - val_mae: 3.3777\n",
      "Epoch 299/500\n",
      "4/4 [==============================] - 0s 12ms/step - loss: 27.4492 - mae: 3.9953 - val_loss: 21.5745 - val_mae: 3.3569\n",
      "Epoch 300/500\n",
      "4/4 [==============================] - 0s 5ms/step - loss: 27.2140 - mae: 3.9793 - val_loss: 21.5060 - val_mae: 3.3504\n",
      "Epoch 301/500\n",
      "4/4 [==============================] - 0s 12ms/step - loss: 26.9915 - mae: 3.9580 - val_loss: 21.4876 - val_mae: 3.3618\n",
      "Epoch 302/500\n",
      "4/4 [==============================] - 0s 5ms/step - loss: 26.8801 - mae: 3.9545 - val_loss: 21.6723 - val_mae: 3.3713\n",
      "Epoch 303/500\n",
      "4/4 [==============================] - 0s 11ms/step - loss: 26.6030 - mae: 3.9256 - val_loss: 21.7859 - val_mae: 3.3632\n",
      "Epoch 304/500\n",
      "4/4 [==============================] - 0s 6ms/step - loss: 26.5947 - mae: 3.9137 - val_loss: 21.8749 - val_mae: 3.3410\n",
      "Epoch 305/500\n",
      "4/4 [==============================] - 0s 11ms/step - loss: 26.3721 - mae: 3.9006 - val_loss: 21.8752 - val_mae: 3.3359\n",
      "Epoch 306/500\n",
      "4/4 [==============================] - 0s 5ms/step - loss: 26.0006 - mae: 3.8813 - val_loss: 21.5358 - val_mae: 3.3214\n",
      "Epoch 307/500\n",
      "4/4 [==============================] - 0s 6ms/step - loss: 25.8841 - mae: 3.8749 - val_loss: 21.2009 - val_mae: 3.2981\n",
      "Epoch 308/500\n",
      "4/4 [==============================] - 0s 5ms/step - loss: 25.7958 - mae: 3.8789 - val_loss: 20.9847 - val_mae: 3.2773\n",
      "Epoch 309/500\n",
      "4/4 [==============================] - 0s 8ms/step - loss: 25.5613 - mae: 3.8630 - val_loss: 20.7822 - val_mae: 3.2578\n",
      "Epoch 310/500\n",
      "4/4 [==============================] - 0s 11ms/step - loss: 25.3046 - mae: 3.8419 - val_loss: 20.8453 - val_mae: 3.2565\n",
      "Epoch 311/500\n",
      "4/4 [==============================] - 0s 9ms/step - loss: 25.1254 - mae: 3.8213 - val_loss: 21.0243 - val_mae: 3.2513\n",
      "Epoch 312/500\n",
      "4/4 [==============================] - 0s 5ms/step - loss: 25.0798 - mae: 3.8093 - val_loss: 21.1418 - val_mae: 3.2666\n",
      "Epoch 313/500\n",
      "4/4 [==============================] - 0s 12ms/step - loss: 24.9084 - mae: 3.7878 - val_loss: 21.0216 - val_mae: 3.2490\n",
      "Epoch 314/500\n",
      "4/4 [==============================] - 0s 5ms/step - loss: 24.7180 - mae: 3.7717 - val_loss: 20.8244 - val_mae: 3.2229\n",
      "Epoch 315/500\n",
      "4/4 [==============================] - 0s 13ms/step - loss: 24.5916 - mae: 3.7676 - val_loss: 20.3230 - val_mae: 3.1784\n",
      "Epoch 316/500\n",
      "4/4 [==============================] - 0s 9ms/step - loss: 24.4359 - mae: 3.7608 - val_loss: 19.9512 - val_mae: 3.1729\n",
      "Epoch 317/500\n",
      "4/4 [==============================] - 0s 9ms/step - loss: 24.2212 - mae: 3.7472 - val_loss: 19.7715 - val_mae: 3.1644\n",
      "Epoch 318/500\n",
      "4/4 [==============================] - 0s 8ms/step - loss: 24.0767 - mae: 3.7393 - val_loss: 19.6822 - val_mae: 3.1751\n",
      "Epoch 319/500\n",
      "4/4 [==============================] - 0s 8ms/step - loss: 23.9949 - mae: 3.7292 - val_loss: 19.8988 - val_mae: 3.2224\n",
      "Epoch 320/500\n",
      "4/4 [==============================] - 0s 7ms/step - loss: 23.7765 - mae: 3.7072 - val_loss: 19.9067 - val_mae: 3.2214\n",
      "Epoch 321/500\n",
      "4/4 [==============================] - 0s 8ms/step - loss: 23.5477 - mae: 3.6876 - val_loss: 19.8004 - val_mae: 3.1887\n",
      "Epoch 322/500\n",
      "4/4 [==============================] - 0s 7ms/step - loss: 23.5248 - mae: 3.6882 - val_loss: 19.3474 - val_mae: 3.1121\n",
      "Epoch 323/500\n",
      "4/4 [==============================] - 0s 7ms/step - loss: 23.3705 - mae: 3.6915 - val_loss: 18.9533 - val_mae: 3.0916\n",
      "Epoch 324/500\n",
      "4/4 [==============================] - 0s 7ms/step - loss: 23.2325 - mae: 3.6853 - val_loss: 18.7348 - val_mae: 3.0945\n",
      "Epoch 325/500\n",
      "4/4 [==============================] - 0s 9ms/step - loss: 23.0665 - mae: 3.6673 - val_loss: 18.9992 - val_mae: 3.1051\n",
      "Epoch 326/500\n",
      "4/4 [==============================] - 0s 8ms/step - loss: 22.9444 - mae: 3.6526 - val_loss: 19.2287 - val_mae: 3.1484\n",
      "Epoch 327/500\n",
      "4/4 [==============================] - 0s 7ms/step - loss: 22.6750 - mae: 3.6206 - val_loss: 19.2014 - val_mae: 3.1471\n",
      "Epoch 328/500\n",
      "4/4 [==============================] - 0s 7ms/step - loss: 22.5972 - mae: 3.6137 - val_loss: 18.8777 - val_mae: 3.0905\n",
      "Epoch 329/500\n",
      "4/4 [==============================] - 0s 8ms/step - loss: 22.4487 - mae: 3.6104 - val_loss: 18.8171 - val_mae: 3.0993\n",
      "Epoch 330/500\n",
      "4/4 [==============================] - 0s 8ms/step - loss: 22.3267 - mae: 3.6008 - val_loss: 18.7675 - val_mae: 3.0866\n",
      "Epoch 331/500\n",
      "4/4 [==============================] - 0s 8ms/step - loss: 22.1007 - mae: 3.5866 - val_loss: 18.6672 - val_mae: 3.0596\n",
      "Epoch 332/500\n",
      "4/4 [==============================] - 0s 7ms/step - loss: 22.0731 - mae: 3.5926 - val_loss: 18.4142 - val_mae: 3.0265\n",
      "Epoch 333/500\n",
      "4/4 [==============================] - 0s 7ms/step - loss: 21.8412 - mae: 3.5744 - val_loss: 18.3304 - val_mae: 3.0090\n",
      "Epoch 334/500\n",
      "4/4 [==============================] - 0s 8ms/step - loss: 21.6783 - mae: 3.5614 - val_loss: 18.2047 - val_mae: 3.0234\n",
      "Epoch 335/500\n",
      "4/4 [==============================] - 0s 7ms/step - loss: 21.4994 - mae: 3.5489 - val_loss: 18.1973 - val_mae: 3.0188\n",
      "Epoch 336/500\n",
      "4/4 [==============================] - 0s 7ms/step - loss: 21.4087 - mae: 3.5432 - val_loss: 18.0872 - val_mae: 3.0141\n",
      "Epoch 337/500\n",
      "4/4 [==============================] - 0s 7ms/step - loss: 21.2465 - mae: 3.5371 - val_loss: 18.0179 - val_mae: 2.9890\n",
      "Epoch 338/500\n",
      "4/4 [==============================] - 0s 9ms/step - loss: 21.0626 - mae: 3.5274 - val_loss: 18.0289 - val_mae: 2.9768\n",
      "Epoch 339/500\n",
      "4/4 [==============================] - 0s 8ms/step - loss: 21.0510 - mae: 3.5322 - val_loss: 17.9359 - val_mae: 2.9533\n",
      "Epoch 340/500\n",
      "4/4 [==============================] - 0s 5ms/step - loss: 20.8329 - mae: 3.5197 - val_loss: 17.9032 - val_mae: 2.9463\n",
      "Epoch 341/500\n",
      "4/4 [==============================] - 0s 11ms/step - loss: 20.6867 - mae: 3.5015 - val_loss: 18.0099 - val_mae: 2.9370\n",
      "Epoch 342/500\n",
      "4/4 [==============================] - 0s 8ms/step - loss: 20.6494 - mae: 3.4849 - val_loss: 18.1497 - val_mae: 2.9312\n",
      "Epoch 343/500\n",
      "4/4 [==============================] - 0s 8ms/step - loss: 20.3688 - mae: 3.4615 - val_loss: 18.0175 - val_mae: 2.9206\n",
      "Epoch 344/500\n",
      "4/4 [==============================] - 0s 5ms/step - loss: 20.2926 - mae: 3.4596 - val_loss: 17.7692 - val_mae: 2.9108\n",
      "Epoch 345/500\n",
      "4/4 [==============================] - 0s 10ms/step - loss: 20.1444 - mae: 3.4481 - val_loss: 17.5057 - val_mae: 2.8819\n",
      "Epoch 346/500\n",
      "4/4 [==============================] - 0s 10ms/step - loss: 19.9660 - mae: 3.4410 - val_loss: 17.2924 - val_mae: 2.8701\n",
      "Epoch 347/500\n",
      "4/4 [==============================] - 0s 4ms/step - loss: 19.8330 - mae: 3.4385 - val_loss: 17.2620 - val_mae: 2.8732\n",
      "Epoch 348/500\n",
      "4/4 [==============================] - 0s 5ms/step - loss: 19.7786 - mae: 3.4446 - val_loss: 17.2625 - val_mae: 2.8935\n",
      "Epoch 349/500\n",
      "4/4 [==============================] - 0s 10ms/step - loss: 19.6135 - mae: 3.4302 - val_loss: 17.3343 - val_mae: 2.8892\n",
      "Epoch 350/500\n",
      "4/4 [==============================] - 0s 7ms/step - loss: 19.4738 - mae: 3.4146 - val_loss: 17.4160 - val_mae: 2.8857\n",
      "Epoch 351/500\n",
      "4/4 [==============================] - 0s 5ms/step - loss: 19.3932 - mae: 3.4032 - val_loss: 17.4585 - val_mae: 2.9143\n",
      "Epoch 352/500\n",
      "4/4 [==============================] - 0s 9ms/step - loss: 19.1723 - mae: 3.3724 - val_loss: 17.4525 - val_mae: 2.8900\n",
      "Epoch 353/500\n",
      "4/4 [==============================] - 0s 8ms/step - loss: 19.0635 - mae: 3.3550 - val_loss: 17.4094 - val_mae: 2.8538\n",
      "Epoch 354/500\n",
      "4/4 [==============================] - 0s 10ms/step - loss: 18.9666 - mae: 3.3508 - val_loss: 17.3686 - val_mae: 2.8218\n",
      "Epoch 355/500\n",
      "4/4 [==============================] - 0s 13ms/step - loss: 18.8749 - mae: 3.3405 - val_loss: 17.3182 - val_mae: 2.8239\n",
      "Epoch 356/500\n",
      "4/4 [==============================] - 0s 5ms/step - loss: 18.7506 - mae: 3.3263 - val_loss: 16.9853 - val_mae: 2.7884\n",
      "Epoch 357/500\n",
      "4/4 [==============================] - 0s 9ms/step - loss: 18.6311 - mae: 3.3227 - val_loss: 16.7807 - val_mae: 2.7657\n",
      "Epoch 358/500\n",
      "4/4 [==============================] - 0s 9ms/step - loss: 18.5384 - mae: 3.3110 - val_loss: 16.7278 - val_mae: 2.7637\n",
      "Epoch 359/500\n",
      "4/4 [==============================] - 0s 9ms/step - loss: 18.3943 - mae: 3.3007 - val_loss: 16.5213 - val_mae: 2.7454\n",
      "Epoch 360/500\n",
      "4/4 [==============================] - 0s 7ms/step - loss: 18.2680 - mae: 3.2899 - val_loss: 16.4690 - val_mae: 2.7399\n",
      "Epoch 361/500\n",
      "4/4 [==============================] - 0s 5ms/step - loss: 18.1323 - mae: 3.2782 - val_loss: 16.5881 - val_mae: 2.7634\n",
      "Epoch 362/500\n",
      "4/4 [==============================] - 0s 8ms/step - loss: 18.0897 - mae: 3.2700 - val_loss: 16.7446 - val_mae: 2.7887\n",
      "Epoch 363/500\n",
      "4/4 [==============================] - 0s 11ms/step - loss: 18.0143 - mae: 3.2591 - val_loss: 16.7363 - val_mae: 2.7956\n",
      "Epoch 364/500\n",
      "4/4 [==============================] - 0s 6ms/step - loss: 17.9583 - mae: 3.2640 - val_loss: 16.7877 - val_mae: 2.8346\n",
      "Epoch 365/500\n",
      "4/4 [==============================] - 0s 5ms/step - loss: 17.8099 - mae: 3.2341 - val_loss: 16.5107 - val_mae: 2.7863\n",
      "Epoch 366/500\n",
      "4/4 [==============================] - 0s 5ms/step - loss: 17.6432 - mae: 3.2252 - val_loss: 16.2819 - val_mae: 2.7408\n",
      "Epoch 367/500\n",
      "4/4 [==============================] - 0s 5ms/step - loss: 17.5911 - mae: 3.2338 - val_loss: 15.8993 - val_mae: 2.6603\n",
      "Epoch 368/500\n",
      "4/4 [==============================] - 0s 11ms/step - loss: 17.5647 - mae: 3.2391 - val_loss: 15.6629 - val_mae: 2.6373\n",
      "Epoch 369/500\n",
      "4/4 [==============================] - 0s 8ms/step - loss: 17.4470 - mae: 3.2257 - val_loss: 15.8091 - val_mae: 2.7024\n",
      "Epoch 370/500\n",
      "4/4 [==============================] - 0s 8ms/step - loss: 17.3061 - mae: 3.2163 - val_loss: 15.6966 - val_mae: 2.7337\n",
      "Epoch 371/500\n",
      "4/4 [==============================] - 0s 5ms/step - loss: 17.1992 - mae: 3.2060 - val_loss: 15.7700 - val_mae: 2.7409\n",
      "Epoch 372/500\n",
      "4/4 [==============================] - 0s 10ms/step - loss: 17.1276 - mae: 3.2111 - val_loss: 15.6451 - val_mae: 2.7388\n",
      "Epoch 373/500\n",
      "4/4 [==============================] - 0s 8ms/step - loss: 17.0312 - mae: 3.2123 - val_loss: 15.5212 - val_mae: 2.6849\n",
      "Epoch 374/500\n",
      "4/4 [==============================] - 0s 6ms/step - loss: 16.9166 - mae: 3.1985 - val_loss: 15.5961 - val_mae: 2.6923\n",
      "Epoch 375/500\n",
      "4/4 [==============================] - 0s 10ms/step - loss: 16.9176 - mae: 3.2039 - val_loss: 15.4809 - val_mae: 2.6479\n",
      "Epoch 376/500\n",
      "4/4 [==============================] - 0s 6ms/step - loss: 16.8290 - mae: 3.1972 - val_loss: 15.8116 - val_mae: 2.6781\n",
      "Epoch 377/500\n",
      "4/4 [==============================] - 0s 11ms/step - loss: 16.6750 - mae: 3.1686 - val_loss: 15.8215 - val_mae: 2.6876\n",
      "Epoch 378/500\n",
      "4/4 [==============================] - 0s 4ms/step - loss: 16.7084 - mae: 3.1663 - val_loss: 15.8875 - val_mae: 2.7110\n",
      "Epoch 379/500\n",
      "4/4 [==============================] - 0s 11ms/step - loss: 16.6680 - mae: 3.1493 - val_loss: 16.0507 - val_mae: 2.7699\n",
      "Epoch 380/500\n",
      "4/4 [==============================] - 0s 5ms/step - loss: 16.5936 - mae: 3.1456 - val_loss: 15.6763 - val_mae: 2.7304\n",
      "Epoch 381/500\n",
      "4/4 [==============================] - 0s 8ms/step - loss: 16.4491 - mae: 3.1363 - val_loss: 15.3643 - val_mae: 2.6797\n",
      "Epoch 382/500\n",
      "4/4 [==============================] - 0s 8ms/step - loss: 16.3765 - mae: 3.1419 - val_loss: 15.0746 - val_mae: 2.6285\n",
      "Epoch 383/500\n",
      "4/4 [==============================] - 0s 7ms/step - loss: 16.2548 - mae: 3.1496 - val_loss: 14.9719 - val_mae: 2.6382\n",
      "Epoch 384/500\n",
      "4/4 [==============================] - 0s 5ms/step - loss: 16.2195 - mae: 3.1425 - val_loss: 14.9678 - val_mae: 2.6264\n",
      "Epoch 385/500\n",
      "4/4 [==============================] - 0s 11ms/step - loss: 16.1201 - mae: 3.1323 - val_loss: 14.9225 - val_mae: 2.6610\n",
      "Epoch 386/500\n",
      "4/4 [==============================] - 0s 6ms/step - loss: 16.0465 - mae: 3.1296 - val_loss: 14.8370 - val_mae: 2.6506\n",
      "Epoch 387/500\n",
      "4/4 [==============================] - 0s 11ms/step - loss: 16.0859 - mae: 3.1322 - val_loss: 14.8561 - val_mae: 2.6243\n",
      "Epoch 388/500\n",
      "4/4 [==============================] - 0s 8ms/step - loss: 15.9312 - mae: 3.1219 - val_loss: 14.7096 - val_mae: 2.6105\n",
      "Epoch 389/500\n",
      "4/4 [==============================] - 0s 7ms/step - loss: 15.8285 - mae: 3.1080 - val_loss: 14.8734 - val_mae: 2.6255\n",
      "Epoch 390/500\n",
      "4/4 [==============================] - 0s 4ms/step - loss: 15.7517 - mae: 3.0988 - val_loss: 14.9356 - val_mae: 2.6342\n",
      "Epoch 391/500\n",
      "4/4 [==============================] - 0s 12ms/step - loss: 15.7303 - mae: 3.0899 - val_loss: 14.9317 - val_mae: 2.6539\n",
      "Epoch 392/500\n",
      "4/4 [==============================] - 0s 8ms/step - loss: 15.6800 - mae: 3.0901 - val_loss: 14.8024 - val_mae: 2.6338\n",
      "Epoch 393/500\n",
      "4/4 [==============================] - 0s 8ms/step - loss: 15.5627 - mae: 3.0661 - val_loss: 14.8954 - val_mae: 2.6896\n",
      "Epoch 394/500\n",
      "4/4 [==============================] - 0s 7ms/step - loss: 15.5320 - mae: 3.0680 - val_loss: 14.8056 - val_mae: 2.6897\n",
      "Epoch 395/500\n",
      "4/4 [==============================] - 0s 7ms/step - loss: 15.6266 - mae: 3.0790 - val_loss: 14.7487 - val_mae: 2.6926\n",
      "Epoch 396/500\n",
      "4/4 [==============================] - 0s 10ms/step - loss: 15.5234 - mae: 3.0775 - val_loss: 14.3688 - val_mae: 2.6260\n",
      "Epoch 397/500\n",
      "4/4 [==============================] - 0s 14ms/step - loss: 15.3020 - mae: 3.0547 - val_loss: 14.2430 - val_mae: 2.5405\n",
      "Epoch 398/500\n",
      "4/4 [==============================] - 0s 5ms/step - loss: 15.3225 - mae: 3.0625 - val_loss: 14.1158 - val_mae: 2.4791\n",
      "Epoch 399/500\n",
      "4/4 [==============================] - 0s 8ms/step - loss: 15.3000 - mae: 3.0655 - val_loss: 13.9744 - val_mae: 2.4655\n",
      "Epoch 400/500\n",
      "4/4 [==============================] - 0s 6ms/step - loss: 15.2731 - mae: 3.0689 - val_loss: 13.6997 - val_mae: 2.4434\n",
      "Epoch 401/500\n",
      "4/4 [==============================] - 0s 10ms/step - loss: 15.2088 - mae: 3.0634 - val_loss: 13.6782 - val_mae: 2.4698\n",
      "Epoch 402/500\n",
      "4/4 [==============================] - 0s 9ms/step - loss: 15.1736 - mae: 3.0658 - val_loss: 13.7666 - val_mae: 2.5428\n",
      "Epoch 403/500\n",
      "4/4 [==============================] - 0s 5ms/step - loss: 14.9760 - mae: 3.0333 - val_loss: 13.9185 - val_mae: 2.5533\n",
      "Epoch 404/500\n",
      "4/4 [==============================] - 0s 9ms/step - loss: 14.8870 - mae: 3.0233 - val_loss: 13.9620 - val_mae: 2.5558\n",
      "Epoch 405/500\n",
      "4/4 [==============================] - 0s 10ms/step - loss: 14.9476 - mae: 3.0260 - val_loss: 14.0330 - val_mae: 2.5486\n",
      "Epoch 406/500\n",
      "4/4 [==============================] - 0s 5ms/step - loss: 14.7599 - mae: 3.0095 - val_loss: 14.1144 - val_mae: 2.5785\n",
      "Epoch 407/500\n",
      "4/4 [==============================] - 0s 5ms/step - loss: 14.8049 - mae: 3.0076 - val_loss: 14.0845 - val_mae: 2.5732\n",
      "Epoch 408/500\n",
      "4/4 [==============================] - 0s 8ms/step - loss: 14.7976 - mae: 3.0137 - val_loss: 13.8511 - val_mae: 2.5751\n",
      "Epoch 409/500\n",
      "4/4 [==============================] - 0s 9ms/step - loss: 14.5835 - mae: 2.9971 - val_loss: 13.6600 - val_mae: 2.5528\n",
      "Epoch 410/500\n",
      "4/4 [==============================] - 0s 5ms/step - loss: 14.5437 - mae: 2.9983 - val_loss: 13.5019 - val_mae: 2.5657\n",
      "Epoch 411/500\n",
      "4/4 [==============================] - 0s 11ms/step - loss: 14.4476 - mae: 2.9915 - val_loss: 13.3143 - val_mae: 2.5017\n",
      "Epoch 412/500\n",
      "4/4 [==============================] - 0s 8ms/step - loss: 14.4458 - mae: 3.0000 - val_loss: 13.2921 - val_mae: 2.4771\n",
      "Epoch 413/500\n",
      "4/4 [==============================] - 0s 6ms/step - loss: 14.3983 - mae: 2.9984 - val_loss: 13.3671 - val_mae: 2.4733\n",
      "Epoch 414/500\n",
      "4/4 [==============================] - 0s 11ms/step - loss: 14.4075 - mae: 2.9845 - val_loss: 13.7517 - val_mae: 2.5511\n",
      "Epoch 415/500\n",
      "4/4 [==============================] - 0s 9ms/step - loss: 14.2482 - mae: 2.9601 - val_loss: 13.7530 - val_mae: 2.5715\n",
      "Epoch 416/500\n",
      "4/4 [==============================] - 0s 4ms/step - loss: 14.2498 - mae: 2.9580 - val_loss: 13.4858 - val_mae: 2.5412\n",
      "Epoch 417/500\n",
      "4/4 [==============================] - 0s 5ms/step - loss: 14.1189 - mae: 2.9567 - val_loss: 13.3296 - val_mae: 2.5134\n",
      "Epoch 418/500\n",
      "4/4 [==============================] - 0s 11ms/step - loss: 14.1009 - mae: 2.9648 - val_loss: 13.1352 - val_mae: 2.4743\n",
      "Epoch 419/500\n",
      "4/4 [==============================] - 0s 6ms/step - loss: 14.0896 - mae: 2.9558 - val_loss: 13.1902 - val_mae: 2.4772\n",
      "Epoch 420/500\n",
      "4/4 [==============================] - 0s 10ms/step - loss: 14.0930 - mae: 2.9636 - val_loss: 13.3504 - val_mae: 2.5177\n",
      "Epoch 421/500\n",
      "4/4 [==============================] - 0s 6ms/step - loss: 13.9774 - mae: 2.9480 - val_loss: 13.2146 - val_mae: 2.4918\n",
      "Epoch 422/500\n",
      "4/4 [==============================] - 0s 12ms/step - loss: 13.8910 - mae: 2.9316 - val_loss: 13.1037 - val_mae: 2.4987\n",
      "Epoch 423/500\n",
      "4/4 [==============================] - 0s 5ms/step - loss: 13.8094 - mae: 2.9363 - val_loss: 12.9140 - val_mae: 2.4718\n",
      "Epoch 424/500\n",
      "4/4 [==============================] - 0s 5ms/step - loss: 13.7823 - mae: 2.9369 - val_loss: 12.8616 - val_mae: 2.4620\n",
      "Epoch 425/500\n",
      "4/4 [==============================] - 0s 9ms/step - loss: 13.7024 - mae: 2.9296 - val_loss: 12.9232 - val_mae: 2.4823\n",
      "Epoch 426/500\n",
      "4/4 [==============================] - 0s 9ms/step - loss: 13.6790 - mae: 2.9237 - val_loss: 12.9057 - val_mae: 2.4894\n",
      "Epoch 427/500\n",
      "4/4 [==============================] - 0s 5ms/step - loss: 13.6665 - mae: 2.9256 - val_loss: 12.7295 - val_mae: 2.4610\n",
      "Epoch 428/500\n",
      "4/4 [==============================] - 0s 6ms/step - loss: 13.5836 - mae: 2.9172 - val_loss: 12.9175 - val_mae: 2.5076\n",
      "Epoch 429/500\n",
      "4/4 [==============================] - 0s 7ms/step - loss: 13.5481 - mae: 2.9060 - val_loss: 13.0085 - val_mae: 2.5231\n",
      "Epoch 430/500\n",
      "4/4 [==============================] - 0s 6ms/step - loss: 13.5003 - mae: 2.9009 - val_loss: 12.8829 - val_mae: 2.4953\n",
      "Epoch 431/500\n",
      "4/4 [==============================] - 0s 10ms/step - loss: 13.4517 - mae: 2.8978 - val_loss: 12.8425 - val_mae: 2.4877\n",
      "Epoch 432/500\n",
      "4/4 [==============================] - 0s 7ms/step - loss: 13.4202 - mae: 2.8909 - val_loss: 12.8520 - val_mae: 2.5028\n",
      "Epoch 433/500\n",
      "4/4 [==============================] - 0s 5ms/step - loss: 13.3146 - mae: 2.8807 - val_loss: 12.7070 - val_mae: 2.4937\n",
      "Epoch 434/500\n",
      "4/4 [==============================] - 0s 3ms/step - loss: 13.3294 - mae: 2.8914 - val_loss: 12.5966 - val_mae: 2.4860\n",
      "Epoch 435/500\n",
      "4/4 [==============================] - 0s 7ms/step - loss: 13.3859 - mae: 2.9053 - val_loss: 12.3643 - val_mae: 2.4326\n",
      "Epoch 436/500\n",
      "4/4 [==============================] - 0s 10ms/step - loss: 13.2886 - mae: 2.8986 - val_loss: 12.4173 - val_mae: 2.4217\n",
      "Epoch 437/500\n",
      "4/4 [==============================] - 0s 9ms/step - loss: 13.1832 - mae: 2.8929 - val_loss: 12.5929 - val_mae: 2.4331\n",
      "Epoch 438/500\n",
      "4/4 [==============================] - 0s 9ms/step - loss: 13.1602 - mae: 2.8785 - val_loss: 12.8039 - val_mae: 2.4809\n",
      "Epoch 439/500\n",
      "4/4 [==============================] - 0s 5ms/step - loss: 13.0756 - mae: 2.8640 - val_loss: 12.7404 - val_mae: 2.4689\n",
      "Epoch 440/500\n",
      "4/4 [==============================] - 0s 7ms/step - loss: 13.1627 - mae: 2.8860 - val_loss: 12.4330 - val_mae: 2.4087\n",
      "Epoch 441/500\n",
      "4/4 [==============================] - 0s 5ms/step - loss: 13.0584 - mae: 2.8772 - val_loss: 12.5343 - val_mae: 2.4694\n",
      "Epoch 442/500\n",
      "4/4 [==============================] - 0s 6ms/step - loss: 12.9696 - mae: 2.8570 - val_loss: 12.6447 - val_mae: 2.5027\n",
      "Epoch 443/500\n",
      "4/4 [==============================] - 0s 5ms/step - loss: 13.0242 - mae: 2.8578 - val_loss: 12.7924 - val_mae: 2.5406\n",
      "Epoch 444/500\n",
      "4/4 [==============================] - 0s 11ms/step - loss: 12.9885 - mae: 2.8581 - val_loss: 12.5071 - val_mae: 2.4714\n",
      "Epoch 445/500\n",
      "4/4 [==============================] - 0s 7ms/step - loss: 12.9368 - mae: 2.8475 - val_loss: 12.5489 - val_mae: 2.4594\n",
      "Epoch 446/500\n",
      "4/4 [==============================] - 0s 10ms/step - loss: 12.8146 - mae: 2.8387 - val_loss: 12.4749 - val_mae: 2.4499\n",
      "Epoch 447/500\n",
      "4/4 [==============================] - 0s 6ms/step - loss: 12.7696 - mae: 2.8379 - val_loss: 12.3383 - val_mae: 2.4247\n",
      "Epoch 448/500\n",
      "4/4 [==============================] - 0s 8ms/step - loss: 12.7312 - mae: 2.8334 - val_loss: 12.4217 - val_mae: 2.4377\n",
      "Epoch 449/500\n",
      "4/4 [==============================] - 0s 9ms/step - loss: 12.6861 - mae: 2.8409 - val_loss: 12.1765 - val_mae: 2.4019\n",
      "Epoch 450/500\n",
      "4/4 [==============================] - 0s 9ms/step - loss: 12.6693 - mae: 2.8370 - val_loss: 12.1501 - val_mae: 2.4299\n",
      "Epoch 451/500\n",
      "4/4 [==============================] - 0s 7ms/step - loss: 12.6524 - mae: 2.8299 - val_loss: 11.9899 - val_mae: 2.4212\n",
      "Epoch 452/500\n",
      "4/4 [==============================] - 0s 9ms/step - loss: 12.5689 - mae: 2.8229 - val_loss: 12.1437 - val_mae: 2.4518\n",
      "Epoch 453/500\n",
      "4/4 [==============================] - 0s 6ms/step - loss: 12.4978 - mae: 2.8099 - val_loss: 12.2766 - val_mae: 2.4836\n",
      "Epoch 454/500\n",
      "4/4 [==============================] - 0s 9ms/step - loss: 12.4704 - mae: 2.8005 - val_loss: 12.3709 - val_mae: 2.4889\n",
      "Epoch 455/500\n",
      "4/4 [==============================] - 0s 8ms/step - loss: 12.4282 - mae: 2.8070 - val_loss: 12.2162 - val_mae: 2.4126\n",
      "Epoch 456/500\n",
      "4/4 [==============================] - 0s 6ms/step - loss: 12.6186 - mae: 2.8260 - val_loss: 12.2263 - val_mae: 2.3914\n",
      "Epoch 457/500\n",
      "4/4 [==============================] - 0s 5ms/step - loss: 12.3631 - mae: 2.7945 - val_loss: 12.2415 - val_mae: 2.4458\n",
      "Epoch 458/500\n",
      "4/4 [==============================] - 0s 11ms/step - loss: 12.2083 - mae: 2.7864 - val_loss: 11.9800 - val_mae: 2.4336\n",
      "Epoch 459/500\n",
      "4/4 [==============================] - 0s 8ms/step - loss: 12.2955 - mae: 2.7964 - val_loss: 11.8374 - val_mae: 2.4175\n",
      "Epoch 460/500\n",
      "4/4 [==============================] - 0s 8ms/step - loss: 12.3275 - mae: 2.8034 - val_loss: 11.9103 - val_mae: 2.4241\n",
      "Epoch 461/500\n",
      "4/4 [==============================] - 0s 4ms/step - loss: 12.3211 - mae: 2.8004 - val_loss: 12.0923 - val_mae: 2.4309\n",
      "Epoch 462/500\n",
      "4/4 [==============================] - 0s 8ms/step - loss: 12.1823 - mae: 2.7868 - val_loss: 12.0014 - val_mae: 2.4110\n",
      "Epoch 463/500\n",
      "4/4 [==============================] - 0s 8ms/step - loss: 12.1179 - mae: 2.7853 - val_loss: 12.0598 - val_mae: 2.4136\n",
      "Epoch 464/500\n",
      "4/4 [==============================] - 0s 8ms/step - loss: 12.1831 - mae: 2.7953 - val_loss: 11.9370 - val_mae: 2.3693\n",
      "Epoch 465/500\n",
      "4/4 [==============================] - 0s 9ms/step - loss: 12.0631 - mae: 2.7805 - val_loss: 11.9316 - val_mae: 2.3981\n",
      "Epoch 466/500\n",
      "4/4 [==============================] - 0s 8ms/step - loss: 12.0492 - mae: 2.7732 - val_loss: 12.1908 - val_mae: 2.4794\n",
      "Epoch 467/500\n",
      "4/4 [==============================] - 0s 8ms/step - loss: 11.9837 - mae: 2.7555 - val_loss: 12.1015 - val_mae: 2.4860\n",
      "Epoch 468/500\n",
      "4/4 [==============================] - 0s 7ms/step - loss: 11.9661 - mae: 2.7554 - val_loss: 11.9873 - val_mae: 2.4719\n",
      "Epoch 469/500\n",
      "4/4 [==============================] - 0s 7ms/step - loss: 12.0270 - mae: 2.7705 - val_loss: 11.7991 - val_mae: 2.4477\n",
      "Epoch 470/500\n",
      "4/4 [==============================] - 0s 7ms/step - loss: 12.0070 - mae: 2.7745 - val_loss: 11.7369 - val_mae: 2.3861\n",
      "Epoch 471/500\n",
      "4/4 [==============================] - 0s 8ms/step - loss: 11.9099 - mae: 2.7618 - val_loss: 11.8940 - val_mae: 2.4219\n",
      "Epoch 472/500\n",
      "4/4 [==============================] - 0s 9ms/step - loss: 11.9718 - mae: 2.7560 - val_loss: 12.1438 - val_mae: 2.4515\n",
      "Epoch 473/500\n",
      "4/4 [==============================] - 0s 13ms/step - loss: 12.0238 - mae: 2.7612 - val_loss: 11.9217 - val_mae: 2.4040\n",
      "Epoch 474/500\n",
      "4/4 [==============================] - 0s 7ms/step - loss: 11.7871 - mae: 2.7400 - val_loss: 11.8063 - val_mae: 2.3872\n",
      "Epoch 475/500\n",
      "4/4 [==============================] - 0s 7ms/step - loss: 11.7606 - mae: 2.7437 - val_loss: 11.6423 - val_mae: 2.3585\n",
      "Epoch 476/500\n",
      "4/4 [==============================] - 0s 7ms/step - loss: 11.7626 - mae: 2.7471 - val_loss: 11.5858 - val_mae: 2.3591\n",
      "Epoch 477/500\n",
      "4/4 [==============================] - 0s 8ms/step - loss: 11.6841 - mae: 2.7401 - val_loss: 11.6535 - val_mae: 2.3709\n",
      "Epoch 478/500\n",
      "4/4 [==============================] - 0s 10ms/step - loss: 11.7212 - mae: 2.7296 - val_loss: 11.8725 - val_mae: 2.4163\n",
      "Epoch 479/500\n",
      "4/4 [==============================] - 0s 5ms/step - loss: 11.6661 - mae: 2.7259 - val_loss: 11.8654 - val_mae: 2.4618\n",
      "Epoch 480/500\n",
      "4/4 [==============================] - 0s 10ms/step - loss: 11.6219 - mae: 2.7260 - val_loss: 11.4111 - val_mae: 2.3884\n",
      "Epoch 481/500\n",
      "4/4 [==============================] - 0s 7ms/step - loss: 11.5739 - mae: 2.7300 - val_loss: 11.2825 - val_mae: 2.3617\n",
      "Epoch 482/500\n",
      "4/4 [==============================] - 0s 10ms/step - loss: 11.6578 - mae: 2.7438 - val_loss: 11.1182 - val_mae: 2.3078\n",
      "Epoch 483/500\n",
      "4/4 [==============================] - 0s 5ms/step - loss: 11.5818 - mae: 2.7412 - val_loss: 11.1709 - val_mae: 2.3079\n",
      "Epoch 484/500\n",
      "4/4 [==============================] - 0s 9ms/step - loss: 11.5339 - mae: 2.7404 - val_loss: 11.0620 - val_mae: 2.2828\n",
      "Epoch 485/500\n",
      "4/4 [==============================] - 0s 7ms/step - loss: 11.5435 - mae: 2.7430 - val_loss: 11.0211 - val_mae: 2.2767\n",
      "Epoch 486/500\n",
      "4/4 [==============================] - 0s 12ms/step - loss: 11.5375 - mae: 2.7439 - val_loss: 11.1844 - val_mae: 2.3419\n",
      "Epoch 487/500\n",
      "4/4 [==============================] - 0s 7ms/step - loss: 11.5668 - mae: 2.7323 - val_loss: 11.5344 - val_mae: 2.4736\n",
      "Epoch 488/500\n",
      "4/4 [==============================] - 0s 7ms/step - loss: 11.5598 - mae: 2.7269 - val_loss: 11.7504 - val_mae: 2.5224\n",
      "Epoch 489/500\n",
      "4/4 [==============================] - 0s 7ms/step - loss: 11.4301 - mae: 2.7097 - val_loss: 11.5874 - val_mae: 2.4866\n",
      "Epoch 490/500\n",
      "4/4 [==============================] - 0s 7ms/step - loss: 11.3238 - mae: 2.6958 - val_loss: 11.2812 - val_mae: 2.4005\n",
      "Epoch 491/500\n",
      "4/4 [==============================] - 0s 4ms/step - loss: 11.3906 - mae: 2.7177 - val_loss: 10.9832 - val_mae: 2.3222\n",
      "Epoch 492/500\n",
      "4/4 [==============================] - 0s 5ms/step - loss: 11.4187 - mae: 2.7151 - val_loss: 11.0505 - val_mae: 2.3506\n",
      "Epoch 493/500\n",
      "4/4 [==============================] - 0s 11ms/step - loss: 11.3540 - mae: 2.7039 - val_loss: 11.0192 - val_mae: 2.3680\n",
      "Epoch 494/500\n",
      "4/4 [==============================] - 0s 7ms/step - loss: 11.3406 - mae: 2.7114 - val_loss: 10.9242 - val_mae: 2.3716\n",
      "Epoch 495/500\n",
      "4/4 [==============================] - 0s 9ms/step - loss: 11.2096 - mae: 2.6942 - val_loss: 10.9499 - val_mae: 2.3586\n",
      "Epoch 496/500\n",
      "4/4 [==============================] - 0s 9ms/step - loss: 11.1961 - mae: 2.6896 - val_loss: 10.8802 - val_mae: 2.3312\n",
      "Epoch 497/500\n",
      "4/4 [==============================] - 0s 7ms/step - loss: 11.1508 - mae: 2.6841 - val_loss: 10.9314 - val_mae: 2.3390\n",
      "Epoch 498/500\n",
      "4/4 [==============================] - 0s 7ms/step - loss: 11.1217 - mae: 2.6801 - val_loss: 11.1396 - val_mae: 2.3772\n",
      "Epoch 499/500\n",
      "4/4 [==============================] - 0s 7ms/step - loss: 11.0932 - mae: 2.6713 - val_loss: 11.1530 - val_mae: 2.3847\n",
      "Epoch 500/500\n",
      "4/4 [==============================] - 0s 7ms/step - loss: 11.1376 - mae: 2.6713 - val_loss: 11.2115 - val_mae: 2.3930\n"
     ]
    }
   ],
   "source": [
    "# Train the model\n",
    "history = model.fit(\n",
    "    X_train, y_train,\n",
    "    validation_split=0.2,\n",
    "    epochs=500,\n",
    "    batch_size=16,\n",
    "    verbose=1\n",
    ")"
   ]
  },
  {
   "cell_type": "code",
   "execution_count": 429,
   "id": "fab22004",
   "metadata": {},
   "outputs": [
    {
     "name": "stdout",
     "output_type": "stream",
     "text": [
      "1/1 [==============================] - 0s 20ms/step - loss: 13.1932 - mae: 2.9798\n",
      "Test MSE: 13.1932, MAE: 2.9798\n"
     ]
    }
   ],
   "source": [
    "# Evaluate on test data\n",
    "loss, mae = model.evaluate(X_test, y_test)\n",
    "print(f\"Test MSE: {loss:.4f}, MAE: {mae:.4f}\")"
   ]
  },
  {
   "cell_type": "code",
   "execution_count": 430,
   "id": "c6491849",
   "metadata": {},
   "outputs": [
    {
     "data": {
      "image/png": "[encoded data removed]",
      "text/plain": [
       "<Figure size 640x480 with 1 Axes>"
      ]
     },
     "metadata": {},
     "output_type": "display_data"
    }
   ],
   "source": [
    "# Visualise training history\n",
    "plt.plot(history.history['loss'], label='Train Loss')\n",
    "plt.plot(history.history['val_loss'], label='Val Loss')\n",
    "plt.title('Training and Validation Loss')\n",
    "plt.xlabel('Epoch')\n",
    "plt.ylabel('MSE Loss')\n",
    "plt.legend()\n",
    "plt.grid(True)\n",
    "plt.show()"
   ]
  },
  {
   "cell_type": "code",
   "execution_count": 431,
   "id": "a5857bff",
   "metadata": {},
   "outputs": [
    {
     "name": "stdout",
     "output_type": "stream",
     "text": [
      "1/1 [==============================] - 0s 35ms/step\n"
     ]
    },
    {
     "data": {
      "image/png": "[encoded data removed]",
      "text/plain": [
       "<Figure size 640x480 with 1 Axes>"
      ]
     },
     "metadata": {},
     "output_type": "display_data"
    }
   ],
   "source": [
    "# Plotting Actual vs Predicted Performance Score\n",
    "y_pred = model.predict(X_test)\n",
    "plt.scatter(y_test, y_pred)\n",
    "plt.title(\"Actual vs Predicted Performance Score\")\n",
    "plt.xlabel(\"Actual Performance Score\")\n",
    "plt.ylabel(\"Predicted Performance Score\")\n",
    "plt.show()"
   ]
  },
  {
   "cell_type": "markdown",
   "id": "8bdae2b3",
   "metadata": {},
   "source": [
    "### Employee Attrition Analysis with Deep Learning"
   ]
  },
  {
   "cell_type": "code",
   "execution_count": 432,
   "id": "792f2ea1",
   "metadata": {},
   "outputs": [
    {
     "name": "stdout",
     "output_type": "stream",
     "text": [
      "Model: \"sequential_13\"\n",
      "_________________________________________________________________\n",
      " Layer (type)                Output Shape              Param #   \n",
      "=================================================================\n",
      " dense_39 (Dense)            (None, 64)                384       \n",
      "                                                                 \n",
      " dense_40 (Dense)            (None, 32)                2080      \n",
      "                                                                 \n",
      " dense_41 (Dense)            (None, 1)                 33        \n",
      "                                                                 \n",
      "=================================================================\n",
      "Total params: 2497 (9.75 KB)\n",
      "Trainable params: 2497 (9.75 KB)\n",
      "Non-trainable params: 0 (0.00 Byte)\n",
      "_________________________________________________________________\n"
     ]
    }
   ],
   "source": [
    "# Splitting into train and test set\n",
    "X = employee_df_t[[\"Age\", \"Department\", \"Salary\", \"YearsAtCompany\", \"PerformanceScore\"]]\n",
    "y = employee_df_t[\"Attrition\"]\n",
    "\n",
    "X_train, X_test, y_train, y_test = train_test_split(X, y, test_size=0.3, random_state=0)\n",
    "\n",
    "# Setting random seed\n",
    "tf.random.set_seed(42)\n",
    "\n",
    "# Building model\n",
    "model = Sequential([\n",
    "    Dense(64, activation=\"relu\", input_shape=(X_train.shape[1],)),\n",
    "    Dense(32, activation=\"relu\"),\n",
    "    Dense(1, activation=\"sigmoid\")\n",
    "])\n",
    "\n",
    "# Compiling model\n",
    "model.compile(optimizer=\"adam\", loss=\"binary_crossentropy\", metrics=[\"accuracy\"])\n",
    "\n",
    "# Showing model summary\n",
    "model.summary()"
   ]
  },
  {
   "cell_type": "code",
   "execution_count": 433,
   "id": "c4333282",
   "metadata": {},
   "outputs": [
    {
     "name": "stdout",
     "output_type": "stream",
     "text": [
      "Epoch 1/500\n",
      "4/4 [==============================] - 0s 33ms/step - loss: 0.7644 - accuracy: 0.4107 - val_loss: 0.6944 - val_accuracy: 0.6429\n",
      "Epoch 2/500\n",
      "4/4 [==============================] - 0s 5ms/step - loss: 0.7248 - accuracy: 0.4643 - val_loss: 0.6688 - val_accuracy: 0.6429\n",
      "Epoch 3/500\n",
      "4/4 [==============================] - 0s 11ms/step - loss: 0.6954 - accuracy: 0.5179 - val_loss: 0.6520 - val_accuracy: 0.5714\n",
      "Epoch 4/500\n",
      "4/4 [==============================] - 0s 10ms/step - loss: 0.6740 - accuracy: 0.6250 - val_loss: 0.6389 - val_accuracy: 0.6429\n",
      "Epoch 5/500\n",
      "4/4 [==============================] - 0s 5ms/step - loss: 0.6537 - accuracy: 0.6250 - val_loss: 0.6317 - val_accuracy: 0.6429\n",
      "Epoch 6/500\n",
      "4/4 [==============================] - 0s 7ms/step - loss: 0.6409 - accuracy: 0.6429 - val_loss: 0.6268 - val_accuracy: 0.6429\n",
      "Epoch 7/500\n",
      "4/4 [==============================] - 0s 5ms/step - loss: 0.6321 - accuracy: 0.6786 - val_loss: 0.6226 - val_accuracy: 0.6429\n",
      "Epoch 8/500\n",
      "4/4 [==============================] - 0s 5ms/step - loss: 0.6252 - accuracy: 0.6964 - val_loss: 0.6194 - val_accuracy: 0.6429\n",
      "Epoch 9/500\n",
      "4/4 [==============================] - 0s 11ms/step - loss: 0.6161 - accuracy: 0.7321 - val_loss: 0.6169 - val_accuracy: 0.7143\n",
      "Epoch 10/500\n",
      "4/4 [==============================] - 0s 8ms/step - loss: 0.6130 - accuracy: 0.7857 - val_loss: 0.6161 - val_accuracy: 0.7857\n",
      "Epoch 11/500\n",
      "4/4 [==============================] - 0s 9ms/step - loss: 0.6060 - accuracy: 0.7857 - val_loss: 0.6143 - val_accuracy: 0.7857\n",
      "Epoch 12/500\n",
      "4/4 [==============================] - 0s 5ms/step - loss: 0.6013 - accuracy: 0.7857 - val_loss: 0.6125 - val_accuracy: 0.7857\n",
      "Epoch 13/500\n",
      "4/4 [==============================] - 0s 4ms/step - loss: 0.5970 - accuracy: 0.7679 - val_loss: 0.6086 - val_accuracy: 0.7857\n",
      "Epoch 14/500\n",
      "4/4 [==============================] - 0s 9ms/step - loss: 0.5925 - accuracy: 0.7321 - val_loss: 0.6054 - val_accuracy: 0.7857\n",
      "Epoch 15/500\n",
      "4/4 [==============================] - 0s 7ms/step - loss: 0.5860 - accuracy: 0.7143 - val_loss: 0.6039 - val_accuracy: 0.7857\n",
      "Epoch 16/500\n",
      "4/4 [==============================] - 0s 8ms/step - loss: 0.5831 - accuracy: 0.7143 - val_loss: 0.6009 - val_accuracy: 0.7857\n",
      "Epoch 17/500\n",
      "4/4 [==============================] - 0s 13ms/step - loss: 0.5778 - accuracy: 0.7143 - val_loss: 0.5984 - val_accuracy: 0.7857\n",
      "Epoch 18/500\n",
      "4/4 [==============================] - 0s 5ms/step - loss: 0.5733 - accuracy: 0.7321 - val_loss: 0.5972 - val_accuracy: 0.7143\n",
      "Epoch 19/500\n",
      "4/4 [==============================] - 0s 4ms/step - loss: 0.5686 - accuracy: 0.7500 - val_loss: 0.5940 - val_accuracy: 0.7143\n",
      "Epoch 20/500\n",
      "4/4 [==============================] - 0s 12ms/step - loss: 0.5625 - accuracy: 0.7500 - val_loss: 0.5922 - val_accuracy: 0.7143\n",
      "Epoch 21/500\n",
      "4/4 [==============================] - 0s 5ms/step - loss: 0.5573 - accuracy: 0.7500 - val_loss: 0.5906 - val_accuracy: 0.7143\n",
      "Epoch 22/500\n",
      "4/4 [==============================] - 0s 11ms/step - loss: 0.5538 - accuracy: 0.7500 - val_loss: 0.5890 - val_accuracy: 0.7143\n",
      "Epoch 23/500\n",
      "4/4 [==============================] - 0s 5ms/step - loss: 0.5471 - accuracy: 0.7500 - val_loss: 0.5886 - val_accuracy: 0.7143\n",
      "Epoch 24/500\n",
      "4/4 [==============================] - 0s 11ms/step - loss: 0.5414 - accuracy: 0.7500 - val_loss: 0.5866 - val_accuracy: 0.7143\n",
      "Epoch 25/500\n",
      "4/4 [==============================] - 0s 5ms/step - loss: 0.5371 - accuracy: 0.7679 - val_loss: 0.5851 - val_accuracy: 0.7143\n",
      "Epoch 26/500\n",
      "4/4 [==============================] - 0s 10ms/step - loss: 0.5321 - accuracy: 0.7679 - val_loss: 0.5816 - val_accuracy: 0.7143\n",
      "Epoch 27/500\n",
      "4/4 [==============================] - 0s 6ms/step - loss: 0.5267 - accuracy: 0.7679 - val_loss: 0.5784 - val_accuracy: 0.7143\n",
      "Epoch 28/500\n",
      "4/4 [==============================] - 0s 5ms/step - loss: 0.5221 - accuracy: 0.7500 - val_loss: 0.5748 - val_accuracy: 0.7143\n",
      "Epoch 29/500\n",
      "4/4 [==============================] - 0s 10ms/step - loss: 0.5170 - accuracy: 0.7679 - val_loss: 0.5707 - val_accuracy: 0.7143\n",
      "Epoch 30/500\n",
      "4/4 [==============================] - 0s 5ms/step - loss: 0.5132 - accuracy: 0.7679 - val_loss: 0.5684 - val_accuracy: 0.7143\n",
      "Epoch 31/500\n",
      "4/4 [==============================] - 0s 11ms/step - loss: 0.5086 - accuracy: 0.7857 - val_loss: 0.5677 - val_accuracy: 0.7143\n",
      "Epoch 32/500\n",
      "4/4 [==============================] - 0s 5ms/step - loss: 0.5042 - accuracy: 0.8036 - val_loss: 0.5660 - val_accuracy: 0.7143\n",
      "Epoch 33/500\n",
      "4/4 [==============================] - 0s 6ms/step - loss: 0.5002 - accuracy: 0.8036 - val_loss: 0.5671 - val_accuracy: 0.7143\n",
      "Epoch 34/500\n",
      "4/4 [==============================] - 0s 11ms/step - loss: 0.4945 - accuracy: 0.7857 - val_loss: 0.5649 - val_accuracy: 0.7143\n",
      "Epoch 35/500\n",
      "4/4 [==============================] - 0s 9ms/step - loss: 0.4900 - accuracy: 0.8214 - val_loss: 0.5627 - val_accuracy: 0.7143\n",
      "Epoch 36/500\n",
      "4/4 [==============================] - 0s 5ms/step - loss: 0.4877 - accuracy: 0.8036 - val_loss: 0.5597 - val_accuracy: 0.7143\n",
      "Epoch 37/500\n",
      "4/4 [==============================] - 0s 8ms/step - loss: 0.4826 - accuracy: 0.8036 - val_loss: 0.5583 - val_accuracy: 0.7143\n",
      "Epoch 38/500\n",
      "4/4 [==============================] - 0s 4ms/step - loss: 0.4786 - accuracy: 0.8214 - val_loss: 0.5584 - val_accuracy: 0.7143\n",
      "Epoch 39/500\n",
      "4/4 [==============================] - 0s 7ms/step - loss: 0.4758 - accuracy: 0.8036 - val_loss: 0.5603 - val_accuracy: 0.7143\n",
      "Epoch 40/500\n",
      "4/4 [==============================] - 0s 9ms/step - loss: 0.4718 - accuracy: 0.8393 - val_loss: 0.5605 - val_accuracy: 0.7143\n",
      "Epoch 41/500\n",
      "4/4 [==============================] - 0s 9ms/step - loss: 0.4681 - accuracy: 0.8393 - val_loss: 0.5607 - val_accuracy: 0.7143\n",
      "Epoch 42/500\n",
      "4/4 [==============================] - 0s 7ms/step - loss: 0.4663 - accuracy: 0.8393 - val_loss: 0.5620 - val_accuracy: 0.7143\n",
      "Epoch 43/500\n",
      "4/4 [==============================] - 0s 9ms/step - loss: 0.4609 - accuracy: 0.8214 - val_loss: 0.5613 - val_accuracy: 0.7143\n",
      "Epoch 44/500\n",
      "4/4 [==============================] - 0s 8ms/step - loss: 0.4583 - accuracy: 0.8214 - val_loss: 0.5605 - val_accuracy: 0.7143\n",
      "Epoch 45/500\n",
      "4/4 [==============================] - 0s 5ms/step - loss: 0.4540 - accuracy: 0.8214 - val_loss: 0.5588 - val_accuracy: 0.7143\n",
      "Epoch 46/500\n",
      "4/4 [==============================] - 0s 3ms/step - loss: 0.4519 - accuracy: 0.8393 - val_loss: 0.5582 - val_accuracy: 0.7143\n",
      "Epoch 47/500\n",
      "4/4 [==============================] - 0s 8ms/step - loss: 0.4487 - accuracy: 0.8393 - val_loss: 0.5590 - val_accuracy: 0.7143\n",
      "Epoch 48/500\n",
      "4/4 [==============================] - 0s 8ms/step - loss: 0.4466 - accuracy: 0.8393 - val_loss: 0.5625 - val_accuracy: 0.7143\n",
      "Epoch 49/500\n",
      "4/4 [==============================] - 0s 7ms/step - loss: 0.4438 - accuracy: 0.8393 - val_loss: 0.5623 - val_accuracy: 0.7143\n",
      "Epoch 50/500\n",
      "4/4 [==============================] - 0s 10ms/step - loss: 0.4424 - accuracy: 0.8393 - val_loss: 0.5647 - val_accuracy: 0.7143\n",
      "Epoch 51/500\n",
      "4/4 [==============================] - 0s 7ms/step - loss: 0.4435 - accuracy: 0.8393 - val_loss: 0.5616 - val_accuracy: 0.7143\n",
      "Epoch 52/500\n",
      "4/4 [==============================] - 0s 5ms/step - loss: 0.4358 - accuracy: 0.8393 - val_loss: 0.5584 - val_accuracy: 0.7143\n",
      "Epoch 53/500\n",
      "4/4 [==============================] - 0s 11ms/step - loss: 0.4332 - accuracy: 0.8393 - val_loss: 0.5537 - val_accuracy: 0.7143\n",
      "Epoch 54/500\n",
      "4/4 [==============================] - 0s 5ms/step - loss: 0.4318 - accuracy: 0.8393 - val_loss: 0.5548 - val_accuracy: 0.7143\n",
      "Epoch 55/500\n",
      "4/4 [==============================] - 0s 11ms/step - loss: 0.4289 - accuracy: 0.8393 - val_loss: 0.5535 - val_accuracy: 0.7143\n",
      "Epoch 56/500\n",
      "4/4 [==============================] - 0s 5ms/step - loss: 0.4255 - accuracy: 0.8393 - val_loss: 0.5520 - val_accuracy: 0.7143\n",
      "Epoch 57/500\n",
      "4/4 [==============================] - 0s 5ms/step - loss: 0.4239 - accuracy: 0.8571 - val_loss: 0.5499 - val_accuracy: 0.7143\n",
      "Epoch 58/500\n",
      "4/4 [==============================] - 0s 5ms/step - loss: 0.4204 - accuracy: 0.8571 - val_loss: 0.5504 - val_accuracy: 0.7143\n",
      "Epoch 59/500\n",
      "4/4 [==============================] - 0s 5ms/step - loss: 0.4171 - accuracy: 0.8571 - val_loss: 0.5529 - val_accuracy: 0.7143\n",
      "Epoch 60/500\n",
      "4/4 [==============================] - 0s 8ms/step - loss: 0.4153 - accuracy: 0.8393 - val_loss: 0.5556 - val_accuracy: 0.7143\n",
      "Epoch 61/500\n",
      "4/4 [==============================] - 0s 11ms/step - loss: 0.4119 - accuracy: 0.8393 - val_loss: 0.5566 - val_accuracy: 0.7143\n",
      "Epoch 62/500\n",
      "4/4 [==============================] - 0s 5ms/step - loss: 0.4095 - accuracy: 0.8393 - val_loss: 0.5582 - val_accuracy: 0.7143\n",
      "Epoch 63/500\n",
      "4/4 [==============================] - 0s 9ms/step - loss: 0.4081 - accuracy: 0.8393 - val_loss: 0.5573 - val_accuracy: 0.7143\n",
      "Epoch 64/500\n",
      "4/4 [==============================] - 0s 5ms/step - loss: 0.4051 - accuracy: 0.8571 - val_loss: 0.5537 - val_accuracy: 0.7143\n",
      "Epoch 65/500\n",
      "4/4 [==============================] - 0s 10ms/step - loss: 0.4031 - accuracy: 0.8571 - val_loss: 0.5524 - val_accuracy: 0.7143\n",
      "Epoch 66/500\n",
      "4/4 [==============================] - 0s 6ms/step - loss: 0.4032 - accuracy: 0.8571 - val_loss: 0.5480 - val_accuracy: 0.7143\n",
      "Epoch 67/500\n",
      "4/4 [==============================] - 0s 9ms/step - loss: 0.3991 - accuracy: 0.8571 - val_loss: 0.5502 - val_accuracy: 0.7143\n",
      "Epoch 68/500\n",
      "4/4 [==============================] - 0s 6ms/step - loss: 0.3967 - accuracy: 0.8571 - val_loss: 0.5520 - val_accuracy: 0.7143\n",
      "Epoch 69/500\n",
      "4/4 [==============================] - 0s 5ms/step - loss: 0.3938 - accuracy: 0.8571 - val_loss: 0.5519 - val_accuracy: 0.7143\n",
      "Epoch 70/500\n",
      "4/4 [==============================] - 0s 12ms/step - loss: 0.3931 - accuracy: 0.8571 - val_loss: 0.5521 - val_accuracy: 0.7143\n",
      "Epoch 71/500\n",
      "4/4 [==============================] - 0s 8ms/step - loss: 0.3929 - accuracy: 0.8571 - val_loss: 0.5574 - val_accuracy: 0.7143\n",
      "Epoch 72/500\n",
      "4/4 [==============================] - 0s 8ms/step - loss: 0.3894 - accuracy: 0.8571 - val_loss: 0.5566 - val_accuracy: 0.7143\n",
      "Epoch 73/500\n",
      "4/4 [==============================] - 0s 8ms/step - loss: 0.3869 - accuracy: 0.8571 - val_loss: 0.5580 - val_accuracy: 0.7143\n",
      "Epoch 74/500\n",
      "4/4 [==============================] - 0s 6ms/step - loss: 0.3863 - accuracy: 0.8750 - val_loss: 0.5538 - val_accuracy: 0.7143\n",
      "Epoch 75/500\n",
      "4/4 [==============================] - 0s 10ms/step - loss: 0.3836 - accuracy: 0.8571 - val_loss: 0.5609 - val_accuracy: 0.7143\n",
      "Epoch 76/500\n",
      "4/4 [==============================] - 0s 4ms/step - loss: 0.3814 - accuracy: 0.8571 - val_loss: 0.5628 - val_accuracy: 0.7143\n",
      "Epoch 77/500\n",
      "4/4 [==============================] - 0s 11ms/step - loss: 0.3825 - accuracy: 0.8750 - val_loss: 0.5602 - val_accuracy: 0.7143\n",
      "Epoch 78/500\n",
      "4/4 [==============================] - 0s 8ms/step - loss: 0.3776 - accuracy: 0.8750 - val_loss: 0.5632 - val_accuracy: 0.7143\n",
      "Epoch 79/500\n",
      "4/4 [==============================] - 0s 5ms/step - loss: 0.3768 - accuracy: 0.8571 - val_loss: 0.5684 - val_accuracy: 0.7143\n",
      "Epoch 80/500\n",
      "4/4 [==============================] - 0s 5ms/step - loss: 0.3746 - accuracy: 0.8571 - val_loss: 0.5682 - val_accuracy: 0.7143\n",
      "Epoch 81/500\n",
      "4/4 [==============================] - 0s 9ms/step - loss: 0.3730 - accuracy: 0.8571 - val_loss: 0.5664 - val_accuracy: 0.7143\n",
      "Epoch 82/500\n",
      "4/4 [==============================] - 0s 6ms/step - loss: 0.3713 - accuracy: 0.8750 - val_loss: 0.5633 - val_accuracy: 0.7143\n",
      "Epoch 83/500\n",
      "4/4 [==============================] - 0s 7ms/step - loss: 0.3695 - accuracy: 0.8929 - val_loss: 0.5593 - val_accuracy: 0.7143\n",
      "Epoch 84/500\n",
      "4/4 [==============================] - 0s 5ms/step - loss: 0.3678 - accuracy: 0.8750 - val_loss: 0.5631 - val_accuracy: 0.7143\n",
      "Epoch 85/500\n",
      "4/4 [==============================] - 0s 11ms/step - loss: 0.3677 - accuracy: 0.8750 - val_loss: 0.5640 - val_accuracy: 0.7143\n",
      "Epoch 86/500\n",
      "4/4 [==============================] - 0s 8ms/step - loss: 0.3647 - accuracy: 0.8750 - val_loss: 0.5717 - val_accuracy: 0.7143\n",
      "Epoch 87/500\n",
      "4/4 [==============================] - 0s 9ms/step - loss: 0.3636 - accuracy: 0.8929 - val_loss: 0.5815 - val_accuracy: 0.7143\n",
      "Epoch 88/500\n",
      "4/4 [==============================] - 0s 6ms/step - loss: 0.3619 - accuracy: 0.8750 - val_loss: 0.5830 - val_accuracy: 0.7143\n",
      "Epoch 89/500\n",
      "4/4 [==============================] - 0s 9ms/step - loss: 0.3602 - accuracy: 0.8750 - val_loss: 0.5836 - val_accuracy: 0.7143\n",
      "Epoch 90/500\n",
      "4/4 [==============================] - 0s 9ms/step - loss: 0.3600 - accuracy: 0.8750 - val_loss: 0.5834 - val_accuracy: 0.7143\n",
      "Epoch 91/500\n",
      "4/4 [==============================] - 0s 9ms/step - loss: 0.3580 - accuracy: 0.8750 - val_loss: 0.5865 - val_accuracy: 0.7143\n",
      "Epoch 92/500\n",
      "4/4 [==============================] - 0s 7ms/step - loss: 0.3583 - accuracy: 0.8750 - val_loss: 0.5863 - val_accuracy: 0.7143\n",
      "Epoch 93/500\n",
      "4/4 [==============================] - 0s 9ms/step - loss: 0.3573 - accuracy: 0.8750 - val_loss: 0.5846 - val_accuracy: 0.7143\n",
      "Epoch 94/500\n",
      "4/4 [==============================] - 0s 7ms/step - loss: 0.3549 - accuracy: 0.8750 - val_loss: 0.5824 - val_accuracy: 0.7143\n",
      "Epoch 95/500\n",
      "4/4 [==============================] - 0s 9ms/step - loss: 0.3517 - accuracy: 0.8929 - val_loss: 0.5765 - val_accuracy: 0.7143\n",
      "Epoch 96/500\n",
      "4/4 [==============================] - 0s 5ms/step - loss: 0.3517 - accuracy: 0.8929 - val_loss: 0.5729 - val_accuracy: 0.7143\n",
      "Epoch 97/500\n",
      "4/4 [==============================] - 0s 5ms/step - loss: 0.3518 - accuracy: 0.8750 - val_loss: 0.5701 - val_accuracy: 0.7143\n",
      "Epoch 98/500\n",
      "4/4 [==============================] - 0s 5ms/step - loss: 0.3491 - accuracy: 0.8750 - val_loss: 0.5764 - val_accuracy: 0.7143\n",
      "Epoch 99/500\n",
      "4/4 [==============================] - 0s 5ms/step - loss: 0.3479 - accuracy: 0.8750 - val_loss: 0.5815 - val_accuracy: 0.7143\n",
      "Epoch 100/500\n",
      "4/4 [==============================] - 0s 11ms/step - loss: 0.3482 - accuracy: 0.8750 - val_loss: 0.5878 - val_accuracy: 0.7143\n",
      "Epoch 101/500\n",
      "4/4 [==============================] - 0s 5ms/step - loss: 0.3464 - accuracy: 0.8929 - val_loss: 0.5819 - val_accuracy: 0.7143\n",
      "Epoch 102/500\n",
      "4/4 [==============================] - 0s 11ms/step - loss: 0.3463 - accuracy: 0.8929 - val_loss: 0.5888 - val_accuracy: 0.7143\n",
      "Epoch 103/500\n",
      "4/4 [==============================] - 0s 6ms/step - loss: 0.3415 - accuracy: 0.8929 - val_loss: 0.5851 - val_accuracy: 0.7143\n",
      "Epoch 104/500\n",
      "4/4 [==============================] - 0s 5ms/step - loss: 0.3432 - accuracy: 0.8750 - val_loss: 0.5824 - val_accuracy: 0.7143\n",
      "Epoch 105/500\n",
      "4/4 [==============================] - 0s 9ms/step - loss: 0.3446 - accuracy: 0.8750 - val_loss: 0.5856 - val_accuracy: 0.7143\n",
      "Epoch 106/500\n",
      "4/4 [==============================] - 0s 9ms/step - loss: 0.3417 - accuracy: 0.8750 - val_loss: 0.5970 - val_accuracy: 0.7143\n",
      "Epoch 107/500\n",
      "4/4 [==============================] - 0s 8ms/step - loss: 0.3382 - accuracy: 0.8929 - val_loss: 0.5977 - val_accuracy: 0.7143\n",
      "Epoch 108/500\n",
      "4/4 [==============================] - 0s 6ms/step - loss: 0.3371 - accuracy: 0.8750 - val_loss: 0.6038 - val_accuracy: 0.7143\n",
      "Epoch 109/500\n",
      "4/4 [==============================] - 0s 10ms/step - loss: 0.3351 - accuracy: 0.8750 - val_loss: 0.6014 - val_accuracy: 0.7143\n",
      "Epoch 110/500\n",
      "4/4 [==============================] - 0s 8ms/step - loss: 0.3343 - accuracy: 0.8929 - val_loss: 0.5942 - val_accuracy: 0.7143\n",
      "Epoch 111/500\n",
      "4/4 [==============================] - 0s 7ms/step - loss: 0.3327 - accuracy: 0.8929 - val_loss: 0.5897 - val_accuracy: 0.7143\n",
      "Epoch 112/500\n",
      "4/4 [==============================] - 0s 8ms/step - loss: 0.3310 - accuracy: 0.8929 - val_loss: 0.5911 - val_accuracy: 0.7143\n",
      "Epoch 113/500\n",
      "4/4 [==============================] - 0s 5ms/step - loss: 0.3305 - accuracy: 0.8929 - val_loss: 0.5908 - val_accuracy: 0.7143\n",
      "Epoch 114/500\n",
      "4/4 [==============================] - 0s 8ms/step - loss: 0.3295 - accuracy: 0.8929 - val_loss: 0.5930 - val_accuracy: 0.7143\n",
      "Epoch 115/500\n",
      "4/4 [==============================] - 0s 11ms/step - loss: 0.3284 - accuracy: 0.8929 - val_loss: 0.6041 - val_accuracy: 0.7143\n",
      "Epoch 116/500\n",
      "4/4 [==============================] - 0s 9ms/step - loss: 0.3292 - accuracy: 0.8929 - val_loss: 0.6121 - val_accuracy: 0.7143\n",
      "Epoch 117/500\n",
      "4/4 [==============================] - 0s 8ms/step - loss: 0.3265 - accuracy: 0.8750 - val_loss: 0.6033 - val_accuracy: 0.7143\n",
      "Epoch 118/500\n",
      "4/4 [==============================] - 0s 7ms/step - loss: 0.3256 - accuracy: 0.8750 - val_loss: 0.5973 - val_accuracy: 0.7143\n",
      "Epoch 119/500\n",
      "4/4 [==============================] - 0s 11ms/step - loss: 0.3244 - accuracy: 0.8750 - val_loss: 0.5925 - val_accuracy: 0.7143\n",
      "Epoch 120/500\n",
      "4/4 [==============================] - 0s 7ms/step - loss: 0.3239 - accuracy: 0.8750 - val_loss: 0.5933 - val_accuracy: 0.7143\n",
      "Epoch 121/500\n",
      "4/4 [==============================] - 0s 7ms/step - loss: 0.3223 - accuracy: 0.8750 - val_loss: 0.5869 - val_accuracy: 0.7143\n",
      "Epoch 122/500\n",
      "4/4 [==============================] - 0s 9ms/step - loss: 0.3260 - accuracy: 0.8750 - val_loss: 0.5898 - val_accuracy: 0.7143\n",
      "Epoch 123/500\n",
      "4/4 [==============================] - 0s 5ms/step - loss: 0.3200 - accuracy: 0.8750 - val_loss: 0.5963 - val_accuracy: 0.7143\n",
      "Epoch 124/500\n",
      "4/4 [==============================] - 0s 11ms/step - loss: 0.3190 - accuracy: 0.8750 - val_loss: 0.6017 - val_accuracy: 0.7143\n",
      "Epoch 125/500\n",
      "4/4 [==============================] - 0s 5ms/step - loss: 0.3182 - accuracy: 0.8929 - val_loss: 0.6083 - val_accuracy: 0.7143\n",
      "Epoch 126/500\n",
      "4/4 [==============================] - 0s 12ms/step - loss: 0.3202 - accuracy: 0.8929 - val_loss: 0.6154 - val_accuracy: 0.7143\n",
      "Epoch 127/500\n",
      "4/4 [==============================] - 0s 4ms/step - loss: 0.3172 - accuracy: 0.8929 - val_loss: 0.6148 - val_accuracy: 0.7143\n",
      "Epoch 128/500\n",
      "4/4 [==============================] - 0s 12ms/step - loss: 0.3171 - accuracy: 0.8750 - val_loss: 0.6015 - val_accuracy: 0.7143\n",
      "Epoch 129/500\n",
      "4/4 [==============================] - 0s 5ms/step - loss: 0.3187 - accuracy: 0.8750 - val_loss: 0.5924 - val_accuracy: 0.7143\n",
      "Epoch 130/500\n",
      "4/4 [==============================] - 0s 8ms/step - loss: 0.3176 - accuracy: 0.8571 - val_loss: 0.5945 - val_accuracy: 0.7143\n",
      "Epoch 131/500\n",
      "4/4 [==============================] - 0s 9ms/step - loss: 0.3141 - accuracy: 0.8750 - val_loss: 0.6021 - val_accuracy: 0.7143\n",
      "Epoch 132/500\n",
      "4/4 [==============================] - 0s 9ms/step - loss: 0.3127 - accuracy: 0.8750 - val_loss: 0.6062 - val_accuracy: 0.7143\n",
      "Epoch 133/500\n",
      "4/4 [==============================] - 0s 9ms/step - loss: 0.3117 - accuracy: 0.8929 - val_loss: 0.6176 - val_accuracy: 0.7143\n",
      "Epoch 134/500\n",
      "4/4 [==============================] - 0s 5ms/step - loss: 0.3138 - accuracy: 0.8750 - val_loss: 0.6251 - val_accuracy: 0.7143\n",
      "Epoch 135/500\n",
      "4/4 [==============================] - 0s 12ms/step - loss: 0.3136 - accuracy: 0.8750 - val_loss: 0.6188 - val_accuracy: 0.7143\n",
      "Epoch 136/500\n",
      "4/4 [==============================] - 0s 6ms/step - loss: 0.3110 - accuracy: 0.8750 - val_loss: 0.6094 - val_accuracy: 0.7143\n",
      "Epoch 137/500\n",
      "4/4 [==============================] - 0s 9ms/step - loss: 0.3090 - accuracy: 0.8750 - val_loss: 0.5968 - val_accuracy: 0.7143\n",
      "Epoch 138/500\n",
      "4/4 [==============================] - 0s 12ms/step - loss: 0.3081 - accuracy: 0.8750 - val_loss: 0.5943 - val_accuracy: 0.7143\n",
      "Epoch 139/500\n",
      "4/4 [==============================] - 0s 8ms/step - loss: 0.3074 - accuracy: 0.8750 - val_loss: 0.5973 - val_accuracy: 0.7143\n",
      "Epoch 140/500\n",
      "4/4 [==============================] - 0s 5ms/step - loss: 0.3064 - accuracy: 0.8750 - val_loss: 0.5974 - val_accuracy: 0.7143\n",
      "Epoch 141/500\n",
      "4/4 [==============================] - 0s 9ms/step - loss: 0.3063 - accuracy: 0.8929 - val_loss: 0.6023 - val_accuracy: 0.7143\n",
      "Epoch 142/500\n",
      "4/4 [==============================] - 0s 7ms/step - loss: 0.3055 - accuracy: 0.8929 - val_loss: 0.6060 - val_accuracy: 0.7143\n",
      "Epoch 143/500\n",
      "4/4 [==============================] - 0s 6ms/step - loss: 0.3072 - accuracy: 0.8750 - val_loss: 0.5987 - val_accuracy: 0.7143\n",
      "Epoch 144/500\n",
      "4/4 [==============================] - 0s 4ms/step - loss: 0.3010 - accuracy: 0.8750 - val_loss: 0.6105 - val_accuracy: 0.7143\n",
      "Epoch 145/500\n",
      "4/4 [==============================] - 0s 12ms/step - loss: 0.3082 - accuracy: 0.8750 - val_loss: 0.6223 - val_accuracy: 0.7143\n",
      "Epoch 146/500\n",
      "4/4 [==============================] - 0s 8ms/step - loss: 0.3008 - accuracy: 0.8929 - val_loss: 0.6157 - val_accuracy: 0.7143\n",
      "Epoch 147/500\n",
      "4/4 [==============================] - 0s 5ms/step - loss: 0.3038 - accuracy: 0.8750 - val_loss: 0.6036 - val_accuracy: 0.7857\n",
      "Epoch 148/500\n",
      "4/4 [==============================] - 0s 8ms/step - loss: 0.3016 - accuracy: 0.8750 - val_loss: 0.6066 - val_accuracy: 0.7143\n",
      "Epoch 149/500\n",
      "4/4 [==============================] - 0s 4ms/step - loss: 0.2997 - accuracy: 0.8750 - val_loss: 0.6035 - val_accuracy: 0.7143\n",
      "Epoch 150/500\n",
      "4/4 [==============================] - 0s 5ms/step - loss: 0.2993 - accuracy: 0.8929 - val_loss: 0.6111 - val_accuracy: 0.7143\n",
      "Epoch 151/500\n",
      "4/4 [==============================] - 0s 11ms/step - loss: 0.3009 - accuracy: 0.8750 - val_loss: 0.6299 - val_accuracy: 0.7143\n",
      "Epoch 152/500\n",
      "4/4 [==============================] - 0s 7ms/step - loss: 0.2969 - accuracy: 0.8929 - val_loss: 0.6289 - val_accuracy: 0.7143\n",
      "Epoch 153/500\n",
      "4/4 [==============================] - 0s 8ms/step - loss: 0.2970 - accuracy: 0.8750 - val_loss: 0.6315 - val_accuracy: 0.7143\n",
      "Epoch 154/500\n",
      "4/4 [==============================] - 0s 9ms/step - loss: 0.2939 - accuracy: 0.8750 - val_loss: 0.6352 - val_accuracy: 0.7143\n",
      "Epoch 155/500\n",
      "4/4 [==============================] - 0s 9ms/step - loss: 0.2948 - accuracy: 0.8750 - val_loss: 0.6417 - val_accuracy: 0.7143\n",
      "Epoch 156/500\n",
      "4/4 [==============================] - 0s 9ms/step - loss: 0.2931 - accuracy: 0.8750 - val_loss: 0.6370 - val_accuracy: 0.7143\n",
      "Epoch 157/500\n",
      "4/4 [==============================] - 0s 8ms/step - loss: 0.2911 - accuracy: 0.8929 - val_loss: 0.6338 - val_accuracy: 0.7143\n",
      "Epoch 158/500\n",
      "4/4 [==============================] - 0s 7ms/step - loss: 0.2905 - accuracy: 0.8929 - val_loss: 0.6280 - val_accuracy: 0.7143\n",
      "Epoch 159/500\n",
      "4/4 [==============================] - 0s 8ms/step - loss: 0.2898 - accuracy: 0.8750 - val_loss: 0.6250 - val_accuracy: 0.7143\n",
      "Epoch 160/500\n",
      "4/4 [==============================] - 0s 7ms/step - loss: 0.2917 - accuracy: 0.8929 - val_loss: 0.6310 - val_accuracy: 0.7143\n",
      "Epoch 161/500\n",
      "4/4 [==============================] - 0s 9ms/step - loss: 0.2895 - accuracy: 0.8929 - val_loss: 0.6349 - val_accuracy: 0.7143\n",
      "Epoch 162/500\n",
      "4/4 [==============================] - 0s 9ms/step - loss: 0.2864 - accuracy: 0.8929 - val_loss: 0.6234 - val_accuracy: 0.7143\n",
      "Epoch 163/500\n",
      "4/4 [==============================] - 0s 9ms/step - loss: 0.2866 - accuracy: 0.8929 - val_loss: 0.6185 - val_accuracy: 0.7143\n",
      "Epoch 164/500\n",
      "4/4 [==============================] - 0s 10ms/step - loss: 0.2851 - accuracy: 0.8750 - val_loss: 0.6195 - val_accuracy: 0.7143\n",
      "Epoch 165/500\n",
      "4/4 [==============================] - 0s 9ms/step - loss: 0.2841 - accuracy: 0.8750 - val_loss: 0.6233 - val_accuracy: 0.7143\n",
      "Epoch 166/500\n",
      "4/4 [==============================] - 0s 9ms/step - loss: 0.2835 - accuracy: 0.8929 - val_loss: 0.6290 - val_accuracy: 0.7143\n",
      "Epoch 167/500\n",
      "4/4 [==============================] - 0s 8ms/step - loss: 0.2822 - accuracy: 0.8929 - val_loss: 0.6351 - val_accuracy: 0.7143\n",
      "Epoch 168/500\n",
      "4/4 [==============================] - 0s 7ms/step - loss: 0.2837 - accuracy: 0.8929 - val_loss: 0.6413 - val_accuracy: 0.7143\n",
      "Epoch 169/500\n",
      "4/4 [==============================] - 0s 9ms/step - loss: 0.2821 - accuracy: 0.8929 - val_loss: 0.6348 - val_accuracy: 0.7143\n",
      "Epoch 170/500\n",
      "4/4 [==============================] - 0s 9ms/step - loss: 0.2810 - accuracy: 0.8929 - val_loss: 0.6257 - val_accuracy: 0.7143\n",
      "Epoch 171/500\n",
      "4/4 [==============================] - 0s 8ms/step - loss: 0.2810 - accuracy: 0.8750 - val_loss: 0.6290 - val_accuracy: 0.7143\n",
      "Epoch 172/500\n",
      "4/4 [==============================] - 0s 8ms/step - loss: 0.2801 - accuracy: 0.8750 - val_loss: 0.6300 - val_accuracy: 0.7143\n",
      "Epoch 173/500\n",
      "4/4 [==============================] - 0s 7ms/step - loss: 0.2768 - accuracy: 0.8929 - val_loss: 0.6417 - val_accuracy: 0.7143\n",
      "Epoch 174/500\n",
      "4/4 [==============================] - 0s 7ms/step - loss: 0.2770 - accuracy: 0.8929 - val_loss: 0.6395 - val_accuracy: 0.7143\n",
      "Epoch 175/500\n",
      "4/4 [==============================] - 0s 7ms/step - loss: 0.2776 - accuracy: 0.8929 - val_loss: 0.6356 - val_accuracy: 0.7143\n",
      "Epoch 176/500\n",
      "4/4 [==============================] - 0s 9ms/step - loss: 0.2772 - accuracy: 0.9107 - val_loss: 0.6482 - val_accuracy: 0.7143\n",
      "Epoch 177/500\n",
      "4/4 [==============================] - 0s 7ms/step - loss: 0.2762 - accuracy: 0.8929 - val_loss: 0.6408 - val_accuracy: 0.7143\n",
      "Epoch 178/500\n",
      "4/4 [==============================] - 0s 7ms/step - loss: 0.2736 - accuracy: 0.8929 - val_loss: 0.6347 - val_accuracy: 0.7143\n",
      "Epoch 179/500\n",
      "4/4 [==============================] - 0s 7ms/step - loss: 0.2743 - accuracy: 0.8750 - val_loss: 0.6277 - val_accuracy: 0.7143\n",
      "Epoch 180/500\n",
      "4/4 [==============================] - 0s 9ms/step - loss: 0.2720 - accuracy: 0.8929 - val_loss: 0.6418 - val_accuracy: 0.7143\n",
      "Epoch 181/500\n",
      "4/4 [==============================] - 0s 7ms/step - loss: 0.2716 - accuracy: 0.8929 - val_loss: 0.6434 - val_accuracy: 0.7143\n",
      "Epoch 182/500\n",
      "4/4 [==============================] - 0s 7ms/step - loss: 0.2703 - accuracy: 0.8929 - val_loss: 0.6463 - val_accuracy: 0.7143\n",
      "Epoch 183/500\n",
      "4/4 [==============================] - 0s 9ms/step - loss: 0.2690 - accuracy: 0.8929 - val_loss: 0.6380 - val_accuracy: 0.7143\n",
      "Epoch 184/500\n",
      "4/4 [==============================] - 0s 9ms/step - loss: 0.2690 - accuracy: 0.8929 - val_loss: 0.6286 - val_accuracy: 0.7143\n",
      "Epoch 185/500\n",
      "4/4 [==============================] - 0s 7ms/step - loss: 0.2687 - accuracy: 0.8929 - val_loss: 0.6280 - val_accuracy: 0.7857\n",
      "Epoch 186/500\n",
      "4/4 [==============================] - 0s 7ms/step - loss: 0.2680 - accuracy: 0.8929 - val_loss: 0.6213 - val_accuracy: 0.7857\n",
      "Epoch 187/500\n",
      "4/4 [==============================] - 0s 7ms/step - loss: 0.2703 - accuracy: 0.8929 - val_loss: 0.6234 - val_accuracy: 0.7857\n",
      "Epoch 188/500\n",
      "4/4 [==============================] - 0s 9ms/step - loss: 0.2667 - accuracy: 0.8750 - val_loss: 0.6262 - val_accuracy: 0.7857\n",
      "Epoch 189/500\n",
      "4/4 [==============================] - 0s 7ms/step - loss: 0.2672 - accuracy: 0.8750 - val_loss: 0.6447 - val_accuracy: 0.7143\n",
      "Epoch 190/500\n",
      "4/4 [==============================] - 0s 7ms/step - loss: 0.2651 - accuracy: 0.8750 - val_loss: 0.6473 - val_accuracy: 0.7143\n",
      "Epoch 191/500\n",
      "4/4 [==============================] - 0s 8ms/step - loss: 0.2658 - accuracy: 0.8750 - val_loss: 0.6413 - val_accuracy: 0.7143\n",
      "Epoch 192/500\n",
      "4/4 [==============================] - 0s 9ms/step - loss: 0.2643 - accuracy: 0.8929 - val_loss: 0.6418 - val_accuracy: 0.7143\n",
      "Epoch 193/500\n",
      "4/4 [==============================] - 0s 9ms/step - loss: 0.2616 - accuracy: 0.8929 - val_loss: 0.6415 - val_accuracy: 0.7143\n",
      "Epoch 194/500\n",
      "4/4 [==============================] - 0s 9ms/step - loss: 0.2619 - accuracy: 0.8929 - val_loss: 0.6372 - val_accuracy: 0.7143\n",
      "Epoch 195/500\n",
      "4/4 [==============================] - 0s 9ms/step - loss: 0.2602 - accuracy: 0.8929 - val_loss: 0.6419 - val_accuracy: 0.7143\n",
      "Epoch 196/500\n",
      "4/4 [==============================] - 0s 8ms/step - loss: 0.2622 - accuracy: 0.9107 - val_loss: 0.6466 - val_accuracy: 0.7143\n",
      "Epoch 197/500\n",
      "4/4 [==============================] - 0s 8ms/step - loss: 0.2584 - accuracy: 0.8929 - val_loss: 0.6403 - val_accuracy: 0.7143\n",
      "Epoch 198/500\n",
      "4/4 [==============================] - 0s 11ms/step - loss: 0.2578 - accuracy: 0.8750 - val_loss: 0.6356 - val_accuracy: 0.7857\n",
      "Epoch 199/500\n",
      "4/4 [==============================] - 0s 7ms/step - loss: 0.2577 - accuracy: 0.8750 - val_loss: 0.6438 - val_accuracy: 0.7857\n",
      "Epoch 200/500\n",
      "4/4 [==============================] - 0s 8ms/step - loss: 0.2574 - accuracy: 0.8750 - val_loss: 0.6479 - val_accuracy: 0.7857\n",
      "Epoch 201/500\n",
      "4/4 [==============================] - 0s 7ms/step - loss: 0.2547 - accuracy: 0.8750 - val_loss: 0.6498 - val_accuracy: 0.7143\n",
      "Epoch 202/500\n",
      "4/4 [==============================] - 0s 9ms/step - loss: 0.2563 - accuracy: 0.8929 - val_loss: 0.6544 - val_accuracy: 0.7143\n",
      "Epoch 203/500\n",
      "4/4 [==============================] - 0s 9ms/step - loss: 0.2542 - accuracy: 0.9107 - val_loss: 0.6497 - val_accuracy: 0.7143\n",
      "Epoch 204/500\n",
      "4/4 [==============================] - 0s 7ms/step - loss: 0.2565 - accuracy: 0.8929 - val_loss: 0.6431 - val_accuracy: 0.7143\n",
      "Epoch 205/500\n",
      "4/4 [==============================] - 0s 7ms/step - loss: 0.2526 - accuracy: 0.8929 - val_loss: 0.6478 - val_accuracy: 0.7143\n",
      "Epoch 206/500\n",
      "4/4 [==============================] - 0s 8ms/step - loss: 0.2515 - accuracy: 0.8750 - val_loss: 0.6430 - val_accuracy: 0.7857\n",
      "Epoch 207/500\n",
      "4/4 [==============================] - 0s 7ms/step - loss: 0.2514 - accuracy: 0.8750 - val_loss: 0.6457 - val_accuracy: 0.7857\n",
      "Epoch 208/500\n",
      "4/4 [==============================] - 0s 6ms/step - loss: 0.2518 - accuracy: 0.8750 - val_loss: 0.6416 - val_accuracy: 0.7857\n",
      "Epoch 209/500\n",
      "4/4 [==============================] - 0s 8ms/step - loss: 0.2525 - accuracy: 0.8750 - val_loss: 0.6486 - val_accuracy: 0.7857\n",
      "Epoch 210/500\n",
      "4/4 [==============================] - 0s 7ms/step - loss: 0.2491 - accuracy: 0.8929 - val_loss: 0.6475 - val_accuracy: 0.7857\n",
      "Epoch 211/500\n",
      "4/4 [==============================] - 0s 9ms/step - loss: 0.2496 - accuracy: 0.8929 - val_loss: 0.6493 - val_accuracy: 0.7143\n",
      "Epoch 212/500\n",
      "4/4 [==============================] - 0s 9ms/step - loss: 0.2482 - accuracy: 0.8750 - val_loss: 0.6449 - val_accuracy: 0.7143\n",
      "Epoch 213/500\n",
      "4/4 [==============================] - 0s 7ms/step - loss: 0.2491 - accuracy: 0.8750 - val_loss: 0.6533 - val_accuracy: 0.7143\n",
      "Epoch 214/500\n",
      "4/4 [==============================] - 0s 11ms/step - loss: 0.2482 - accuracy: 0.8929 - val_loss: 0.6598 - val_accuracy: 0.7143\n",
      "Epoch 215/500\n",
      "4/4 [==============================] - 0s 9ms/step - loss: 0.2457 - accuracy: 0.8929 - val_loss: 0.6566 - val_accuracy: 0.7143\n",
      "Epoch 216/500\n",
      "4/4 [==============================] - 0s 7ms/step - loss: 0.2444 - accuracy: 0.8929 - val_loss: 0.6465 - val_accuracy: 0.7143\n",
      "Epoch 217/500\n",
      "4/4 [==============================] - 0s 9ms/step - loss: 0.2451 - accuracy: 0.8750 - val_loss: 0.6484 - val_accuracy: 0.7143\n",
      "Epoch 218/500\n",
      "4/4 [==============================] - 0s 8ms/step - loss: 0.2426 - accuracy: 0.8750 - val_loss: 0.6556 - val_accuracy: 0.7143\n",
      "Epoch 219/500\n",
      "4/4 [==============================] - 0s 9ms/step - loss: 0.2410 - accuracy: 0.8929 - val_loss: 0.6652 - val_accuracy: 0.7143\n",
      "Epoch 220/500\n",
      "4/4 [==============================] - 0s 9ms/step - loss: 0.2405 - accuracy: 0.9107 - val_loss: 0.6703 - val_accuracy: 0.7143\n",
      "Epoch 221/500\n",
      "4/4 [==============================] - 0s 9ms/step - loss: 0.2430 - accuracy: 0.9107 - val_loss: 0.6644 - val_accuracy: 0.7143\n",
      "Epoch 222/500\n",
      "4/4 [==============================] - 0s 10ms/step - loss: 0.2401 - accuracy: 0.9107 - val_loss: 0.6653 - val_accuracy: 0.7143\n",
      "Epoch 223/500\n",
      "4/4 [==============================] - 0s 8ms/step - loss: 0.2387 - accuracy: 0.8929 - val_loss: 0.6740 - val_accuracy: 0.7143\n",
      "Epoch 224/500\n",
      "4/4 [==============================] - 0s 8ms/step - loss: 0.2396 - accuracy: 0.8929 - val_loss: 0.6776 - val_accuracy: 0.7143\n",
      "Epoch 225/500\n",
      "4/4 [==============================] - 0s 6ms/step - loss: 0.2390 - accuracy: 0.8929 - val_loss: 0.6854 - val_accuracy: 0.6429\n",
      "Epoch 226/500\n",
      "4/4 [==============================] - 0s 7ms/step - loss: 0.2408 - accuracy: 0.8929 - val_loss: 0.6891 - val_accuracy: 0.6429\n",
      "Epoch 227/500\n",
      "4/4 [==============================] - 0s 7ms/step - loss: 0.2417 - accuracy: 0.8929 - val_loss: 0.6955 - val_accuracy: 0.6429\n",
      "Epoch 228/500\n",
      "4/4 [==============================] - 0s 9ms/step - loss: 0.2383 - accuracy: 0.8929 - val_loss: 0.6943 - val_accuracy: 0.6429\n",
      "Epoch 229/500\n",
      "4/4 [==============================] - 0s 6ms/step - loss: 0.2360 - accuracy: 0.8929 - val_loss: 0.6789 - val_accuracy: 0.7143\n",
      "Epoch 230/500\n",
      "4/4 [==============================] - 0s 7ms/step - loss: 0.2342 - accuracy: 0.9107 - val_loss: 0.6812 - val_accuracy: 0.7143\n",
      "Epoch 231/500\n",
      "4/4 [==============================] - 0s 7ms/step - loss: 0.2344 - accuracy: 0.8929 - val_loss: 0.6950 - val_accuracy: 0.6429\n",
      "Epoch 232/500\n",
      "4/4 [==============================] - 0s 7ms/step - loss: 0.2322 - accuracy: 0.8929 - val_loss: 0.6957 - val_accuracy: 0.6429\n",
      "Epoch 233/500\n",
      "4/4 [==============================] - 0s 9ms/step - loss: 0.2329 - accuracy: 0.8929 - val_loss: 0.6999 - val_accuracy: 0.6429\n",
      "Epoch 234/500\n",
      "4/4 [==============================] - 0s 7ms/step - loss: 0.2306 - accuracy: 0.9107 - val_loss: 0.6993 - val_accuracy: 0.6429\n",
      "Epoch 235/500\n",
      "4/4 [==============================] - 0s 9ms/step - loss: 0.2309 - accuracy: 0.8929 - val_loss: 0.6966 - val_accuracy: 0.7143\n",
      "Epoch 236/500\n",
      "4/4 [==============================] - 0s 7ms/step - loss: 0.2304 - accuracy: 0.9107 - val_loss: 0.6896 - val_accuracy: 0.7143\n",
      "Epoch 237/500\n",
      "4/4 [==============================] - 0s 9ms/step - loss: 0.2257 - accuracy: 0.8929 - val_loss: 0.6925 - val_accuracy: 0.6429\n",
      "Epoch 238/500\n",
      "4/4 [==============================] - 0s 9ms/step - loss: 0.2324 - accuracy: 0.8750 - val_loss: 0.6894 - val_accuracy: 0.7143\n",
      "Epoch 239/500\n",
      "4/4 [==============================] - 0s 7ms/step - loss: 0.2336 - accuracy: 0.8929 - val_loss: 0.6924 - val_accuracy: 0.7143\n",
      "Epoch 240/500\n",
      "4/4 [==============================] - 0s 7ms/step - loss: 0.2265 - accuracy: 0.8750 - val_loss: 0.6863 - val_accuracy: 0.7143\n",
      "Epoch 241/500\n",
      "4/4 [==============================] - 0s 7ms/step - loss: 0.2247 - accuracy: 0.9107 - val_loss: 0.6801 - val_accuracy: 0.7143\n",
      "Epoch 242/500\n",
      "4/4 [==============================] - 0s 9ms/step - loss: 0.2268 - accuracy: 0.9107 - val_loss: 0.6818 - val_accuracy: 0.7143\n",
      "Epoch 243/500\n",
      "4/4 [==============================] - 0s 8ms/step - loss: 0.2273 - accuracy: 0.9107 - val_loss: 0.6907 - val_accuracy: 0.7143\n",
      "Epoch 244/500\n",
      "4/4 [==============================] - 0s 8ms/step - loss: 0.2239 - accuracy: 0.9107 - val_loss: 0.6891 - val_accuracy: 0.7143\n",
      "Epoch 245/500\n",
      "4/4 [==============================] - 0s 8ms/step - loss: 0.2237 - accuracy: 0.8929 - val_loss: 0.6970 - val_accuracy: 0.6429\n",
      "Epoch 246/500\n",
      "4/4 [==============================] - 0s 7ms/step - loss: 0.2208 - accuracy: 0.8929 - val_loss: 0.6923 - val_accuracy: 0.6429\n",
      "Epoch 247/500\n",
      "4/4 [==============================] - 0s 7ms/step - loss: 0.2222 - accuracy: 0.8929 - val_loss: 0.6803 - val_accuracy: 0.7143\n",
      "Epoch 248/500\n",
      "4/4 [==============================] - 0s 7ms/step - loss: 0.2256 - accuracy: 0.9107 - val_loss: 0.6790 - val_accuracy: 0.7143\n",
      "Epoch 249/500\n",
      "4/4 [==============================] - 0s 7ms/step - loss: 0.2213 - accuracy: 0.9107 - val_loss: 0.6860 - val_accuracy: 0.6429\n",
      "Epoch 250/500\n",
      "4/4 [==============================] - 0s 7ms/step - loss: 0.2175 - accuracy: 0.9107 - val_loss: 0.6910 - val_accuracy: 0.6429\n",
      "Epoch 251/500\n",
      "4/4 [==============================] - 0s 9ms/step - loss: 0.2154 - accuracy: 0.9107 - val_loss: 0.6971 - val_accuracy: 0.7143\n",
      "Epoch 252/500\n",
      "4/4 [==============================] - 0s 7ms/step - loss: 0.2210 - accuracy: 0.8929 - val_loss: 0.7069 - val_accuracy: 0.7143\n",
      "Epoch 253/500\n",
      "4/4 [==============================] - 0s 9ms/step - loss: 0.2187 - accuracy: 0.8929 - val_loss: 0.7117 - val_accuracy: 0.6429\n",
      "Epoch 254/500\n",
      "4/4 [==============================] - 0s 8ms/step - loss: 0.2167 - accuracy: 0.8929 - val_loss: 0.7137 - val_accuracy: 0.6429\n",
      "Epoch 255/500\n",
      "4/4 [==============================] - 0s 7ms/step - loss: 0.2143 - accuracy: 0.9107 - val_loss: 0.7022 - val_accuracy: 0.6429\n",
      "Epoch 256/500\n",
      "4/4 [==============================] - 0s 9ms/step - loss: 0.2144 - accuracy: 0.9107 - val_loss: 0.6917 - val_accuracy: 0.6429\n",
      "Epoch 257/500\n",
      "4/4 [==============================] - 0s 7ms/step - loss: 0.2121 - accuracy: 0.9107 - val_loss: 0.7021 - val_accuracy: 0.6429\n",
      "Epoch 258/500\n",
      "4/4 [==============================] - 0s 7ms/step - loss: 0.2118 - accuracy: 0.9107 - val_loss: 0.7160 - val_accuracy: 0.6429\n",
      "Epoch 259/500\n",
      "4/4 [==============================] - 0s 9ms/step - loss: 0.2138 - accuracy: 0.8750 - val_loss: 0.7239 - val_accuracy: 0.6429\n",
      "Epoch 260/500\n",
      "4/4 [==============================] - 0s 7ms/step - loss: 0.2118 - accuracy: 0.8929 - val_loss: 0.7142 - val_accuracy: 0.6429\n",
      "Epoch 261/500\n",
      "4/4 [==============================] - 0s 7ms/step - loss: 0.2101 - accuracy: 0.9107 - val_loss: 0.7011 - val_accuracy: 0.6429\n",
      "Epoch 262/500\n",
      "4/4 [==============================] - 0s 9ms/step - loss: 0.2110 - accuracy: 0.9107 - val_loss: 0.6872 - val_accuracy: 0.6429\n",
      "Epoch 263/500\n",
      "4/4 [==============================] - 0s 9ms/step - loss: 0.2091 - accuracy: 0.9107 - val_loss: 0.7068 - val_accuracy: 0.6429\n",
      "Epoch 264/500\n",
      "4/4 [==============================] - 0s 7ms/step - loss: 0.2065 - accuracy: 0.9286 - val_loss: 0.7201 - val_accuracy: 0.6429\n",
      "Epoch 265/500\n",
      "4/4 [==============================] - 0s 7ms/step - loss: 0.2113 - accuracy: 0.8929 - val_loss: 0.7358 - val_accuracy: 0.6429\n",
      "Epoch 266/500\n",
      "4/4 [==============================] - 0s 7ms/step - loss: 0.2055 - accuracy: 0.9107 - val_loss: 0.7222 - val_accuracy: 0.6429\n",
      "Epoch 267/500\n",
      "4/4 [==============================] - 0s 7ms/step - loss: 0.2057 - accuracy: 0.9107 - val_loss: 0.7098 - val_accuracy: 0.7143\n",
      "Epoch 268/500\n",
      "4/4 [==============================] - 0s 9ms/step - loss: 0.2056 - accuracy: 0.9107 - val_loss: 0.7064 - val_accuracy: 0.7143\n",
      "Epoch 269/500\n",
      "4/4 [==============================] - 0s 9ms/step - loss: 0.2043 - accuracy: 0.9107 - val_loss: 0.7109 - val_accuracy: 0.6429\n",
      "Epoch 270/500\n",
      "4/4 [==============================] - 0s 7ms/step - loss: 0.2050 - accuracy: 0.9107 - val_loss: 0.7138 - val_accuracy: 0.6429\n",
      "Epoch 271/500\n",
      "4/4 [==============================] - 0s 7ms/step - loss: 0.2043 - accuracy: 0.9107 - val_loss: 0.6972 - val_accuracy: 0.7143\n",
      "Epoch 272/500\n",
      "4/4 [==============================] - 0s 9ms/step - loss: 0.2035 - accuracy: 0.9107 - val_loss: 0.6940 - val_accuracy: 0.6429\n",
      "Epoch 273/500\n",
      "4/4 [==============================] - 0s 7ms/step - loss: 0.2012 - accuracy: 0.9286 - val_loss: 0.6878 - val_accuracy: 0.7143\n",
      "Epoch 274/500\n",
      "4/4 [==============================] - 0s 7ms/step - loss: 0.2011 - accuracy: 0.9286 - val_loss: 0.6925 - val_accuracy: 0.6429\n",
      "Epoch 275/500\n",
      "4/4 [==============================] - 0s 8ms/step - loss: 0.2012 - accuracy: 0.9107 - val_loss: 0.7058 - val_accuracy: 0.6429\n",
      "Epoch 276/500\n",
      "4/4 [==============================] - 0s 7ms/step - loss: 0.1983 - accuracy: 0.9107 - val_loss: 0.7216 - val_accuracy: 0.6429\n",
      "Epoch 277/500\n",
      "4/4 [==============================] - 0s 9ms/step - loss: 0.1981 - accuracy: 0.9107 - val_loss: 0.7329 - val_accuracy: 0.6429\n",
      "Epoch 278/500\n",
      "4/4 [==============================] - 0s 8ms/step - loss: 0.1991 - accuracy: 0.9107 - val_loss: 0.7413 - val_accuracy: 0.6429\n",
      "Epoch 279/500\n",
      "4/4 [==============================] - 0s 7ms/step - loss: 0.1971 - accuracy: 0.9107 - val_loss: 0.7392 - val_accuracy: 0.6429\n",
      "Epoch 280/500\n",
      "4/4 [==============================] - 0s 12ms/step - loss: 0.1945 - accuracy: 0.9107 - val_loss: 0.7356 - val_accuracy: 0.6429\n",
      "Epoch 281/500\n",
      "4/4 [==============================] - 0s 10ms/step - loss: 0.2002 - accuracy: 0.9107 - val_loss: 0.7248 - val_accuracy: 0.6429\n",
      "Epoch 282/500\n",
      "4/4 [==============================] - 0s 8ms/step - loss: 0.1983 - accuracy: 0.9107 - val_loss: 0.7336 - val_accuracy: 0.5714\n",
      "Epoch 283/500\n",
      "4/4 [==============================] - 0s 8ms/step - loss: 0.1948 - accuracy: 0.9286 - val_loss: 0.7353 - val_accuracy: 0.5714\n",
      "Epoch 284/500\n",
      "4/4 [==============================] - 0s 8ms/step - loss: 0.1942 - accuracy: 0.9286 - val_loss: 0.7312 - val_accuracy: 0.6429\n",
      "Epoch 285/500\n",
      "4/4 [==============================] - 0s 6ms/step - loss: 0.1949 - accuracy: 0.9286 - val_loss: 0.7491 - val_accuracy: 0.6429\n",
      "Epoch 286/500\n",
      "4/4 [==============================] - 0s 9ms/step - loss: 0.1923 - accuracy: 0.9286 - val_loss: 0.7409 - val_accuracy: 0.6429\n",
      "Epoch 287/500\n",
      "4/4 [==============================] - 0s 6ms/step - loss: 0.1919 - accuracy: 0.9286 - val_loss: 0.7369 - val_accuracy: 0.6429\n",
      "Epoch 288/500\n",
      "4/4 [==============================] - 0s 5ms/step - loss: 0.1911 - accuracy: 0.9107 - val_loss: 0.7307 - val_accuracy: 0.6429\n",
      "Epoch 289/500\n",
      "4/4 [==============================] - 0s 6ms/step - loss: 0.1905 - accuracy: 0.9464 - val_loss: 0.7385 - val_accuracy: 0.5714\n",
      "Epoch 290/500\n",
      "4/4 [==============================] - 0s 6ms/step - loss: 0.1892 - accuracy: 0.9464 - val_loss: 0.7611 - val_accuracy: 0.6429\n",
      "Epoch 291/500\n",
      "4/4 [==============================] - 0s 9ms/step - loss: 0.1890 - accuracy: 0.9464 - val_loss: 0.7663 - val_accuracy: 0.6429\n",
      "Epoch 292/500\n",
      "4/4 [==============================] - 0s 6ms/step - loss: 0.1891 - accuracy: 0.9464 - val_loss: 0.7585 - val_accuracy: 0.6429\n",
      "Epoch 293/500\n",
      "4/4 [==============================] - 0s 5ms/step - loss: 0.1879 - accuracy: 0.9464 - val_loss: 0.7490 - val_accuracy: 0.5714\n",
      "Epoch 294/500\n",
      "4/4 [==============================] - 0s 9ms/step - loss: 0.1860 - accuracy: 0.9464 - val_loss: 0.7410 - val_accuracy: 0.5714\n",
      "Epoch 295/500\n",
      "4/4 [==============================] - 0s 10ms/step - loss: 0.1905 - accuracy: 0.9286 - val_loss: 0.7415 - val_accuracy: 0.6429\n",
      "Epoch 296/500\n",
      "4/4 [==============================] - 0s 6ms/step - loss: 0.1846 - accuracy: 0.9286 - val_loss: 0.7338 - val_accuracy: 0.5714\n",
      "Epoch 297/500\n",
      "4/4 [==============================] - 0s 10ms/step - loss: 0.1863 - accuracy: 0.9286 - val_loss: 0.7203 - val_accuracy: 0.6429\n",
      "Epoch 298/500\n",
      "4/4 [==============================] - 0s 6ms/step - loss: 0.1846 - accuracy: 0.9464 - val_loss: 0.7269 - val_accuracy: 0.5714\n",
      "Epoch 299/500\n",
      "4/4 [==============================] - 0s 10ms/step - loss: 0.1839 - accuracy: 0.9286 - val_loss: 0.7367 - val_accuracy: 0.5714\n",
      "Epoch 300/500\n",
      "4/4 [==============================] - 0s 9ms/step - loss: 0.1817 - accuracy: 0.9286 - val_loss: 0.7399 - val_accuracy: 0.5714\n",
      "Epoch 301/500\n",
      "4/4 [==============================] - 0s 9ms/step - loss: 0.1815 - accuracy: 0.9464 - val_loss: 0.7417 - val_accuracy: 0.5714\n",
      "Epoch 302/500\n",
      "4/4 [==============================] - 0s 7ms/step - loss: 0.1804 - accuracy: 0.9643 - val_loss: 0.7494 - val_accuracy: 0.5714\n",
      "Epoch 303/500\n",
      "4/4 [==============================] - 0s 10ms/step - loss: 0.1800 - accuracy: 0.9643 - val_loss: 0.7556 - val_accuracy: 0.5714\n",
      "Epoch 304/500\n",
      "4/4 [==============================] - 0s 5ms/step - loss: 0.1798 - accuracy: 0.9643 - val_loss: 0.7562 - val_accuracy: 0.5714\n",
      "Epoch 305/500\n",
      "4/4 [==============================] - 0s 6ms/step - loss: 0.1794 - accuracy: 0.9643 - val_loss: 0.7731 - val_accuracy: 0.5714\n",
      "Epoch 306/500\n",
      "4/4 [==============================] - 0s 9ms/step - loss: 0.1791 - accuracy: 0.9643 - val_loss: 0.7625 - val_accuracy: 0.6429\n",
      "Epoch 307/500\n",
      "4/4 [==============================] - 0s 7ms/step - loss: 0.1780 - accuracy: 0.9643 - val_loss: 0.7569 - val_accuracy: 0.5714\n",
      "Epoch 308/500\n",
      "4/4 [==============================] - 0s 9ms/step - loss: 0.1800 - accuracy: 0.9464 - val_loss: 0.7525 - val_accuracy: 0.6429\n",
      "Epoch 309/500\n",
      "4/4 [==============================] - 0s 7ms/step - loss: 0.1764 - accuracy: 0.9464 - val_loss: 0.7699 - val_accuracy: 0.5714\n",
      "Epoch 310/500\n",
      "4/4 [==============================] - 0s 5ms/step - loss: 0.1751 - accuracy: 0.9643 - val_loss: 0.7785 - val_accuracy: 0.5714\n",
      "Epoch 311/500\n",
      "4/4 [==============================] - 0s 11ms/step - loss: 0.1737 - accuracy: 0.9643 - val_loss: 0.7867 - val_accuracy: 0.5000\n",
      "Epoch 312/500\n",
      "4/4 [==============================] - 0s 7ms/step - loss: 0.1751 - accuracy: 0.9643 - val_loss: 0.7865 - val_accuracy: 0.5000\n",
      "Epoch 313/500\n",
      "4/4 [==============================] - 0s 5ms/step - loss: 0.1744 - accuracy: 0.9643 - val_loss: 0.7779 - val_accuracy: 0.5714\n",
      "Epoch 314/500\n",
      "4/4 [==============================] - 0s 5ms/step - loss: 0.1732 - accuracy: 0.9464 - val_loss: 0.7919 - val_accuracy: 0.5000\n",
      "Epoch 315/500\n",
      "4/4 [==============================] - 0s 9ms/step - loss: 0.1737 - accuracy: 0.9464 - val_loss: 0.7913 - val_accuracy: 0.5000\n",
      "Epoch 316/500\n",
      "4/4 [==============================] - 0s 10ms/step - loss: 0.1709 - accuracy: 0.9464 - val_loss: 0.8085 - val_accuracy: 0.5000\n",
      "Epoch 317/500\n",
      "4/4 [==============================] - 0s 6ms/step - loss: 0.1719 - accuracy: 0.9286 - val_loss: 0.8058 - val_accuracy: 0.5000\n",
      "Epoch 318/500\n",
      "4/4 [==============================] - 0s 11ms/step - loss: 0.1710 - accuracy: 0.9286 - val_loss: 0.8055 - val_accuracy: 0.5714\n",
      "Epoch 319/500\n",
      "4/4 [==============================] - 0s 6ms/step - loss: 0.1716 - accuracy: 0.9286 - val_loss: 0.8076 - val_accuracy: 0.5714\n",
      "Epoch 320/500\n",
      "4/4 [==============================] - 0s 11ms/step - loss: 0.1689 - accuracy: 0.9286 - val_loss: 0.8165 - val_accuracy: 0.5000\n",
      "Epoch 321/500\n",
      "4/4 [==============================] - 0s 7ms/step - loss: 0.1687 - accuracy: 0.9464 - val_loss: 0.8194 - val_accuracy: 0.5000\n",
      "Epoch 322/500\n",
      "4/4 [==============================] - 0s 10ms/step - loss: 0.1663 - accuracy: 0.9464 - val_loss: 0.8162 - val_accuracy: 0.5000\n",
      "Epoch 323/500\n",
      "4/4 [==============================] - 0s 5ms/step - loss: 0.1660 - accuracy: 0.9464 - val_loss: 0.8016 - val_accuracy: 0.5000\n",
      "Epoch 324/500\n",
      "4/4 [==============================] - 0s 10ms/step - loss: 0.1665 - accuracy: 0.9643 - val_loss: 0.7791 - val_accuracy: 0.5714\n",
      "Epoch 325/500\n",
      "4/4 [==============================] - 0s 7ms/step - loss: 0.1667 - accuracy: 0.9464 - val_loss: 0.7767 - val_accuracy: 0.5714\n",
      "Epoch 326/500\n",
      "4/4 [==============================] - 0s 9ms/step - loss: 0.1639 - accuracy: 0.9464 - val_loss: 0.7848 - val_accuracy: 0.5000\n",
      "Epoch 327/500\n",
      "4/4 [==============================] - 0s 12ms/step - loss: 0.1625 - accuracy: 0.9643 - val_loss: 0.7906 - val_accuracy: 0.5714\n",
      "Epoch 328/500\n",
      "4/4 [==============================] - 0s 7ms/step - loss: 0.1666 - accuracy: 0.9286 - val_loss: 0.7968 - val_accuracy: 0.5714\n",
      "Epoch 329/500\n",
      "4/4 [==============================] - 0s 10ms/step - loss: 0.1611 - accuracy: 0.9464 - val_loss: 0.7884 - val_accuracy: 0.5714\n",
      "Epoch 330/500\n",
      "4/4 [==============================] - 0s 5ms/step - loss: 0.1616 - accuracy: 0.9643 - val_loss: 0.7829 - val_accuracy: 0.5714\n",
      "Epoch 331/500\n",
      "4/4 [==============================] - 0s 8ms/step - loss: 0.1635 - accuracy: 0.9464 - val_loss: 0.7804 - val_accuracy: 0.5714\n",
      "Epoch 332/500\n",
      "4/4 [==============================] - 0s 5ms/step - loss: 0.1618 - accuracy: 0.9643 - val_loss: 0.7886 - val_accuracy: 0.5714\n",
      "Epoch 333/500\n",
      "4/4 [==============================] - 0s 8ms/step - loss: 0.1602 - accuracy: 0.9464 - val_loss: 0.7928 - val_accuracy: 0.5714\n",
      "Epoch 334/500\n",
      "4/4 [==============================] - 0s 9ms/step - loss: 0.1642 - accuracy: 0.9643 - val_loss: 0.8013 - val_accuracy: 0.5000\n",
      "Epoch 335/500\n",
      "4/4 [==============================] - 0s 11ms/step - loss: 0.1596 - accuracy: 0.9643 - val_loss: 0.8110 - val_accuracy: 0.5000\n",
      "Epoch 336/500\n",
      "4/4 [==============================] - 0s 5ms/step - loss: 0.1587 - accuracy: 0.9643 - val_loss: 0.8339 - val_accuracy: 0.5000\n",
      "Epoch 337/500\n",
      "4/4 [==============================] - 0s 15ms/step - loss: 0.1594 - accuracy: 0.9464 - val_loss: 0.8467 - val_accuracy: 0.5000\n",
      "Epoch 338/500\n",
      "4/4 [==============================] - 0s 11ms/step - loss: 0.1589 - accuracy: 0.9286 - val_loss: 0.8369 - val_accuracy: 0.5000\n",
      "Epoch 339/500\n",
      "4/4 [==============================] - 0s 5ms/step - loss: 0.1554 - accuracy: 0.9643 - val_loss: 0.8341 - val_accuracy: 0.5000\n",
      "Epoch 340/500\n",
      "4/4 [==============================] - 0s 7ms/step - loss: 0.1562 - accuracy: 0.9643 - val_loss: 0.8331 - val_accuracy: 0.5000\n",
      "Epoch 341/500\n",
      "4/4 [==============================] - 0s 6ms/step - loss: 0.1553 - accuracy: 0.9643 - val_loss: 0.8322 - val_accuracy: 0.5000\n",
      "Epoch 342/500\n",
      "4/4 [==============================] - 0s 8ms/step - loss: 0.1559 - accuracy: 0.9464 - val_loss: 0.8392 - val_accuracy: 0.5000\n",
      "Epoch 343/500\n",
      "4/4 [==============================] - 0s 5ms/step - loss: 0.1531 - accuracy: 0.9643 - val_loss: 0.8299 - val_accuracy: 0.5000\n",
      "Epoch 344/500\n",
      "4/4 [==============================] - 0s 5ms/step - loss: 0.1523 - accuracy: 0.9643 - val_loss: 0.8200 - val_accuracy: 0.5000\n",
      "Epoch 345/500\n",
      "4/4 [==============================] - 0s 9ms/step - loss: 0.1533 - accuracy: 0.9643 - val_loss: 0.8112 - val_accuracy: 0.5000\n",
      "Epoch 346/500\n",
      "4/4 [==============================] - 0s 6ms/step - loss: 0.1514 - accuracy: 0.9643 - val_loss: 0.8278 - val_accuracy: 0.5000\n",
      "Epoch 347/500\n",
      "4/4 [==============================] - 0s 5ms/step - loss: 0.1522 - accuracy: 0.9643 - val_loss: 0.8389 - val_accuracy: 0.5000\n",
      "Epoch 348/500\n",
      "4/4 [==============================] - 0s 9ms/step - loss: 0.1522 - accuracy: 0.9643 - val_loss: 0.8594 - val_accuracy: 0.5000\n",
      "Epoch 349/500\n",
      "4/4 [==============================] - 0s 9ms/step - loss: 0.1498 - accuracy: 0.9643 - val_loss: 0.8507 - val_accuracy: 0.5000\n",
      "Epoch 350/500\n",
      "4/4 [==============================] - 0s 7ms/step - loss: 0.1563 - accuracy: 0.9464 - val_loss: 0.8292 - val_accuracy: 0.5000\n",
      "Epoch 351/500\n",
      "4/4 [==============================] - 0s 7ms/step - loss: 0.1522 - accuracy: 0.9643 - val_loss: 0.8469 - val_accuracy: 0.5000\n",
      "Epoch 352/500\n",
      "4/4 [==============================] - 0s 5ms/step - loss: 0.1480 - accuracy: 0.9464 - val_loss: 0.8728 - val_accuracy: 0.5000\n",
      "Epoch 353/500\n",
      "4/4 [==============================] - 0s 11ms/step - loss: 0.1476 - accuracy: 0.9643 - val_loss: 0.8906 - val_accuracy: 0.5000\n",
      "Epoch 354/500\n",
      "4/4 [==============================] - 0s 7ms/step - loss: 0.1489 - accuracy: 0.9643 - val_loss: 0.9022 - val_accuracy: 0.5000\n",
      "Epoch 355/500\n",
      "4/4 [==============================] - 0s 5ms/step - loss: 0.1501 - accuracy: 0.9821 - val_loss: 0.8906 - val_accuracy: 0.5000\n",
      "Epoch 356/500\n",
      "4/4 [==============================] - 0s 8ms/step - loss: 0.1477 - accuracy: 0.9821 - val_loss: 0.8783 - val_accuracy: 0.5000\n",
      "Epoch 357/500\n",
      "4/4 [==============================] - 0s 8ms/step - loss: 0.1481 - accuracy: 0.9643 - val_loss: 0.8854 - val_accuracy: 0.5000\n",
      "Epoch 358/500\n",
      "4/4 [==============================] - 0s 7ms/step - loss: 0.1484 - accuracy: 0.9286 - val_loss: 0.8950 - val_accuracy: 0.5000\n",
      "Epoch 359/500\n",
      "4/4 [==============================] - 0s 11ms/step - loss: 0.1480 - accuracy: 0.9464 - val_loss: 0.8897 - val_accuracy: 0.5000\n",
      "Epoch 360/500\n",
      "4/4 [==============================] - 0s 9ms/step - loss: 0.1480 - accuracy: 0.9464 - val_loss: 0.8568 - val_accuracy: 0.5000\n",
      "Epoch 361/500\n",
      "4/4 [==============================] - 0s 7ms/step - loss: 0.1507 - accuracy: 0.9464 - val_loss: 0.8416 - val_accuracy: 0.5714\n",
      "Epoch 362/500\n",
      "4/4 [==============================] - 0s 7ms/step - loss: 0.1476 - accuracy: 0.9464 - val_loss: 0.8301 - val_accuracy: 0.5000\n",
      "Epoch 363/500\n",
      "4/4 [==============================] - 0s 9ms/step - loss: 0.1458 - accuracy: 0.9643 - val_loss: 0.8457 - val_accuracy: 0.5000\n",
      "Epoch 364/500\n",
      "4/4 [==============================] - 0s 5ms/step - loss: 0.1449 - accuracy: 0.9464 - val_loss: 0.8509 - val_accuracy: 0.5000\n",
      "Epoch 365/500\n",
      "4/4 [==============================] - 0s 11ms/step - loss: 0.1465 - accuracy: 0.9643 - val_loss: 0.8427 - val_accuracy: 0.5000\n",
      "Epoch 366/500\n",
      "4/4 [==============================] - 0s 5ms/step - loss: 0.1428 - accuracy: 0.9643 - val_loss: 0.8523 - val_accuracy: 0.5000\n",
      "Epoch 367/500\n",
      "4/4 [==============================] - 0s 5ms/step - loss: 0.1400 - accuracy: 0.9643 - val_loss: 0.8624 - val_accuracy: 0.5000\n",
      "Epoch 368/500\n",
      "4/4 [==============================] - 0s 5ms/step - loss: 0.1406 - accuracy: 0.9643 - val_loss: 0.8757 - val_accuracy: 0.5000\n",
      "Epoch 369/500\n",
      "4/4 [==============================] - 0s 6ms/step - loss: 0.1408 - accuracy: 0.9643 - val_loss: 0.8798 - val_accuracy: 0.5000\n",
      "Epoch 370/500\n",
      "4/4 [==============================] - 0s 8ms/step - loss: 0.1386 - accuracy: 0.9643 - val_loss: 0.8836 - val_accuracy: 0.5000\n",
      "Epoch 371/500\n",
      "4/4 [==============================] - 0s 4ms/step - loss: 0.1382 - accuracy: 0.9643 - val_loss: 0.8997 - val_accuracy: 0.5000\n",
      "Epoch 372/500\n",
      "4/4 [==============================] - 0s 3ms/step - loss: 0.1376 - accuracy: 0.9643 - val_loss: 0.8974 - val_accuracy: 0.5000\n",
      "Epoch 373/500\n",
      "4/4 [==============================] - 0s 12ms/step - loss: 0.1374 - accuracy: 0.9821 - val_loss: 0.8994 - val_accuracy: 0.5000\n",
      "Epoch 374/500\n",
      "4/4 [==============================] - 0s 5ms/step - loss: 0.1375 - accuracy: 0.9643 - val_loss: 0.8856 - val_accuracy: 0.5000\n",
      "Epoch 375/500\n",
      "4/4 [==============================] - 0s 11ms/step - loss: 0.1368 - accuracy: 0.9643 - val_loss: 0.8916 - val_accuracy: 0.5000\n",
      "Epoch 376/500\n",
      "4/4 [==============================] - 0s 4ms/step - loss: 0.1362 - accuracy: 0.9643 - val_loss: 0.9202 - val_accuracy: 0.5000\n",
      "Epoch 377/500\n",
      "4/4 [==============================] - 0s 12ms/step - loss: 0.1387 - accuracy: 0.9643 - val_loss: 0.9290 - val_accuracy: 0.5000\n",
      "Epoch 378/500\n",
      "4/4 [==============================] - 0s 9ms/step - loss: 0.1353 - accuracy: 0.9821 - val_loss: 0.9149 - val_accuracy: 0.5000\n",
      "Epoch 379/500\n",
      "4/4 [==============================] - 0s 12ms/step - loss: 0.1350 - accuracy: 0.9643 - val_loss: 0.9154 - val_accuracy: 0.5000\n",
      "Epoch 380/500\n",
      "4/4 [==============================] - 0s 6ms/step - loss: 0.1395 - accuracy: 0.9643 - val_loss: 0.9092 - val_accuracy: 0.5000\n",
      "Epoch 381/500\n",
      "4/4 [==============================] - 0s 9ms/step - loss: 0.1358 - accuracy: 0.9464 - val_loss: 0.9202 - val_accuracy: 0.5000\n",
      "Epoch 382/500\n",
      "4/4 [==============================] - 0s 5ms/step - loss: 0.1381 - accuracy: 0.9643 - val_loss: 0.8899 - val_accuracy: 0.5000\n",
      "Epoch 383/500\n",
      "4/4 [==============================] - 0s 9ms/step - loss: 0.1336 - accuracy: 0.9643 - val_loss: 0.8821 - val_accuracy: 0.5000\n",
      "Epoch 384/500\n",
      "4/4 [==============================] - 0s 5ms/step - loss: 0.1326 - accuracy: 0.9643 - val_loss: 0.8886 - val_accuracy: 0.5000\n",
      "Epoch 385/500\n",
      "4/4 [==============================] - 0s 5ms/step - loss: 0.1307 - accuracy: 0.9643 - val_loss: 0.8947 - val_accuracy: 0.5000\n",
      "Epoch 386/500\n",
      "4/4 [==============================] - 0s 11ms/step - loss: 0.1345 - accuracy: 0.9464 - val_loss: 0.9017 - val_accuracy: 0.5000\n",
      "Epoch 387/500\n",
      "4/4 [==============================] - 0s 6ms/step - loss: 0.1302 - accuracy: 0.9464 - val_loss: 0.8996 - val_accuracy: 0.5000\n",
      "Epoch 388/500\n",
      "4/4 [==============================] - 0s 5ms/step - loss: 0.1326 - accuracy: 0.9643 - val_loss: 0.8971 - val_accuracy: 0.5000\n",
      "Epoch 389/500\n",
      "4/4 [==============================] - 0s 6ms/step - loss: 0.1287 - accuracy: 0.9643 - val_loss: 0.9101 - val_accuracy: 0.5000\n",
      "Epoch 390/500\n",
      "4/4 [==============================] - 0s 10ms/step - loss: 0.1277 - accuracy: 0.9643 - val_loss: 0.9121 - val_accuracy: 0.5000\n",
      "Epoch 391/500\n",
      "4/4 [==============================] - 0s 4ms/step - loss: 0.1282 - accuracy: 0.9643 - val_loss: 0.9115 - val_accuracy: 0.5000\n",
      "Epoch 392/500\n",
      "4/4 [==============================] - 0s 9ms/step - loss: 0.1270 - accuracy: 0.9821 - val_loss: 0.9195 - val_accuracy: 0.5000\n",
      "Epoch 393/500\n",
      "4/4 [==============================] - 0s 10ms/step - loss: 0.1302 - accuracy: 0.9643 - val_loss: 0.9169 - val_accuracy: 0.5000\n",
      "Epoch 394/500\n",
      "4/4 [==============================] - 0s 7ms/step - loss: 0.1290 - accuracy: 0.9643 - val_loss: 0.9179 - val_accuracy: 0.5000\n",
      "Epoch 395/500\n",
      "4/4 [==============================] - 0s 9ms/step - loss: 0.1263 - accuracy: 0.9821 - val_loss: 0.9281 - val_accuracy: 0.5000\n",
      "Epoch 396/500\n",
      "4/4 [==============================] - 0s 6ms/step - loss: 0.1251 - accuracy: 0.9643 - val_loss: 0.9330 - val_accuracy: 0.5000\n",
      "Epoch 397/500\n",
      "4/4 [==============================] - 0s 11ms/step - loss: 0.1279 - accuracy: 0.9643 - val_loss: 0.9581 - val_accuracy: 0.5000\n",
      "Epoch 398/500\n",
      "4/4 [==============================] - 0s 5ms/step - loss: 0.1245 - accuracy: 0.9821 - val_loss: 0.9628 - val_accuracy: 0.5000\n",
      "Epoch 399/500\n",
      "4/4 [==============================] - 0s 8ms/step - loss: 0.1227 - accuracy: 0.9821 - val_loss: 0.9397 - val_accuracy: 0.5000\n",
      "Epoch 400/500\n",
      "4/4 [==============================] - 0s 6ms/step - loss: 0.1269 - accuracy: 0.9643 - val_loss: 0.9314 - val_accuracy: 0.5000\n",
      "Epoch 401/500\n",
      "4/4 [==============================] - 0s 10ms/step - loss: 0.1249 - accuracy: 0.9821 - val_loss: 0.9685 - val_accuracy: 0.5000\n",
      "Epoch 402/500\n",
      "4/4 [==============================] - 0s 8ms/step - loss: 0.1258 - accuracy: 0.9821 - val_loss: 0.9748 - val_accuracy: 0.5000\n",
      "Epoch 403/500\n",
      "4/4 [==============================] - 0s 5ms/step - loss: 0.1234 - accuracy: 0.9821 - val_loss: 0.9627 - val_accuracy: 0.5000\n",
      "Epoch 404/500\n",
      "4/4 [==============================] - 0s 12ms/step - loss: 0.1214 - accuracy: 0.9821 - val_loss: 0.9515 - val_accuracy: 0.5000\n",
      "Epoch 405/500\n",
      "4/4 [==============================] - 0s 8ms/step - loss: 0.1257 - accuracy: 0.9821 - val_loss: 0.9471 - val_accuracy: 0.5000\n",
      "Epoch 406/500\n",
      "4/4 [==============================] - 0s 8ms/step - loss: 0.1212 - accuracy: 0.9821 - val_loss: 0.9759 - val_accuracy: 0.5000\n",
      "Epoch 407/500\n",
      "4/4 [==============================] - 0s 5ms/step - loss: 0.1204 - accuracy: 0.9821 - val_loss: 0.9820 - val_accuracy: 0.5000\n",
      "Epoch 408/500\n",
      "4/4 [==============================] - 0s 5ms/step - loss: 0.1225 - accuracy: 0.9821 - val_loss: 0.9986 - val_accuracy: 0.5000\n",
      "Epoch 409/500\n",
      "4/4 [==============================] - 0s 11ms/step - loss: 0.1182 - accuracy: 0.9821 - val_loss: 0.9888 - val_accuracy: 0.5000\n",
      "Epoch 410/500\n",
      "4/4 [==============================] - 0s 5ms/step - loss: 0.1164 - accuracy: 0.9821 - val_loss: 0.9709 - val_accuracy: 0.5000\n",
      "Epoch 411/500\n",
      "4/4 [==============================] - 0s 8ms/step - loss: 0.1170 - accuracy: 0.9821 - val_loss: 0.9589 - val_accuracy: 0.5000\n",
      "Epoch 412/500\n",
      "4/4 [==============================] - 0s 7ms/step - loss: 0.1184 - accuracy: 0.9821 - val_loss: 0.9507 - val_accuracy: 0.5000\n",
      "Epoch 413/500\n",
      "4/4 [==============================] - 0s 5ms/step - loss: 0.1194 - accuracy: 0.9643 - val_loss: 0.9593 - val_accuracy: 0.5000\n",
      "Epoch 414/500\n",
      "4/4 [==============================] - 0s 4ms/step - loss: 0.1146 - accuracy: 0.9821 - val_loss: 0.9807 - val_accuracy: 0.5000\n",
      "Epoch 415/500\n",
      "4/4 [==============================] - 0s 8ms/step - loss: 0.1167 - accuracy: 0.9643 - val_loss: 1.0272 - val_accuracy: 0.5000\n",
      "Epoch 416/500\n",
      "4/4 [==============================] - 0s 6ms/step - loss: 0.1200 - accuracy: 0.9464 - val_loss: 1.0183 - val_accuracy: 0.5000\n",
      "Epoch 417/500\n",
      "4/4 [==============================] - 0s 10ms/step - loss: 0.1187 - accuracy: 0.9643 - val_loss: 0.9951 - val_accuracy: 0.5000\n",
      "Epoch 418/500\n",
      "4/4 [==============================] - 0s 5ms/step - loss: 0.1196 - accuracy: 1.0000 - val_loss: 0.9888 - val_accuracy: 0.5000\n",
      "Epoch 419/500\n",
      "4/4 [==============================] - 0s 10ms/step - loss: 0.1164 - accuracy: 1.0000 - val_loss: 0.9895 - val_accuracy: 0.5000\n",
      "Epoch 420/500\n",
      "4/4 [==============================] - 0s 5ms/step - loss: 0.1131 - accuracy: 0.9821 - val_loss: 0.9980 - val_accuracy: 0.5000\n",
      "Epoch 421/500\n",
      "4/4 [==============================] - 0s 10ms/step - loss: 0.1147 - accuracy: 0.9821 - val_loss: 0.9878 - val_accuracy: 0.5000\n",
      "Epoch 422/500\n",
      "4/4 [==============================] - 0s 6ms/step - loss: 0.1146 - accuracy: 0.9821 - val_loss: 0.9801 - val_accuracy: 0.5000\n",
      "Epoch 423/500\n",
      "4/4 [==============================] - 0s 11ms/step - loss: 0.1136 - accuracy: 0.9821 - val_loss: 0.9720 - val_accuracy: 0.5000\n",
      "Epoch 424/500\n",
      "4/4 [==============================] - 0s 8ms/step - loss: 0.1115 - accuracy: 0.9821 - val_loss: 0.9655 - val_accuracy: 0.5000\n",
      "Epoch 425/500\n",
      "4/4 [==============================] - 0s 8ms/step - loss: 0.1112 - accuracy: 0.9821 - val_loss: 0.9707 - val_accuracy: 0.5000\n",
      "Epoch 426/500\n",
      "4/4 [==============================] - 0s 8ms/step - loss: 0.1105 - accuracy: 0.9821 - val_loss: 0.9797 - val_accuracy: 0.5000\n",
      "Epoch 427/500\n",
      "4/4 [==============================] - 0s 5ms/step - loss: 0.1097 - accuracy: 0.9821 - val_loss: 0.9895 - val_accuracy: 0.5000\n",
      "Epoch 428/500\n",
      "4/4 [==============================] - 0s 11ms/step - loss: 0.1090 - accuracy: 0.9821 - val_loss: 1.0033 - val_accuracy: 0.5000\n",
      "Epoch 429/500\n",
      "4/4 [==============================] - 0s 6ms/step - loss: 0.1092 - accuracy: 0.9821 - val_loss: 1.0097 - val_accuracy: 0.5000\n",
      "Epoch 430/500\n",
      "4/4 [==============================] - 0s 7ms/step - loss: 0.1081 - accuracy: 0.9821 - val_loss: 1.0106 - val_accuracy: 0.5000\n",
      "Epoch 431/500\n",
      "4/4 [==============================] - 0s 10ms/step - loss: 0.1140 - accuracy: 1.0000 - val_loss: 0.9885 - val_accuracy: 0.5000\n",
      "Epoch 432/500\n",
      "4/4 [==============================] - 0s 5ms/step - loss: 0.1106 - accuracy: 1.0000 - val_loss: 1.0042 - val_accuracy: 0.5000\n",
      "Epoch 433/500\n",
      "4/4 [==============================] - 0s 8ms/step - loss: 0.1063 - accuracy: 0.9821 - val_loss: 1.0236 - val_accuracy: 0.5000\n",
      "Epoch 434/500\n",
      "4/4 [==============================] - 0s 11ms/step - loss: 0.1061 - accuracy: 0.9821 - val_loss: 1.0340 - val_accuracy: 0.5000\n",
      "Epoch 435/500\n",
      "4/4 [==============================] - 0s 7ms/step - loss: 0.1081 - accuracy: 0.9821 - val_loss: 1.0482 - val_accuracy: 0.5000\n",
      "Epoch 436/500\n",
      "4/4 [==============================] - 0s 11ms/step - loss: 0.1083 - accuracy: 0.9821 - val_loss: 1.0201 - val_accuracy: 0.5000\n",
      "Epoch 437/500\n",
      "4/4 [==============================] - 0s 8ms/step - loss: 0.1074 - accuracy: 0.9821 - val_loss: 1.0173 - val_accuracy: 0.5000\n",
      "Epoch 438/500\n",
      "4/4 [==============================] - 0s 5ms/step - loss: 0.1091 - accuracy: 0.9821 - val_loss: 1.0374 - val_accuracy: 0.5000\n",
      "Epoch 439/500\n",
      "4/4 [==============================] - 0s 8ms/step - loss: 0.1056 - accuracy: 0.9821 - val_loss: 1.0374 - val_accuracy: 0.5000\n",
      "Epoch 440/500\n",
      "4/4 [==============================] - 0s 7ms/step - loss: 0.1044 - accuracy: 0.9821 - val_loss: 1.0386 - val_accuracy: 0.5000\n",
      "Epoch 441/500\n",
      "4/4 [==============================] - 0s 10ms/step - loss: 0.1043 - accuracy: 0.9821 - val_loss: 1.0484 - val_accuracy: 0.5000\n",
      "Epoch 442/500\n",
      "4/4 [==============================] - 0s 5ms/step - loss: 0.1036 - accuracy: 0.9821 - val_loss: 1.0345 - val_accuracy: 0.5000\n",
      "Epoch 443/500\n",
      "4/4 [==============================] - 0s 5ms/step - loss: 0.1054 - accuracy: 0.9821 - val_loss: 1.0379 - val_accuracy: 0.5000\n",
      "Epoch 444/500\n",
      "4/4 [==============================] - 0s 10ms/step - loss: 0.1019 - accuracy: 0.9821 - val_loss: 1.0316 - val_accuracy: 0.5000\n",
      "Epoch 445/500\n",
      "4/4 [==============================] - 0s 9ms/step - loss: 0.1040 - accuracy: 1.0000 - val_loss: 1.0294 - val_accuracy: 0.5000\n",
      "Epoch 446/500\n",
      "4/4 [==============================] - 0s 5ms/step - loss: 0.1033 - accuracy: 1.0000 - val_loss: 1.0661 - val_accuracy: 0.5000\n",
      "Epoch 447/500\n",
      "4/4 [==============================] - 0s 10ms/step - loss: 0.1006 - accuracy: 0.9821 - val_loss: 1.0847 - val_accuracy: 0.5000\n",
      "Epoch 448/500\n",
      "4/4 [==============================] - 0s 5ms/step - loss: 0.1024 - accuracy: 0.9821 - val_loss: 1.0897 - val_accuracy: 0.5000\n",
      "Epoch 449/500\n",
      "4/4 [==============================] - 0s 9ms/step - loss: 0.1007 - accuracy: 0.9821 - val_loss: 1.0894 - val_accuracy: 0.5000\n",
      "Epoch 450/500\n",
      "4/4 [==============================] - 0s 10ms/step - loss: 0.1004 - accuracy: 0.9821 - val_loss: 1.0874 - val_accuracy: 0.5000\n",
      "Epoch 451/500\n",
      "4/4 [==============================] - 0s 10ms/step - loss: 0.0998 - accuracy: 0.9821 - val_loss: 1.0894 - val_accuracy: 0.5000\n",
      "Epoch 452/500\n",
      "4/4 [==============================] - 0s 5ms/step - loss: 0.1011 - accuracy: 0.9821 - val_loss: 1.0699 - val_accuracy: 0.5000\n",
      "Epoch 453/500\n",
      "4/4 [==============================] - 0s 11ms/step - loss: 0.1031 - accuracy: 1.0000 - val_loss: 1.0871 - val_accuracy: 0.5000\n",
      "Epoch 454/500\n",
      "4/4 [==============================] - 0s 8ms/step - loss: 0.1001 - accuracy: 0.9821 - val_loss: 1.0877 - val_accuracy: 0.5000\n",
      "Epoch 455/500\n",
      "4/4 [==============================] - 0s 7ms/step - loss: 0.0980 - accuracy: 0.9821 - val_loss: 1.0761 - val_accuracy: 0.5000\n",
      "Epoch 456/500\n",
      "4/4 [==============================] - 0s 9ms/step - loss: 0.0984 - accuracy: 1.0000 - val_loss: 1.0624 - val_accuracy: 0.5000\n",
      "Epoch 457/500\n",
      "4/4 [==============================] - 0s 6ms/step - loss: 0.0982 - accuracy: 1.0000 - val_loss: 1.0825 - val_accuracy: 0.5000\n",
      "Epoch 458/500\n",
      "4/4 [==============================] - 0s 10ms/step - loss: 0.0988 - accuracy: 0.9821 - val_loss: 1.1019 - val_accuracy: 0.5000\n",
      "Epoch 459/500\n",
      "4/4 [==============================] - 0s 11ms/step - loss: 0.0979 - accuracy: 0.9821 - val_loss: 1.1067 - val_accuracy: 0.5000\n",
      "Epoch 460/500\n",
      "4/4 [==============================] - 0s 12ms/step - loss: 0.0984 - accuracy: 1.0000 - val_loss: 1.1012 - val_accuracy: 0.5000\n",
      "Epoch 461/500\n",
      "4/4 [==============================] - 0s 9ms/step - loss: 0.0967 - accuracy: 1.0000 - val_loss: 1.1077 - val_accuracy: 0.5000\n",
      "Epoch 462/500\n",
      "4/4 [==============================] - 0s 5ms/step - loss: 0.0968 - accuracy: 1.0000 - val_loss: 1.1048 - val_accuracy: 0.5000\n",
      "Epoch 463/500\n",
      "4/4 [==============================] - 0s 5ms/step - loss: 0.0962 - accuracy: 0.9821 - val_loss: 1.0991 - val_accuracy: 0.5000\n",
      "Epoch 464/500\n",
      "4/4 [==============================] - 0s 10ms/step - loss: 0.0959 - accuracy: 1.0000 - val_loss: 1.0965 - val_accuracy: 0.5000\n",
      "Epoch 465/500\n",
      "4/4 [==============================] - 0s 7ms/step - loss: 0.0973 - accuracy: 0.9821 - val_loss: 1.0973 - val_accuracy: 0.5000\n",
      "Epoch 466/500\n",
      "4/4 [==============================] - 0s 10ms/step - loss: 0.0925 - accuracy: 1.0000 - val_loss: 1.0856 - val_accuracy: 0.5000\n",
      "Epoch 467/500\n",
      "4/4 [==============================] - 0s 5ms/step - loss: 0.1002 - accuracy: 1.0000 - val_loss: 1.0878 - val_accuracy: 0.5000\n",
      "Epoch 468/500\n",
      "4/4 [==============================] - 0s 11ms/step - loss: 0.0962 - accuracy: 1.0000 - val_loss: 1.1098 - val_accuracy: 0.5000\n",
      "Epoch 469/500\n",
      "4/4 [==============================] - 0s 5ms/step - loss: 0.0948 - accuracy: 1.0000 - val_loss: 1.1360 - val_accuracy: 0.5000\n",
      "Epoch 470/500\n",
      "4/4 [==============================] - 0s 4ms/step - loss: 0.0926 - accuracy: 0.9821 - val_loss: 1.1342 - val_accuracy: 0.5000\n",
      "Epoch 471/500\n",
      "4/4 [==============================] - 0s 12ms/step - loss: 0.0951 - accuracy: 1.0000 - val_loss: 1.1106 - val_accuracy: 0.5000\n",
      "Epoch 472/500\n",
      "4/4 [==============================] - 0s 9ms/step - loss: 0.0920 - accuracy: 1.0000 - val_loss: 1.1225 - val_accuracy: 0.5000\n",
      "Epoch 473/500\n",
      "4/4 [==============================] - 0s 5ms/step - loss: 0.0908 - accuracy: 1.0000 - val_loss: 1.1259 - val_accuracy: 0.5000\n",
      "Epoch 474/500\n",
      "4/4 [==============================] - 0s 7ms/step - loss: 0.0903 - accuracy: 1.0000 - val_loss: 1.1312 - val_accuracy: 0.5000\n",
      "Epoch 475/500\n",
      "4/4 [==============================] - 0s 3ms/step - loss: 0.0909 - accuracy: 1.0000 - val_loss: 1.1264 - val_accuracy: 0.5000\n",
      "Epoch 476/500\n",
      "4/4 [==============================] - 0s 8ms/step - loss: 0.0912 - accuracy: 1.0000 - val_loss: 1.1447 - val_accuracy: 0.5000\n",
      "Epoch 477/500\n",
      "4/4 [==============================] - 0s 7ms/step - loss: 0.0938 - accuracy: 1.0000 - val_loss: 1.1867 - val_accuracy: 0.5000\n",
      "Epoch 478/500\n",
      "4/4 [==============================] - 0s 7ms/step - loss: 0.0922 - accuracy: 0.9821 - val_loss: 1.1859 - val_accuracy: 0.5000\n",
      "Epoch 479/500\n",
      "4/4 [==============================] - 0s 5ms/step - loss: 0.0904 - accuracy: 1.0000 - val_loss: 1.1505 - val_accuracy: 0.5000\n",
      "Epoch 480/500\n",
      "4/4 [==============================] - 0s 9ms/step - loss: 0.0955 - accuracy: 1.0000 - val_loss: 1.1537 - val_accuracy: 0.5000\n",
      "Epoch 481/500\n",
      "4/4 [==============================] - 0s 8ms/step - loss: 0.0912 - accuracy: 1.0000 - val_loss: 1.1781 - val_accuracy: 0.5000\n",
      "Epoch 482/500\n",
      "4/4 [==============================] - 0s 7ms/step - loss: 0.0889 - accuracy: 1.0000 - val_loss: 1.1840 - val_accuracy: 0.5000\n",
      "Epoch 483/500\n",
      "4/4 [==============================] - 0s 9ms/step - loss: 0.0895 - accuracy: 1.0000 - val_loss: 1.2098 - val_accuracy: 0.5000\n",
      "Epoch 484/500\n",
      "4/4 [==============================] - 0s 7ms/step - loss: 0.0884 - accuracy: 1.0000 - val_loss: 1.2163 - val_accuracy: 0.5000\n",
      "Epoch 485/500\n",
      "4/4 [==============================] - 0s 10ms/step - loss: 0.0883 - accuracy: 1.0000 - val_loss: 1.2257 - val_accuracy: 0.5000\n",
      "Epoch 486/500\n",
      "4/4 [==============================] - 0s 7ms/step - loss: 0.0882 - accuracy: 1.0000 - val_loss: 1.2130 - val_accuracy: 0.5000\n",
      "Epoch 487/500\n",
      "4/4 [==============================] - 0s 9ms/step - loss: 0.0861 - accuracy: 1.0000 - val_loss: 1.1965 - val_accuracy: 0.5000\n",
      "Epoch 488/500\n",
      "4/4 [==============================] - 0s 10ms/step - loss: 0.0859 - accuracy: 1.0000 - val_loss: 1.1841 - val_accuracy: 0.5000\n",
      "Epoch 489/500\n",
      "4/4 [==============================] - 0s 7ms/step - loss: 0.0855 - accuracy: 1.0000 - val_loss: 1.1823 - val_accuracy: 0.5000\n",
      "Epoch 490/500\n",
      "4/4 [==============================] - 0s 8ms/step - loss: 0.0855 - accuracy: 1.0000 - val_loss: 1.1812 - val_accuracy: 0.5000\n",
      "Epoch 491/500\n",
      "4/4 [==============================] - 0s 11ms/step - loss: 0.0848 - accuracy: 1.0000 - val_loss: 1.1789 - val_accuracy: 0.5000\n",
      "Epoch 492/500\n",
      "4/4 [==============================] - 0s 8ms/step - loss: 0.0851 - accuracy: 1.0000 - val_loss: 1.1706 - val_accuracy: 0.5000\n",
      "Epoch 493/500\n",
      "4/4 [==============================] - 0s 9ms/step - loss: 0.0841 - accuracy: 1.0000 - val_loss: 1.1631 - val_accuracy: 0.5000\n",
      "Epoch 494/500\n",
      "4/4 [==============================] - 0s 5ms/step - loss: 0.0860 - accuracy: 1.0000 - val_loss: 1.1586 - val_accuracy: 0.5000\n",
      "Epoch 495/500\n",
      "4/4 [==============================] - 0s 13ms/step - loss: 0.0827 - accuracy: 1.0000 - val_loss: 1.1729 - val_accuracy: 0.5000\n",
      "Epoch 496/500\n",
      "4/4 [==============================] - 0s 9ms/step - loss: 0.0830 - accuracy: 1.0000 - val_loss: 1.2142 - val_accuracy: 0.5000\n",
      "Epoch 497/500\n",
      "4/4 [==============================] - 0s 7ms/step - loss: 0.0848 - accuracy: 1.0000 - val_loss: 1.2423 - val_accuracy: 0.5000\n",
      "Epoch 498/500\n",
      "4/4 [==============================] - 0s 5ms/step - loss: 0.0826 - accuracy: 1.0000 - val_loss: 1.2497 - val_accuracy: 0.5000\n",
      "Epoch 499/500\n",
      "4/4 [==============================] - 0s 7ms/step - loss: 0.0834 - accuracy: 1.0000 - val_loss: 1.2404 - val_accuracy: 0.5000\n",
      "Epoch 500/500\n",
      "4/4 [==============================] - 0s 7ms/step - loss: 0.0820 - accuracy: 1.0000 - val_loss: 1.2384 - val_accuracy: 0.5000\n"
     ]
    }
   ],
   "source": [
    "# Training model\n",
    "history = model.fit(\n",
    "    X_train, y_train,\n",
    "    validation_split=0.2,\n",
    "    epochs=500,\n",
    "    batch_size=16,\n",
    "    verbose=1\n",
    ")"
   ]
  },
  {
   "cell_type": "code",
   "execution_count": 434,
   "id": "fbb11e9c",
   "metadata": {},
   "outputs": [
    {
     "name": "stdout",
     "output_type": "stream",
     "text": [
      "1/1 [==============================] - 0s 17ms/step - loss: 1.5032 - accuracy: 0.6333\n",
      "Test loss: 1.5032, Accuracy: 0.6333\n",
      "1/1 [==============================] - 0s 38ms/step\n",
      "Classification Report:\n",
      "               precision    recall  f1-score   support\n",
      "\n",
      "           0       0.67      0.71      0.69        17\n",
      "           1       0.58      0.54      0.56        13\n",
      "\n",
      "    accuracy                           0.63        30\n",
      "   macro avg       0.62      0.62      0.62        30\n",
      "weighted avg       0.63      0.63      0.63        30\n",
      "\n",
      "Confusion Matrix:\n",
      "\n"
     ]
    },
    {
     "data": {
      "image/png": "[encoded data removed]",
      "text/plain": [
       "<Figure size 640x480 with 2 Axes>"
      ]
     },
     "metadata": {},
     "output_type": "display_data"
    }
   ],
   "source": [
    "# Evaluate on test data\n",
    "loss, accuracy = model.evaluate(X_test, y_test)\n",
    "print(f\"Test loss: {loss:.4f}, Accuracy: {accuracy:.4f}\")\n",
    "\n",
    "# Converting probabilities to binary \n",
    "y_pred = model.predict(X_test)\n",
    "y_pred = tf.squeeze(y_pred)\n",
    "y_pred = np.array([1 if x >= 0.5 else 0 for x in y_pred])\n",
    "\n",
    "# Printing classification report\n",
    "print(\"Classification Report:\\n\",classification_report(y_test, y_pred) )\n",
    "\n",
    "# Visualising confusion matrix\n",
    "print(\"Confusion Matrix:\\n\")\n",
    "cm = confusion_matrix(y_test, y_pred)\n",
    "cm_display = ConfusionMatrixDisplay(cm)\n",
    "cm_display.plot()\n",
    "plt.show()"
   ]
  },
  {
   "cell_type": "code",
   "execution_count": 435,
   "id": "b6043201",
   "metadata": {},
   "outputs": [
    {
     "data": {
      "image/png": "[encoded data removed]",
      "text/plain": [
       "<Figure size 640x480 with 1 Axes>"
      ]
     },
     "metadata": {},
     "output_type": "display_data"
    }
   ],
   "source": [
    "# Visualise training history\n",
    "plt.plot(history.history['loss'], label='Train Loss')\n",
    "plt.plot(history.history['val_loss'], label='Val Loss')\n",
    "plt.title('Training and Validation Loss')\n",
    "plt.xlabel('Epoch')\n",
    "plt.ylabel('Binary Cross Entropy Loss')\n",
    "plt.legend()\n",
    "plt.grid(True)\n",
    "plt.show()"
   ]
  },
  {
   "cell_type": "markdown",
   "id": "6468d306",
   "metadata": {},
   "source": [
    "### Insights and Recommendations\n",
    "Key factors contibuting to Employee performance:  \n",
    "- **Department:** Engineering department has the highest mean and median performance score while HR department has the lowest.  \n",
    "- **Salary:** Employee having high salary tends to perform better and vice versa.\n",
    "- **Years At Company:** Employee with more tenure with the company often performs better.\n",
    "- **Age:** It shows positive correlation with the performance.  "
   ]
  },
  {
   "cell_type": "markdown",
   "id": "2cfd01b2",
   "metadata": {},
   "source": [
    "High Risk groups for Attrition:  \n",
    "- Employees in Engineering and Sales departments shows higher attrition.  \n",
    "- High performance scores are assosicaited with higher attrition risk.  \n",
    "- Attrition is highest in employees with either 2 years of service or 20 years of service.  "
   ]
  },
  {
   "cell_type": "markdown",
   "id": "74c3bf9c",
   "metadata": {},
   "source": [
    "Department-Wise Performance Improvement Plans"
   ]
  },
  {
   "cell_type": "markdown",
   "id": "43f5c218",
   "metadata": {},
   "source": [
    "| Department  | Avg. Score | Strategy                                                |\n",
    "| ----------- | ---------- | ------------------------------------------------------- |\n",
    "| HR       | Low        | Mentorship and goal-setting programs                    |\n",
    "| Marketing          | Medium     | Introduce skill-based training and rotation             |\n",
    "| Engineering | High       | Incentivize performance through recognition and bonuses |\n"
   ]
  },
  {
   "cell_type": "markdown",
   "id": "e675e85c",
   "metadata": {},
   "source": [
    "Targeted Employee Engagement Programs\n",
    "1. For High-Attrition Groups:\n",
    "- Launch early-career development tracks for younger employees.\n",
    "- Provide flexible schedules or hybrid options for low-satisfaction teams.\n",
    "- Use feedback surveys to identify underlying dissatisfaction drivers.\n",
    "\n",
    "2. For Low Performance Departments:\n",
    "- Introduce performance-based bonus incentives.\n",
    "- Run cross-functional training workshops.\n",
    "- Encourage peer-learning through team-led hackathons or demo days."
   ]
  },
  {
   "cell_type": "markdown",
   "id": "6d711950",
   "metadata": {},
   "source": [
    "### Data Visualization and Reporting"
   ]
  },
  {
   "cell_type": "code",
   "execution_count": 12,
   "id": "6ca4a601",
   "metadata": {},
   "outputs": [
    {
     "data": {
      "application/vnd.plotly.v1+json": {
       "config": {
        "plotlyServerURL": "https://plot.ly"
       },
       "data": [
        {
         "hovertemplate": "YearsAtCompany=%{x}<br>PerformanceScore=%{y}<extra></extra>",
         "legendgroup": "",
         "line": {
          "color": "#636efa",
          "dash": "solid"
         },
         "marker": {
          "symbol": "circle"
         },
         "mode": "lines+markers",
         "name": "",
         "orientation": "v",
         "showlegend": false,
         "type": "scatter",
         "x": {
          "bdata": "AQIDBAUGBwgJCgsMDQ4PEBESExQVFhk=",
          "dtype": "i1"
         },
         "xaxis": "x",
         "y": {
          "bdata": "VVVVVVXVUUBVVVVVVRVTQKuqqqqqqlNAAAAAAACAVEAAAAAAAGBUQJqZmZmZmVRAAAAAAABQVUCrqqqqqipWQAAAAAAA8FRAVVVVVVV1VkAAAAAAAMBVQFVVVVVVlVZAAAAAAABAV0AAAAAAAJBVQAAAAAAAgFZAZmZmZmYmVkAAAAAAAPBVQAAAAAAAgFVAAAAAAAAAVkCrqqqqqipWQAAAAAAAgFVAAAAAAACgVEAAAAAAAIBTQA==",
          "dtype": "f8"
         },
         "yaxis": "y"
        }
       ],
       "layout": {
        "legend": {
         "tracegroupgap": 0
        },
        "template": {
         "data": {
          "bar": [
           {
            "error_x": {
             "color": "#2a3f5f"
            },
            "error_y": {
             "color": "#2a3f5f"
            },
            "marker": {
             "line": {
              "color": "#E5ECF6",
              "width": 0.5
             },
             "pattern": {
              "fillmode": "overlay",
              "size": 10,
              "solidity": 0.2
             }
            },
            "type": "bar"
           }
          ],
          "barpolar": [
           {
            "marker": {
             "line": {
              "color": "#E5ECF6",
              "width": 0.5
             },
             "pattern": {
              "fillmode": "overlay",
              "size": 10,
              "solidity": 0.2
             }
            },
            "type": "barpolar"
           }
          ],
          "carpet": [
           {
            "aaxis": {
             "endlinecolor": "#2a3f5f",
             "gridcolor": "white",
             "linecolor": "white",
             "minorgridcolor": "white",
             "startlinecolor": "#2a3f5f"
            },
            "baxis": {
             "endlinecolor": "#2a3f5f",
             "gridcolor": "white",
             "linecolor": "white",
             "minorgridcolor": "white",
             "startlinecolor": "#2a3f5f"
            },
            "type": "carpet"
           }
          ],
          "choropleth": [
           {
            "colorbar": {
             "outlinewidth": 0,
             "ticks": ""
            },
            "type": "choropleth"
           }
          ],
          "contour": [
           {
            "colorbar": {
             "outlinewidth": 0,
             "ticks": ""
            },
            "colorscale": [
             [
              0,
              "#0d0887"
             ],
             [
              0.1111111111111111,
              "#46039f"
             ],
             [
              0.2222222222222222,
              "#7201a8"
             ],
             [
              0.3333333333333333,
              "#9c179e"
             ],
             [
              0.4444444444444444,
              "#bd3786"
             ],
             [
              0.5555555555555556,
              "#d8576b"
             ],
             [
              0.6666666666666666,
              "#ed7953"
             ],
             [
              0.7777777777777778,
              "#fb9f3a"
             ],
             [
              0.8888888888888888,
              "#fdca26"
             ],
             [
              1,
              "#f0f921"
             ]
            ],
            "type": "contour"
           }
          ],
          "contourcarpet": [
           {
            "colorbar": {
             "outlinewidth": 0,
             "ticks": ""
            },
            "type": "contourcarpet"
           }
          ],
          "heatmap": [
           {
            "colorbar": {
             "outlinewidth": 0,
             "ticks": ""
            },
            "colorscale": [
             [
              0,
              "#0d0887"
             ],
             [
              0.1111111111111111,
              "#46039f"
             ],
             [
              0.2222222222222222,
              "#7201a8"
             ],
             [
              0.3333333333333333,
              "#9c179e"
             ],
             [
              0.4444444444444444,
              "#bd3786"
             ],
             [
              0.5555555555555556,
              "#d8576b"
             ],
             [
              0.6666666666666666,
              "#ed7953"
             ],
             [
              0.7777777777777778,
              "#fb9f3a"
             ],
             [
              0.8888888888888888,
              "#fdca26"
             ],
             [
              1,
              "#f0f921"
             ]
            ],
            "type": "heatmap"
           }
          ],
          "histogram": [
           {
            "marker": {
             "pattern": {
              "fillmode": "overlay",
              "size": 10,
              "solidity": 0.2
             }
            },
            "type": "histogram"
           }
          ],
          "histogram2d": [
           {
            "colorbar": {
             "outlinewidth": 0,
             "ticks": ""
            },
            "colorscale": [
             [
              0,
              "#0d0887"
             ],
             [
              0.1111111111111111,
              "#46039f"
             ],
             [
              0.2222222222222222,
              "#7201a8"
             ],
             [
              0.3333333333333333,
              "#9c179e"
             ],
             [
              0.4444444444444444,
              "#bd3786"
             ],
             [
              0.5555555555555556,
              "#d8576b"
             ],
             [
              0.6666666666666666,
              "#ed7953"
             ],
             [
              0.7777777777777778,
              "#fb9f3a"
             ],
             [
              0.8888888888888888,
              "#fdca26"
             ],
             [
              1,
              "#f0f921"
             ]
            ],
            "type": "histogram2d"
           }
          ],
          "histogram2dcontour": [
           {
            "colorbar": {
             "outlinewidth": 0,
             "ticks": ""
            },
            "colorscale": [
             [
              0,
              "#0d0887"
             ],
             [
              0.1111111111111111,
              "#46039f"
             ],
             [
              0.2222222222222222,
              "#7201a8"
             ],
             [
              0.3333333333333333,
              "#9c179e"
             ],
             [
              0.4444444444444444,
              "#bd3786"
             ],
             [
              0.5555555555555556,
              "#d8576b"
             ],
             [
              0.6666666666666666,
              "#ed7953"
             ],
             [
              0.7777777777777778,
              "#fb9f3a"
             ],
             [
              0.8888888888888888,
              "#fdca26"
             ],
             [
              1,
              "#f0f921"
             ]
            ],
            "type": "histogram2dcontour"
           }
          ],
          "mesh3d": [
           {
            "colorbar": {
             "outlinewidth": 0,
             "ticks": ""
            },
            "type": "mesh3d"
           }
          ],
          "parcoords": [
           {
            "line": {
             "colorbar": {
              "outlinewidth": 0,
              "ticks": ""
             }
            },
            "type": "parcoords"
           }
          ],
          "pie": [
           {
            "automargin": true,
            "type": "pie"
           }
          ],
          "scatter": [
           {
            "fillpattern": {
             "fillmode": "overlay",
             "size": 10,
             "solidity": 0.2
            },
            "type": "scatter"
           }
          ],
          "scatter3d": [
           {
            "line": {
             "colorbar": {
              "outlinewidth": 0,
              "ticks": ""
             }
            },
            "marker": {
             "colorbar": {
              "outlinewidth": 0,
              "ticks": ""
             }
            },
            "type": "scatter3d"
           }
          ],
          "scattercarpet": [
           {
            "marker": {
             "colorbar": {
              "outlinewidth": 0,
              "ticks": ""
             }
            },
            "type": "scattercarpet"
           }
          ],
          "scattergeo": [
           {
            "marker": {
             "colorbar": {
              "outlinewidth": 0,
              "ticks": ""
             }
            },
            "type": "scattergeo"
           }
          ],
          "scattergl": [
           {
            "marker": {
             "colorbar": {
              "outlinewidth": 0,
              "ticks": ""
             }
            },
            "type": "scattergl"
           }
          ],
          "scattermap": [
           {
            "marker": {
             "colorbar": {
              "outlinewidth": 0,
              "ticks": ""
             }
            },
            "type": "scattermap"
           }
          ],
          "scattermapbox": [
           {
            "marker": {
             "colorbar": {
              "outlinewidth": 0,
              "ticks": ""
             }
            },
            "type": "scattermapbox"
           }
          ],
          "scatterpolar": [
           {
            "marker": {
             "colorbar": {
              "outlinewidth": 0,
              "ticks": ""
             }
            },
            "type": "scatterpolar"
           }
          ],
          "scatterpolargl": [
           {
            "marker": {
             "colorbar": {
              "outlinewidth": 0,
              "ticks": ""
             }
            },
            "type": "scatterpolargl"
           }
          ],
          "scatterternary": [
           {
            "marker": {
             "colorbar": {
              "outlinewidth": 0,
              "ticks": ""
             }
            },
            "type": "scatterternary"
           }
          ],
          "surface": [
           {
            "colorbar": {
             "outlinewidth": 0,
             "ticks": ""
            },
            "colorscale": [
             [
              0,
              "#0d0887"
             ],
             [
              0.1111111111111111,
              "#46039f"
             ],
             [
              0.2222222222222222,
              "#7201a8"
             ],
             [
              0.3333333333333333,
              "#9c179e"
             ],
             [
              0.4444444444444444,
              "#bd3786"
             ],
             [
              0.5555555555555556,
              "#d8576b"
             ],
             [
              0.6666666666666666,
              "#ed7953"
             ],
             [
              0.7777777777777778,
              "#fb9f3a"
             ],
             [
              0.8888888888888888,
              "#fdca26"
             ],
             [
              1,
              "#f0f921"
             ]
            ],
            "type": "surface"
           }
          ],
          "table": [
           {
            "cells": {
             "fill": {
              "color": "#EBF0F8"
             },
             "line": {
              "color": "white"
             }
            },
            "header": {
             "fill": {
              "color": "#C8D4E3"
             },
             "line": {
              "color": "white"
             }
            },
            "type": "table"
           }
          ]
         },
         "layout": {
          "annotationdefaults": {
           "arrowcolor": "#2a3f5f",
           "arrowhead": 0,
           "arrowwidth": 1
          },
          "autotypenumbers": "strict",
          "coloraxis": {
           "colorbar": {
            "outlinewidth": 0,
            "ticks": ""
           }
          },
          "colorscale": {
           "diverging": [
            [
             0,
             "#8e0152"
            ],
            [
             0.1,
             "#c51b7d"
            ],
            [
             0.2,
             "#de77ae"
            ],
            [
             0.3,
             "#f1b6da"
            ],
            [
             0.4,
             "#fde0ef"
            ],
            [
             0.5,
             "#f7f7f7"
            ],
            [
             0.6,
             "#e6f5d0"
            ],
            [
             0.7,
             "#b8e186"
            ],
            [
             0.8,
             "#7fbc41"
            ],
            [
             0.9,
             "#4d9221"
            ],
            [
             1,
             "#276419"
            ]
           ],
           "sequential": [
            [
             0,
             "#0d0887"
            ],
            [
             0.1111111111111111,
             "#46039f"
            ],
            [
             0.2222222222222222,
             "#7201a8"
            ],
            [
             0.3333333333333333,
             "#9c179e"
            ],
            [
             0.4444444444444444,
             "#bd3786"
            ],
            [
             0.5555555555555556,
             "#d8576b"
            ],
            [
             0.6666666666666666,
             "#ed7953"
            ],
            [
             0.7777777777777778,
             "#fb9f3a"
            ],
            [
             0.8888888888888888,
             "#fdca26"
            ],
            [
             1,
             "#f0f921"
            ]
           ],
           "sequentialminus": [
            [
             0,
             "#0d0887"
            ],
            [
             0.1111111111111111,
             "#46039f"
            ],
            [
             0.2222222222222222,
             "#7201a8"
            ],
            [
             0.3333333333333333,
             "#9c179e"
            ],
            [
             0.4444444444444444,
             "#bd3786"
            ],
            [
             0.5555555555555556,
             "#d8576b"
            ],
            [
             0.6666666666666666,
             "#ed7953"
            ],
            [
             0.7777777777777778,
             "#fb9f3a"
            ],
            [
             0.8888888888888888,
             "#fdca26"
            ],
            [
             1,
             "#f0f921"
            ]
           ]
          },
          "colorway": [
           "#636efa",
           "#EF553B",
           "#00cc96",
           "#ab63fa",
           "#FFA15A",
           "#19d3f3",
           "#FF6692",
           "#B6E880",
           "#FF97FF",
           "#FECB52"
          ],
          "font": {
           "color": "#2a3f5f"
          },
          "geo": {
           "bgcolor": "white",
           "lakecolor": "white",
           "landcolor": "#E5ECF6",
           "showlakes": true,
           "showland": true,
           "subunitcolor": "white"
          },
          "hoverlabel": {
           "align": "left"
          },
          "hovermode": "closest",
          "mapbox": {
           "style": "light"
          },
          "paper_bgcolor": "white",
          "plot_bgcolor": "#E5ECF6",
          "polar": {
           "angularaxis": {
            "gridcolor": "white",
            "linecolor": "white",
            "ticks": ""
           },
           "bgcolor": "#E5ECF6",
           "radialaxis": {
            "gridcolor": "white",
            "linecolor": "white",
            "ticks": ""
           }
          },
          "scene": {
           "xaxis": {
            "backgroundcolor": "#E5ECF6",
            "gridcolor": "white",
            "gridwidth": 2,
            "linecolor": "white",
            "showbackground": true,
            "ticks": "",
            "zerolinecolor": "white"
           },
           "yaxis": {
            "backgroundcolor": "#E5ECF6",
            "gridcolor": "white",
            "gridwidth": 2,
            "linecolor": "white",
            "showbackground": true,
            "ticks": "",
            "zerolinecolor": "white"
           },
           "zaxis": {
            "backgroundcolor": "#E5ECF6",
            "gridcolor": "white",
            "gridwidth": 2,
            "linecolor": "white",
            "showbackground": true,
            "ticks": "",
            "zerolinecolor": "white"
           }
          },
          "shapedefaults": {
           "line": {
            "color": "#2a3f5f"
           }
          },
          "ternary": {
           "aaxis": {
            "gridcolor": "white",
            "linecolor": "white",
            "ticks": ""
           },
           "baxis": {
            "gridcolor": "white",
            "linecolor": "white",
            "ticks": ""
           },
           "bgcolor": "#E5ECF6",
           "caxis": {
            "gridcolor": "white",
            "linecolor": "white",
            "ticks": ""
           }
          },
          "title": {
           "x": 0.05
          },
          "xaxis": {
           "automargin": true,
           "gridcolor": "white",
           "linecolor": "white",
           "ticks": "",
           "title": {
            "standoff": 15
           },
           "zerolinecolor": "white",
           "zerolinewidth": 2
          },
          "yaxis": {
           "automargin": true,
           "gridcolor": "white",
           "linecolor": "white",
           "ticks": "",
           "title": {
            "standoff": 15
           },
           "zerolinecolor": "white",
           "zerolinewidth": 2
          }
         }
        },
        "title": {
         "text": "Average Performance Score Over Time"
        },
        "xaxis": {
         "anchor": "y",
         "domain": [
          0,
          1
         ],
         "title": {
          "text": "YearsAtCompany"
         }
        },
        "yaxis": {
         "anchor": "x",
         "domain": [
          0,
          1
         ],
         "title": {
          "text": "PerformanceScore"
         }
        }
       }
      }
     },
     "metadata": {},
     "output_type": "display_data"
    },
    {
     "data": {
      "application/vnd.plotly.v1+json": {
       "config": {
        "plotlyServerURL": "https://plot.ly"
       },
       "data": [
        {
         "hovertemplate": "Department=%{x}<br>Attritions=%{marker.color}<extra></extra>",
         "legendgroup": "",
         "marker": {
          "color": {
           "bdata": "DAkEDg==",
           "dtype": "i1"
          },
          "coloraxis": "coloraxis",
          "pattern": {
           "shape": ""
          }
         },
         "name": "",
         "orientation": "v",
         "showlegend": false,
         "textposition": "auto",
         "type": "bar",
         "x": [
          "Engineering",
          "HR",
          "Marketing",
          "Sales"
         ],
         "xaxis": "x",
         "y": {
          "bdata": "DAkEDg==",
          "dtype": "i1"
         },
         "yaxis": "y"
        }
       ],
       "layout": {
        "barmode": "relative",
        "coloraxis": {
         "colorbar": {
          "title": {
           "text": "Attritions"
          }
         },
         "colorscale": [
          [
           0,
           "#0d0887"
          ],
          [
           0.1111111111111111,
           "#46039f"
          ],
          [
           0.2222222222222222,
           "#7201a8"
          ],
          [
           0.3333333333333333,
           "#9c179e"
          ],
          [
           0.4444444444444444,
           "#bd3786"
          ],
          [
           0.5555555555555556,
           "#d8576b"
          ],
          [
           0.6666666666666666,
           "#ed7953"
          ],
          [
           0.7777777777777778,
           "#fb9f3a"
          ],
          [
           0.8888888888888888,
           "#fdca26"
          ],
          [
           1,
           "#f0f921"
          ]
         ]
        },
        "legend": {
         "tracegroupgap": 0
        },
        "template": {
         "data": {
          "bar": [
           {
            "error_x": {
             "color": "#2a3f5f"
            },
            "error_y": {
             "color": "#2a3f5f"
            },
            "marker": {
             "line": {
              "color": "#E5ECF6",
              "width": 0.5
             },
             "pattern": {
              "fillmode": "overlay",
              "size": 10,
              "solidity": 0.2
             }
            },
            "type": "bar"
           }
          ],
          "barpolar": [
           {
            "marker": {
             "line": {
              "color": "#E5ECF6",
              "width": 0.5
             },
             "pattern": {
              "fillmode": "overlay",
              "size": 10,
              "solidity": 0.2
             }
            },
            "type": "barpolar"
           }
          ],
          "carpet": [
           {
            "aaxis": {
             "endlinecolor": "#2a3f5f",
             "gridcolor": "white",
             "linecolor": "white",
             "minorgridcolor": "white",
             "startlinecolor": "#2a3f5f"
            },
            "baxis": {
             "endlinecolor": "#2a3f5f",
             "gridcolor": "white",
             "linecolor": "white",
             "minorgridcolor": "white",
             "startlinecolor": "#2a3f5f"
            },
            "type": "carpet"
           }
          ],
          "choropleth": [
           {
            "colorbar": {
             "outlinewidth": 0,
             "ticks": ""
            },
            "type": "choropleth"
           }
          ],
          "contour": [
           {
            "colorbar": {
             "outlinewidth": 0,
             "ticks": ""
            },
            "colorscale": [
             [
              0,
              "#0d0887"
             ],
             [
              0.1111111111111111,
              "#46039f"
             ],
             [
              0.2222222222222222,
              "#7201a8"
             ],
             [
              0.3333333333333333,
              "#9c179e"
             ],
             [
              0.4444444444444444,
              "#bd3786"
             ],
             [
              0.5555555555555556,
              "#d8576b"
             ],
             [
              0.6666666666666666,
              "#ed7953"
             ],
             [
              0.7777777777777778,
              "#fb9f3a"
             ],
             [
              0.8888888888888888,
              "#fdca26"
             ],
             [
              1,
              "#f0f921"
             ]
            ],
            "type": "contour"
           }
          ],
          "contourcarpet": [
           {
            "colorbar": {
             "outlinewidth": 0,
             "ticks": ""
            },
            "type": "contourcarpet"
           }
          ],
          "heatmap": [
           {
            "colorbar": {
             "outlinewidth": 0,
             "ticks": ""
            },
            "colorscale": [
             [
              0,
              "#0d0887"
             ],
             [
              0.1111111111111111,
              "#46039f"
             ],
             [
              0.2222222222222222,
              "#7201a8"
             ],
             [
              0.3333333333333333,
              "#9c179e"
             ],
             [
              0.4444444444444444,
              "#bd3786"
             ],
             [
              0.5555555555555556,
              "#d8576b"
             ],
             [
              0.6666666666666666,
              "#ed7953"
             ],
             [
              0.7777777777777778,
              "#fb9f3a"
             ],
             [
              0.8888888888888888,
              "#fdca26"
             ],
             [
              1,
              "#f0f921"
             ]
            ],
            "type": "heatmap"
           }
          ],
          "histogram": [
           {
            "marker": {
             "pattern": {
              "fillmode": "overlay",
              "size": 10,
              "solidity": 0.2
             }
            },
            "type": "histogram"
           }
          ],
          "histogram2d": [
           {
            "colorbar": {
             "outlinewidth": 0,
             "ticks": ""
            },
            "colorscale": [
             [
              0,
              "#0d0887"
             ],
             [
              0.1111111111111111,
              "#46039f"
             ],
             [
              0.2222222222222222,
              "#7201a8"
             ],
             [
              0.3333333333333333,
              "#9c179e"
             ],
             [
              0.4444444444444444,
              "#bd3786"
             ],
             [
              0.5555555555555556,
              "#d8576b"
             ],
             [
              0.6666666666666666,
              "#ed7953"
             ],
             [
              0.7777777777777778,
              "#fb9f3a"
             ],
             [
              0.8888888888888888,
              "#fdca26"
             ],
             [
              1,
              "#f0f921"
             ]
            ],
            "type": "histogram2d"
           }
          ],
          "histogram2dcontour": [
           {
            "colorbar": {
             "outlinewidth": 0,
             "ticks": ""
            },
            "colorscale": [
             [
              0,
              "#0d0887"
             ],
             [
              0.1111111111111111,
              "#46039f"
             ],
             [
              0.2222222222222222,
              "#7201a8"
             ],
             [
              0.3333333333333333,
              "#9c179e"
             ],
             [
              0.4444444444444444,
              "#bd3786"
             ],
             [
              0.5555555555555556,
              "#d8576b"
             ],
             [
              0.6666666666666666,
              "#ed7953"
             ],
             [
              0.7777777777777778,
              "#fb9f3a"
             ],
             [
              0.8888888888888888,
              "#fdca26"
             ],
             [
              1,
              "#f0f921"
             ]
            ],
            "type": "histogram2dcontour"
           }
          ],
          "mesh3d": [
           {
            "colorbar": {
             "outlinewidth": 0,
             "ticks": ""
            },
            "type": "mesh3d"
           }
          ],
          "parcoords": [
           {
            "line": {
             "colorbar": {
              "outlinewidth": 0,
              "ticks": ""
             }
            },
            "type": "parcoords"
           }
          ],
          "pie": [
           {
            "automargin": true,
            "type": "pie"
           }
          ],
          "scatter": [
           {
            "fillpattern": {
             "fillmode": "overlay",
             "size": 10,
             "solidity": 0.2
            },
            "type": "scatter"
           }
          ],
          "scatter3d": [
           {
            "line": {
             "colorbar": {
              "outlinewidth": 0,
              "ticks": ""
             }
            },
            "marker": {
             "colorbar": {
              "outlinewidth": 0,
              "ticks": ""
             }
            },
            "type": "scatter3d"
           }
          ],
          "scattercarpet": [
           {
            "marker": {
             "colorbar": {
              "outlinewidth": 0,
              "ticks": ""
             }
            },
            "type": "scattercarpet"
           }
          ],
          "scattergeo": [
           {
            "marker": {
             "colorbar": {
              "outlinewidth": 0,
              "ticks": ""
             }
            },
            "type": "scattergeo"
           }
          ],
          "scattergl": [
           {
            "marker": {
             "colorbar": {
              "outlinewidth": 0,
              "ticks": ""
             }
            },
            "type": "scattergl"
           }
          ],
          "scattermap": [
           {
            "marker": {
             "colorbar": {
              "outlinewidth": 0,
              "ticks": ""
             }
            },
            "type": "scattermap"
           }
          ],
          "scattermapbox": [
           {
            "marker": {
             "colorbar": {
              "outlinewidth": 0,
              "ticks": ""
             }
            },
            "type": "scattermapbox"
           }
          ],
          "scatterpolar": [
           {
            "marker": {
             "colorbar": {
              "outlinewidth": 0,
              "ticks": ""
             }
            },
            "type": "scatterpolar"
           }
          ],
          "scatterpolargl": [
           {
            "marker": {
             "colorbar": {
              "outlinewidth": 0,
              "ticks": ""
             }
            },
            "type": "scatterpolargl"
           }
          ],
          "scatterternary": [
           {
            "marker": {
             "colorbar": {
              "outlinewidth": 0,
              "ticks": ""
             }
            },
            "type": "scatterternary"
           }
          ],
          "surface": [
           {
            "colorbar": {
             "outlinewidth": 0,
             "ticks": ""
            },
            "colorscale": [
             [
              0,
              "#0d0887"
             ],
             [
              0.1111111111111111,
              "#46039f"
             ],
             [
              0.2222222222222222,
              "#7201a8"
             ],
             [
              0.3333333333333333,
              "#9c179e"
             ],
             [
              0.4444444444444444,
              "#bd3786"
             ],
             [
              0.5555555555555556,
              "#d8576b"
             ],
             [
              0.6666666666666666,
              "#ed7953"
             ],
             [
              0.7777777777777778,
              "#fb9f3a"
             ],
             [
              0.8888888888888888,
              "#fdca26"
             ],
             [
              1,
              "#f0f921"
             ]
            ],
            "type": "surface"
           }
          ],
          "table": [
           {
            "cells": {
             "fill": {
              "color": "#EBF0F8"
             },
             "line": {
              "color": "white"
             }
            },
            "header": {
             "fill": {
              "color": "#C8D4E3"
             },
             "line": {
              "color": "white"
             }
            },
            "type": "table"
           }
          ]
         },
         "layout": {
          "annotationdefaults": {
           "arrowcolor": "#2a3f5f",
           "arrowhead": 0,
           "arrowwidth": 1
          },
          "autotypenumbers": "strict",
          "coloraxis": {
           "colorbar": {
            "outlinewidth": 0,
            "ticks": ""
           }
          },
          "colorscale": {
           "diverging": [
            [
             0,
             "#8e0152"
            ],
            [
             0.1,
             "#c51b7d"
            ],
            [
             0.2,
             "#de77ae"
            ],
            [
             0.3,
             "#f1b6da"
            ],
            [
             0.4,
             "#fde0ef"
            ],
            [
             0.5,
             "#f7f7f7"
            ],
            [
             0.6,
             "#e6f5d0"
            ],
            [
             0.7,
             "#b8e186"
            ],
            [
             0.8,
             "#7fbc41"
            ],
            [
             0.9,
             "#4d9221"
            ],
            [
             1,
             "#276419"
            ]
           ],
           "sequential": [
            [
             0,
             "#0d0887"
            ],
            [
             0.1111111111111111,
             "#46039f"
            ],
            [
             0.2222222222222222,
             "#7201a8"
            ],
            [
             0.3333333333333333,
             "#9c179e"
            ],
            [
             0.4444444444444444,
             "#bd3786"
            ],
            [
             0.5555555555555556,
             "#d8576b"
            ],
            [
             0.6666666666666666,
             "#ed7953"
            ],
            [
             0.7777777777777778,
             "#fb9f3a"
            ],
            [
             0.8888888888888888,
             "#fdca26"
            ],
            [
             1,
             "#f0f921"
            ]
           ],
           "sequentialminus": [
            [
             0,
             "#0d0887"
            ],
            [
             0.1111111111111111,
             "#46039f"
            ],
            [
             0.2222222222222222,
             "#7201a8"
            ],
            [
             0.3333333333333333,
             "#9c179e"
            ],
            [
             0.4444444444444444,
             "#bd3786"
            ],
            [
             0.5555555555555556,
             "#d8576b"
            ],
            [
             0.6666666666666666,
             "#ed7953"
            ],
            [
             0.7777777777777778,
             "#fb9f3a"
            ],
            [
             0.8888888888888888,
             "#fdca26"
            ],
            [
             1,
             "#f0f921"
            ]
           ]
          },
          "colorway": [
           "#636efa",
           "#EF553B",
           "#00cc96",
           "#ab63fa",
           "#FFA15A",
           "#19d3f3",
           "#FF6692",
           "#B6E880",
           "#FF97FF",
           "#FECB52"
          ],
          "font": {
           "color": "#2a3f5f"
          },
          "geo": {
           "bgcolor": "white",
           "lakecolor": "white",
           "landcolor": "#E5ECF6",
           "showlakes": true,
           "showland": true,
           "subunitcolor": "white"
          },
          "hoverlabel": {
           "align": "left"
          },
          "hovermode": "closest",
          "mapbox": {
           "style": "light"
          },
          "paper_bgcolor": "white",
          "plot_bgcolor": "#E5ECF6",
          "polar": {
           "angularaxis": {
            "gridcolor": "white",
            "linecolor": "white",
            "ticks": ""
           },
           "bgcolor": "#E5ECF6",
           "radialaxis": {
            "gridcolor": "white",
            "linecolor": "white",
            "ticks": ""
           }
          },
          "scene": {
           "xaxis": {
            "backgroundcolor": "#E5ECF6",
            "gridcolor": "white",
            "gridwidth": 2,
            "linecolor": "white",
            "showbackground": true,
            "ticks": "",
            "zerolinecolor": "white"
           },
           "yaxis": {
            "backgroundcolor": "#E5ECF6",
            "gridcolor": "white",
            "gridwidth": 2,
            "linecolor": "white",
            "showbackground": true,
            "ticks": "",
            "zerolinecolor": "white"
           },
           "zaxis": {
            "backgroundcolor": "#E5ECF6",
            "gridcolor": "white",
            "gridwidth": 2,
            "linecolor": "white",
            "showbackground": true,
            "ticks": "",
            "zerolinecolor": "white"
           }
          },
          "shapedefaults": {
           "line": {
            "color": "#2a3f5f"
           }
          },
          "ternary": {
           "aaxis": {
            "gridcolor": "white",
            "linecolor": "white",
            "ticks": ""
           },
           "baxis": {
            "gridcolor": "white",
            "linecolor": "white",
            "ticks": ""
           },
           "bgcolor": "#E5ECF6",
           "caxis": {
            "gridcolor": "white",
            "linecolor": "white",
            "ticks": ""
           }
          },
          "title": {
           "x": 0.05
          },
          "xaxis": {
           "automargin": true,
           "gridcolor": "white",
           "linecolor": "white",
           "ticks": "",
           "title": {
            "standoff": 15
           },
           "zerolinecolor": "white",
           "zerolinewidth": 2
          },
          "yaxis": {
           "automargin": true,
           "gridcolor": "white",
           "linecolor": "white",
           "ticks": "",
           "title": {
            "standoff": 15
           },
           "zerolinecolor": "white",
           "zerolinewidth": 2
          }
         }
        },
        "title": {
         "text": "Department-wise Attrition Count"
        },
        "xaxis": {
         "anchor": "y",
         "domain": [
          0,
          1
         ],
         "title": {
          "text": "Department"
         }
        },
        "yaxis": {
         "anchor": "x",
         "domain": [
          0,
          1
         ],
         "title": {
          "text": "Attritions"
         }
        }
       }
      }
     },
     "metadata": {},
     "output_type": "display_data"
    },
    {
     "data": {
      "application/vnd.plotly.v1+json": {
       "config": {
        "plotlyServerURL": "https://plot.ly"
       },
       "data": [
        {
         "customdata": {
          "bdata": "AQUJDBAUFxwfIigsMDM4PUFDSExPU1dcX2I=",
          "dtype": "i1",
          "shape": "26, 1"
         },
         "hovertemplate": "Department=Sales<br>Salary=%{x}<br>PerformanceScore=%{y}<br>EmployeeID=%{customdata[0]}<extra></extra>",
         "legendgroup": "Sales",
         "marker": {
          "color": "#636efa",
          "symbol": "circle"
         },
         "mode": "markers",
         "name": "Sales",
         "orientation": "v",
         "showlegend": true,
         "type": "scatter",
         "x": {
          "bdata": "2NYAAPgkAQDILAEACM8AAMDaAACYNAEA4CgBAMgsAQCAOAEACEwBAPDSAABoPAEAoAkBAAjPAACAuwAAUMMAAOAoAQDA2gAAeOYAAKAJAQAw8gAAsDABAIA4AQDA2gAAeOYAAPgkAQA=",
          "dtype": "i4"
         },
         "xaxis": "x",
         "y": {
          "bdata": "UFhUS09TWFVaWEtaUkZITlpPTVlQWVtMTlk=",
          "dtype": "i1"
         },
         "yaxis": "y"
        },
        {
         "customdata": {
          "bdata": "AgYLDhMYGyAkJyovNDc7PkJFSU1QVFldYGM=",
          "dtype": "i1",
          "shape": "26, 1"
         },
         "hovertemplate": "Department=HR<br>Salary=%{x}<br>PerformanceScore=%{y}<br>EmployeeID=%{customdata[0]}<extra></extra>",
         "legendgroup": "HR",
         "marker": {
          "color": "#EF553B",
          "symbol": "circle"
         },
         "mode": "markers",
         "name": "HR",
         "orientation": "v",
         "showlegend": true,
         "type": "scatter",
         "x": {
          "bdata": "YOoAAMivAAAw8gAAcBEBAPinAACIDQEA2NYAABj2AAAoHQEAiA0BALgFAQD4JAEAoAkBABj2AABg6gAAuAUBAFgVAQBAGQEA6P0AAIgNAQDY1gAAGPYAAKAJAQC4BQEACM8AAHARAQA=",
          "dtype": "i4"
         },
         "xaxis": "x",
         "y": {
          "bdata": "VUZGUEhZTU5VUVhWWExQUlRWUlZOVFFVT1c=",
          "dtype": "i1"
         },
         "yaxis": "y"
        },
        {
         "customdata": {
          "bdata": "AwcKDxEVGR0hJSktMTU5PEBER0pOUVVYW15hZA==",
          "dtype": "i1",
          "shape": "28, 1"
         },
         "hovertemplate": "Department=Engineering<br>Salary=%{x}<br>PerformanceScore=%{y}<br>EmployeeID=%{customdata[0]}<extra></extra>",
         "legendgroup": "Engineering",
         "marker": {
          "color": "#00cc96",
          "symbol": "circle"
         },
         "mode": "markers",
         "name": "Engineering",
         "orientation": "v",
         "showlegend": true,
         "type": "scatter",
         "x": {
          "bdata": "gDgBABhzAQAITAEAgDgBAFBAAQDYUwEAYGcBAMBXAQBQQAEAeGMBAPBPAQAwbwEAeGMBANhTAQDAVwEASGsBAAhMAQBIawEA2FMBAJBfAQAwbwEAwFcBADBvAQDYUwEAMG8BAPBPAQB4YwEA2FMBAA==",
          "dtype": "i4"
         },
         "xaxis": "x",
         "y": {
          "bdata": "X1xaX1tWXVxPXl1eW1xdX1tdXF5cXVxaXVhcWw==",
          "dtype": "i1"
         },
         "yaxis": "y"
        },
        {
         "customdata": {
          "bdata": "BAgNEhYaHiMmKy4yNjo/RktSVlo=",
          "dtype": "i1",
          "shape": "20, 1"
         },
         "hovertemplate": "Department=Marketing<br>Salary=%{x}<br>PerformanceScore=%{y}<br>EmployeeID=%{customdata[0]}<extra></extra>",
         "legendgroup": "Marketing",
         "marker": {
          "color": "#ab63fa",
          "symbol": "circle"
         },
         "mode": "markers",
         "name": "Marketing",
         "orientation": "v",
         "showlegend": true,
         "type": "scatter",
         "x": {
          "bdata": "6P0AAHARAQBYFQEA+CQBAOj9AABAGQEAWBUBALgFAQBwEQEAiA0BACgdAQDo/QAA4CgBAEAZAQAQIQEAoAkBACgdAQBAGQEAcBEBAIgNAQA=",
          "dtype": "i4"
         },
         "xaxis": "x",
         "y": {
          "bdata": "TlJXVVBQVFBWT1NQWVNXUVhVV1A=",
          "dtype": "i1"
         },
         "yaxis": "y"
        }
       ],
       "layout": {
        "legend": {
         "title": {
          "text": "Department"
         },
         "tracegroupgap": 0
        },
        "template": {
         "data": {
          "bar": [
           {
            "error_x": {
             "color": "#2a3f5f"
            },
            "error_y": {
             "color": "#2a3f5f"
            },
            "marker": {
             "line": {
              "color": "#E5ECF6",
              "width": 0.5
             },
             "pattern": {
              "fillmode": "overlay",
              "size": 10,
              "solidity": 0.2
             }
            },
            "type": "bar"
           }
          ],
          "barpolar": [
           {
            "marker": {
             "line": {
              "color": "#E5ECF6",
              "width": 0.5
             },
             "pattern": {
              "fillmode": "overlay",
              "size": 10,
              "solidity": 0.2
             }
            },
            "type": "barpolar"
           }
          ],
          "carpet": [
           {
            "aaxis": {
             "endlinecolor": "#2a3f5f",
             "gridcolor": "white",
             "linecolor": "white",
             "minorgridcolor": "white",
             "startlinecolor": "#2a3f5f"
            },
            "baxis": {
             "endlinecolor": "#2a3f5f",
             "gridcolor": "white",
             "linecolor": "white",
             "minorgridcolor": "white",
             "startlinecolor": "#2a3f5f"
            },
            "type": "carpet"
           }
          ],
          "choropleth": [
           {
            "colorbar": {
             "outlinewidth": 0,
             "ticks": ""
            },
            "type": "choropleth"
           }
          ],
          "contour": [
           {
            "colorbar": {
             "outlinewidth": 0,
             "ticks": ""
            },
            "colorscale": [
             [
              0,
              "#0d0887"
             ],
             [
              0.1111111111111111,
              "#46039f"
             ],
             [
              0.2222222222222222,
              "#7201a8"
             ],
             [
              0.3333333333333333,
              "#9c179e"
             ],
             [
              0.4444444444444444,
              "#bd3786"
             ],
             [
              0.5555555555555556,
              "#d8576b"
             ],
             [
              0.6666666666666666,
              "#ed7953"
             ],
             [
              0.7777777777777778,
              "#fb9f3a"
             ],
             [
              0.8888888888888888,
              "#fdca26"
             ],
             [
              1,
              "#f0f921"
             ]
            ],
            "type": "contour"
           }
          ],
          "contourcarpet": [
           {
            "colorbar": {
             "outlinewidth": 0,
             "ticks": ""
            },
            "type": "contourcarpet"
           }
          ],
          "heatmap": [
           {
            "colorbar": {
             "outlinewidth": 0,
             "ticks": ""
            },
            "colorscale": [
             [
              0,
              "#0d0887"
             ],
             [
              0.1111111111111111,
              "#46039f"
             ],
             [
              0.2222222222222222,
              "#7201a8"
             ],
             [
              0.3333333333333333,
              "#9c179e"
             ],
             [
              0.4444444444444444,
              "#bd3786"
             ],
             [
              0.5555555555555556,
              "#d8576b"
             ],
             [
              0.6666666666666666,
              "#ed7953"
             ],
             [
              0.7777777777777778,
              "#fb9f3a"
             ],
             [
              0.8888888888888888,
              "#fdca26"
             ],
             [
              1,
              "#f0f921"
             ]
            ],
            "type": "heatmap"
           }
          ],
          "histogram": [
           {
            "marker": {
             "pattern": {
              "fillmode": "overlay",
              "size": 10,
              "solidity": 0.2
             }
            },
            "type": "histogram"
           }
          ],
          "histogram2d": [
           {
            "colorbar": {
             "outlinewidth": 0,
             "ticks": ""
            },
            "colorscale": [
             [
              0,
              "#0d0887"
             ],
             [
              0.1111111111111111,
              "#46039f"
             ],
             [
              0.2222222222222222,
              "#7201a8"
             ],
             [
              0.3333333333333333,
              "#9c179e"
             ],
             [
              0.4444444444444444,
              "#bd3786"
             ],
             [
              0.5555555555555556,
              "#d8576b"
             ],
             [
              0.6666666666666666,
              "#ed7953"
             ],
             [
              0.7777777777777778,
              "#fb9f3a"
             ],
             [
              0.8888888888888888,
              "#fdca26"
             ],
             [
              1,
              "#f0f921"
             ]
            ],
            "type": "histogram2d"
           }
          ],
          "histogram2dcontour": [
           {
            "colorbar": {
             "outlinewidth": 0,
             "ticks": ""
            },
            "colorscale": [
             [
              0,
              "#0d0887"
             ],
             [
              0.1111111111111111,
              "#46039f"
             ],
             [
              0.2222222222222222,
              "#7201a8"
             ],
             [
              0.3333333333333333,
              "#9c179e"
             ],
             [
              0.4444444444444444,
              "#bd3786"
             ],
             [
              0.5555555555555556,
              "#d8576b"
             ],
             [
              0.6666666666666666,
              "#ed7953"
             ],
             [
              0.7777777777777778,
              "#fb9f3a"
             ],
             [
              0.8888888888888888,
              "#fdca26"
             ],
             [
              1,
              "#f0f921"
             ]
            ],
            "type": "histogram2dcontour"
           }
          ],
          "mesh3d": [
           {
            "colorbar": {
             "outlinewidth": 0,
             "ticks": ""
            },
            "type": "mesh3d"
           }
          ],
          "parcoords": [
           {
            "line": {
             "colorbar": {
              "outlinewidth": 0,
              "ticks": ""
             }
            },
            "type": "parcoords"
           }
          ],
          "pie": [
           {
            "automargin": true,
            "type": "pie"
           }
          ],
          "scatter": [
           {
            "fillpattern": {
             "fillmode": "overlay",
             "size": 10,
             "solidity": 0.2
            },
            "type": "scatter"
           }
          ],
          "scatter3d": [
           {
            "line": {
             "colorbar": {
              "outlinewidth": 0,
              "ticks": ""
             }
            },
            "marker": {
             "colorbar": {
              "outlinewidth": 0,
              "ticks": ""
             }
            },
            "type": "scatter3d"
           }
          ],
          "scattercarpet": [
           {
            "marker": {
             "colorbar": {
              "outlinewidth": 0,
              "ticks": ""
             }
            },
            "type": "scattercarpet"
           }
          ],
          "scattergeo": [
           {
            "marker": {
             "colorbar": {
              "outlinewidth": 0,
              "ticks": ""
             }
            },
            "type": "scattergeo"
           }
          ],
          "scattergl": [
           {
            "marker": {
             "colorbar": {
              "outlinewidth": 0,
              "ticks": ""
             }
            },
            "type": "scattergl"
           }
          ],
          "scattermap": [
           {
            "marker": {
             "colorbar": {
              "outlinewidth": 0,
              "ticks": ""
             }
            },
            "type": "scattermap"
           }
          ],
          "scattermapbox": [
           {
            "marker": {
             "colorbar": {
              "outlinewidth": 0,
              "ticks": ""
             }
            },
            "type": "scattermapbox"
           }
          ],
          "scatterpolar": [
           {
            "marker": {
             "colorbar": {
              "outlinewidth": 0,
              "ticks": ""
             }
            },
            "type": "scatterpolar"
           }
          ],
          "scatterpolargl": [
           {
            "marker": {
             "colorbar": {
              "outlinewidth": 0,
              "ticks": ""
             }
            },
            "type": "scatterpolargl"
           }
          ],
          "scatterternary": [
           {
            "marker": {
             "colorbar": {
              "outlinewidth": 0,
              "ticks": ""
             }
            },
            "type": "scatterternary"
           }
          ],
          "surface": [
           {
            "colorbar": {
             "outlinewidth": 0,
             "ticks": ""
            },
            "colorscale": [
             [
              0,
              "#0d0887"
             ],
             [
              0.1111111111111111,
              "#46039f"
             ],
             [
              0.2222222222222222,
              "#7201a8"
             ],
             [
              0.3333333333333333,
              "#9c179e"
             ],
             [
              0.4444444444444444,
              "#bd3786"
             ],
             [
              0.5555555555555556,
              "#d8576b"
             ],
             [
              0.6666666666666666,
              "#ed7953"
             ],
             [
              0.7777777777777778,
              "#fb9f3a"
             ],
             [
              0.8888888888888888,
              "#fdca26"
             ],
             [
              1,
              "#f0f921"
             ]
            ],
            "type": "surface"
           }
          ],
          "table": [
           {
            "cells": {
             "fill": {
              "color": "#EBF0F8"
             },
             "line": {
              "color": "white"
             }
            },
            "header": {
             "fill": {
              "color": "#C8D4E3"
             },
             "line": {
              "color": "white"
             }
            },
            "type": "table"
           }
          ]
         },
         "layout": {
          "annotationdefaults": {
           "arrowcolor": "#2a3f5f",
           "arrowhead": 0,
           "arrowwidth": 1
          },
          "autotypenumbers": "strict",
          "coloraxis": {
           "colorbar": {
            "outlinewidth": 0,
            "ticks": ""
           }
          },
          "colorscale": {
           "diverging": [
            [
             0,
             "#8e0152"
            ],
            [
             0.1,
             "#c51b7d"
            ],
            [
             0.2,
             "#de77ae"
            ],
            [
             0.3,
             "#f1b6da"
            ],
            [
             0.4,
             "#fde0ef"
            ],
            [
             0.5,
             "#f7f7f7"
            ],
            [
             0.6,
             "#e6f5d0"
            ],
            [
             0.7,
             "#b8e186"
            ],
            [
             0.8,
             "#7fbc41"
            ],
            [
             0.9,
             "#4d9221"
            ],
            [
             1,
             "#276419"
            ]
           ],
           "sequential": [
            [
             0,
             "#0d0887"
            ],
            [
             0.1111111111111111,
             "#46039f"
            ],
            [
             0.2222222222222222,
             "#7201a8"
            ],
            [
             0.3333333333333333,
             "#9c179e"
            ],
            [
             0.4444444444444444,
             "#bd3786"
            ],
            [
             0.5555555555555556,
             "#d8576b"
            ],
            [
             0.6666666666666666,
             "#ed7953"
            ],
            [
             0.7777777777777778,
             "#fb9f3a"
            ],
            [
             0.8888888888888888,
             "#fdca26"
            ],
            [
             1,
             "#f0f921"
            ]
           ],
           "sequentialminus": [
            [
             0,
             "#0d0887"
            ],
            [
             0.1111111111111111,
             "#46039f"
            ],
            [
             0.2222222222222222,
             "#7201a8"
            ],
            [
             0.3333333333333333,
             "#9c179e"
            ],
            [
             0.4444444444444444,
             "#bd3786"
            ],
            [
             0.5555555555555556,
             "#d8576b"
            ],
            [
             0.6666666666666666,
             "#ed7953"
            ],
            [
             0.7777777777777778,
             "#fb9f3a"
            ],
            [
             0.8888888888888888,
             "#fdca26"
            ],
            [
             1,
             "#f0f921"
            ]
           ]
          },
          "colorway": [
           "#636efa",
           "#EF553B",
           "#00cc96",
           "#ab63fa",
           "#FFA15A",
           "#19d3f3",
           "#FF6692",
           "#B6E880",
           "#FF97FF",
           "#FECB52"
          ],
          "font": {
           "color": "#2a3f5f"
          },
          "geo": {
           "bgcolor": "white",
           "lakecolor": "white",
           "landcolor": "#E5ECF6",
           "showlakes": true,
           "showland": true,
           "subunitcolor": "white"
          },
          "hoverlabel": {
           "align": "left"
          },
          "hovermode": "closest",
          "mapbox": {
           "style": "light"
          },
          "paper_bgcolor": "white",
          "plot_bgcolor": "#E5ECF6",
          "polar": {
           "angularaxis": {
            "gridcolor": "white",
            "linecolor": "white",
            "ticks": ""
           },
           "bgcolor": "#E5ECF6",
           "radialaxis": {
            "gridcolor": "white",
            "linecolor": "white",
            "ticks": ""
           }
          },
          "scene": {
           "xaxis": {
            "backgroundcolor": "#E5ECF6",
            "gridcolor": "white",
            "gridwidth": 2,
            "linecolor": "white",
            "showbackground": true,
            "ticks": "",
            "zerolinecolor": "white"
           },
           "yaxis": {
            "backgroundcolor": "#E5ECF6",
            "gridcolor": "white",
            "gridwidth": 2,
            "linecolor": "white",
            "showbackground": true,
            "ticks": "",
            "zerolinecolor": "white"
           },
           "zaxis": {
            "backgroundcolor": "#E5ECF6",
            "gridcolor": "white",
            "gridwidth": 2,
            "linecolor": "white",
            "showbackground": true,
            "ticks": "",
            "zerolinecolor": "white"
           }
          },
          "shapedefaults": {
           "line": {
            "color": "#2a3f5f"
           }
          },
          "ternary": {
           "aaxis": {
            "gridcolor": "white",
            "linecolor": "white",
            "ticks": ""
           },
           "baxis": {
            "gridcolor": "white",
            "linecolor": "white",
            "ticks": ""
           },
           "bgcolor": "#E5ECF6",
           "caxis": {
            "gridcolor": "white",
            "linecolor": "white",
            "ticks": ""
           }
          },
          "title": {
           "x": 0.05
          },
          "xaxis": {
           "automargin": true,
           "gridcolor": "white",
           "linecolor": "white",
           "ticks": "",
           "title": {
            "standoff": 15
           },
           "zerolinecolor": "white",
           "zerolinewidth": 2
          },
          "yaxis": {
           "automargin": true,
           "gridcolor": "white",
           "linecolor": "white",
           "ticks": "",
           "title": {
            "standoff": 15
           },
           "zerolinecolor": "white",
           "zerolinewidth": 2
          }
         }
        },
        "title": {
         "text": "Salary vs Performance Score"
        },
        "xaxis": {
         "anchor": "y",
         "domain": [
          0,
          1
         ],
         "title": {
          "text": "Salary"
         }
        },
        "yaxis": {
         "anchor": "x",
         "domain": [
          0,
          1
         ],
         "title": {
          "text": "PerformanceScore"
         }
        }
       }
      }
     },
     "metadata": {},
     "output_type": "display_data"
    }
   ],
   "source": [
    "import plotly.express as px\n",
    "# Line Plot: Average performance score trend by year\n",
    "line_data = employee_df.groupby('YearsAtCompany')['PerformanceScore'].mean().reset_index()\n",
    "line_plot = px.line(line_data, x='YearsAtCompany', y='PerformanceScore',\n",
    "                    title='Average Performance Score Over Time',\n",
    "                    markers=True)\n",
    "\n",
    "# Bar Chart: Attrition count by department\n",
    "bar_data = employee_df[employee_df['Attrition'] == 1].groupby('Department').size().reset_index(name='Attritions')\n",
    "bar_plot = px.bar(bar_data, x='Department', y='Attritions',\n",
    "                  title='Department-wise Attrition Count',\n",
    "                  color='Attritions')\n",
    "\n",
    "# Scatter Plot: Salary vs. Performance Score\n",
    "scatter_plot = px.scatter(employee_df, x='Salary', y='PerformanceScore',\n",
    "                          color='Department', hover_data=['EmployeeID'],\n",
    "                          title='Salary vs Performance Score')\n",
    "\n",
    "line_plot.show()\n",
    "bar_plot.show()\n",
    "scatter_plot.show()\n"
   ]
  },
  {
   "cell_type": "code",
   "execution_count": null,
   "id": "8ed04044",
   "metadata": {},
   "outputs": [],
   "source": []
  }
 ],
 "metadata": {
  "kernelspec": {
   "display_name": ".venv",
   "language": "python",
   "name": "python3"
  },
  "language_info": {
   "codemirror_mode": {
    "name": "ipython",
    "version": 3
   },
   "file_extension": ".py",
   "mimetype": "text/x-python",
   "name": "python",
   "nbconvert_exporter": "python",
   "pygments_lexer": "ipython3",
   "version": "3.11.9"
  }
 },
 "nbformat": 4,
 "nbformat_minor": 5
}
